{
 "cells": [
  {
   "cell_type": "code",
   "execution_count": 4,
   "metadata": {},
   "outputs": [],
   "source": [
    "import pandas as pd\n",
    "import numpy as np\n",
    "import matplotlib.pyplot as plt\n",
    "import seaborn as sns\n",
    "%matplotlib inline"
   ]
  },
  {
   "cell_type": "code",
   "execution_count": 5,
   "metadata": {},
   "outputs": [],
   "source": [
    "df=pd.read_csv('sensor_data(2).csv')"
   ]
  },
  {
   "cell_type": "code",
   "execution_count": 6,
   "metadata": {},
   "outputs": [
    {
     "data": {
      "text/html": [
       "<div>\n",
       "<style scoped>\n",
       "    .dataframe tbody tr th:only-of-type {\n",
       "        vertical-align: middle;\n",
       "    }\n",
       "\n",
       "    .dataframe tbody tr th {\n",
       "        vertical-align: top;\n",
       "    }\n",
       "\n",
       "    .dataframe thead th {\n",
       "        text-align: right;\n",
       "    }\n",
       "</style>\n",
       "<table border=\"1\" class=\"dataframe\">\n",
       "  <thead>\n",
       "    <tr style=\"text-align: right;\">\n",
       "      <th></th>\n",
       "      <th>Timestamp</th>\n",
       "      <th>Boiler Name</th>\n",
       "      <th>Temperature</th>\n",
       "      <th>Anomaly</th>\n",
       "    </tr>\n",
       "  </thead>\n",
       "  <tbody>\n",
       "    <tr>\n",
       "      <th>0</th>\n",
       "      <td>2023-01-23 00:58:20</td>\n",
       "      <td>Boiler A</td>\n",
       "      <td>20.180428</td>\n",
       "      <td>0</td>\n",
       "    </tr>\n",
       "    <tr>\n",
       "      <th>1</th>\n",
       "      <td>2023-01-30 06:30:08</td>\n",
       "      <td>Boiler A</td>\n",
       "      <td>23.372948</td>\n",
       "      <td>0</td>\n",
       "    </tr>\n",
       "    <tr>\n",
       "      <th>2</th>\n",
       "      <td>2023-01-03 10:47:23</td>\n",
       "      <td>Boiler A</td>\n",
       "      <td>29.858208</td>\n",
       "      <td>0</td>\n",
       "    </tr>\n",
       "    <tr>\n",
       "      <th>3</th>\n",
       "      <td>2023-01-03 17:10:50</td>\n",
       "      <td>Boiler C</td>\n",
       "      <td>20.564032</td>\n",
       "      <td>0</td>\n",
       "    </tr>\n",
       "    <tr>\n",
       "      <th>4</th>\n",
       "      <td>2023-01-04 17:50:22</td>\n",
       "      <td>Boiler D</td>\n",
       "      <td>23.547024</td>\n",
       "      <td>0</td>\n",
       "    </tr>\n",
       "  </tbody>\n",
       "</table>\n",
       "</div>"
      ],
      "text/plain": [
       "             Timestamp Boiler Name  Temperature  Anomaly\n",
       "0  2023-01-23 00:58:20    Boiler A    20.180428        0\n",
       "1  2023-01-30 06:30:08    Boiler A    23.372948        0\n",
       "2  2023-01-03 10:47:23    Boiler A    29.858208        0\n",
       "3  2023-01-03 17:10:50    Boiler C    20.564032        0\n",
       "4  2023-01-04 17:50:22    Boiler D    23.547024        0"
      ]
     },
     "execution_count": 6,
     "metadata": {},
     "output_type": "execute_result"
    }
   ],
   "source": [
    "df.head()"
   ]
  },
  {
   "cell_type": "code",
   "execution_count": 7,
   "metadata": {},
   "outputs": [
    {
     "name": "stdout",
     "output_type": "stream",
     "text": [
      "<class 'pandas.core.frame.DataFrame'>\n",
      "RangeIndex: 1000 entries, 0 to 999\n",
      "Data columns (total 4 columns):\n",
      " #   Column       Non-Null Count  Dtype  \n",
      "---  ------       --------------  -----  \n",
      " 0   Timestamp    1000 non-null   object \n",
      " 1   Boiler Name  1000 non-null   object \n",
      " 2   Temperature  1000 non-null   float64\n",
      " 3   Anomaly      1000 non-null   int64  \n",
      "dtypes: float64(1), int64(1), object(2)\n",
      "memory usage: 31.4+ KB\n"
     ]
    }
   ],
   "source": [
    "df.info()"
   ]
  },
  {
   "cell_type": "code",
   "execution_count": 8,
   "metadata": {},
   "outputs": [],
   "source": [
    "df['Timestamps']=pd.to_datetime(df['Timestamp'])"
   ]
  },
  {
   "cell_type": "code",
   "execution_count": 9,
   "metadata": {},
   "outputs": [],
   "source": [
    "df['year']=df['Timestamps'].apply(lambda x: x.year)\n",
    "df['month']=df['Timestamps'].apply(lambda x: x.month)\n",
    "df['day']=df['Timestamps'].apply(lambda x: x.day)"
   ]
  },
  {
   "cell_type": "code",
   "execution_count": 10,
   "metadata": {},
   "outputs": [
    {
     "data": {
      "text/plain": [
       "array([23, 30,  3,  4, 13, 22, 12, 15, 18, 21, 10, 24, 20,  8,  1, 25,  6,\n",
       "        2, 17,  9, 29, 19, 16,  5, 27, 26, 14,  7, 11, 28], dtype=int64)"
      ]
     },
     "execution_count": 10,
     "metadata": {},
     "output_type": "execute_result"
    }
   ],
   "source": [
    "df['day'].unique()"
   ]
  },
  {
   "cell_type": "code",
   "execution_count": 11,
   "metadata": {},
   "outputs": [],
   "source": [
    "df['time']=df['Timestamps'].apply(lambda x:x.time)"
   ]
  },
  {
   "cell_type": "code",
   "execution_count": 12,
   "metadata": {},
   "outputs": [],
   "source": [
    "df.drop('time',axis=1,inplace=True)"
   ]
  },
  {
   "cell_type": "code",
   "execution_count": 13,
   "metadata": {},
   "outputs": [
    {
     "data": {
      "text/html": [
       "<div>\n",
       "<style scoped>\n",
       "    .dataframe tbody tr th:only-of-type {\n",
       "        vertical-align: middle;\n",
       "    }\n",
       "\n",
       "    .dataframe tbody tr th {\n",
       "        vertical-align: top;\n",
       "    }\n",
       "\n",
       "    .dataframe thead th {\n",
       "        text-align: right;\n",
       "    }\n",
       "</style>\n",
       "<table border=\"1\" class=\"dataframe\">\n",
       "  <thead>\n",
       "    <tr style=\"text-align: right;\">\n",
       "      <th></th>\n",
       "      <th>Timestamp</th>\n",
       "      <th>Boiler Name</th>\n",
       "      <th>Temperature</th>\n",
       "      <th>Anomaly</th>\n",
       "      <th>Timestamps</th>\n",
       "      <th>year</th>\n",
       "      <th>month</th>\n",
       "      <th>day</th>\n",
       "    </tr>\n",
       "  </thead>\n",
       "  <tbody>\n",
       "    <tr>\n",
       "      <th>0</th>\n",
       "      <td>2023-01-23 00:58:20</td>\n",
       "      <td>Boiler A</td>\n",
       "      <td>20.180428</td>\n",
       "      <td>0</td>\n",
       "      <td>2023-01-23 00:58:20</td>\n",
       "      <td>2023</td>\n",
       "      <td>1</td>\n",
       "      <td>23</td>\n",
       "    </tr>\n",
       "    <tr>\n",
       "      <th>1</th>\n",
       "      <td>2023-01-30 06:30:08</td>\n",
       "      <td>Boiler A</td>\n",
       "      <td>23.372948</td>\n",
       "      <td>0</td>\n",
       "      <td>2023-01-30 06:30:08</td>\n",
       "      <td>2023</td>\n",
       "      <td>1</td>\n",
       "      <td>30</td>\n",
       "    </tr>\n",
       "    <tr>\n",
       "      <th>2</th>\n",
       "      <td>2023-01-03 10:47:23</td>\n",
       "      <td>Boiler A</td>\n",
       "      <td>29.858208</td>\n",
       "      <td>0</td>\n",
       "      <td>2023-01-03 10:47:23</td>\n",
       "      <td>2023</td>\n",
       "      <td>1</td>\n",
       "      <td>3</td>\n",
       "    </tr>\n",
       "    <tr>\n",
       "      <th>3</th>\n",
       "      <td>2023-01-03 17:10:50</td>\n",
       "      <td>Boiler C</td>\n",
       "      <td>20.564032</td>\n",
       "      <td>0</td>\n",
       "      <td>2023-01-03 17:10:50</td>\n",
       "      <td>2023</td>\n",
       "      <td>1</td>\n",
       "      <td>3</td>\n",
       "    </tr>\n",
       "    <tr>\n",
       "      <th>4</th>\n",
       "      <td>2023-01-04 17:50:22</td>\n",
       "      <td>Boiler D</td>\n",
       "      <td>23.547024</td>\n",
       "      <td>0</td>\n",
       "      <td>2023-01-04 17:50:22</td>\n",
       "      <td>2023</td>\n",
       "      <td>1</td>\n",
       "      <td>4</td>\n",
       "    </tr>\n",
       "    <tr>\n",
       "      <th>...</th>\n",
       "      <td>...</td>\n",
       "      <td>...</td>\n",
       "      <td>...</td>\n",
       "      <td>...</td>\n",
       "      <td>...</td>\n",
       "      <td>...</td>\n",
       "      <td>...</td>\n",
       "      <td>...</td>\n",
       "    </tr>\n",
       "    <tr>\n",
       "      <th>995</th>\n",
       "      <td>2023-01-11 23:39:44</td>\n",
       "      <td>Boiler A</td>\n",
       "      <td>27.596447</td>\n",
       "      <td>0</td>\n",
       "      <td>2023-01-11 23:39:44</td>\n",
       "      <td>2023</td>\n",
       "      <td>1</td>\n",
       "      <td>11</td>\n",
       "    </tr>\n",
       "    <tr>\n",
       "      <th>996</th>\n",
       "      <td>2023-01-25 01:22:21</td>\n",
       "      <td>Boiler B</td>\n",
       "      <td>19.189359</td>\n",
       "      <td>0</td>\n",
       "      <td>2023-01-25 01:22:21</td>\n",
       "      <td>2023</td>\n",
       "      <td>1</td>\n",
       "      <td>25</td>\n",
       "    </tr>\n",
       "    <tr>\n",
       "      <th>997</th>\n",
       "      <td>2023-01-02 03:47:51</td>\n",
       "      <td>Boiler A</td>\n",
       "      <td>17.157156</td>\n",
       "      <td>0</td>\n",
       "      <td>2023-01-02 03:47:51</td>\n",
       "      <td>2023</td>\n",
       "      <td>1</td>\n",
       "      <td>2</td>\n",
       "    </tr>\n",
       "    <tr>\n",
       "      <th>998</th>\n",
       "      <td>2023-01-07 09:21:22</td>\n",
       "      <td>Boiler B</td>\n",
       "      <td>23.135241</td>\n",
       "      <td>0</td>\n",
       "      <td>2023-01-07 09:21:22</td>\n",
       "      <td>2023</td>\n",
       "      <td>1</td>\n",
       "      <td>7</td>\n",
       "    </tr>\n",
       "    <tr>\n",
       "      <th>999</th>\n",
       "      <td>2023-01-01 07:37:21</td>\n",
       "      <td>Boiler D</td>\n",
       "      <td>19.398653</td>\n",
       "      <td>0</td>\n",
       "      <td>2023-01-01 07:37:21</td>\n",
       "      <td>2023</td>\n",
       "      <td>1</td>\n",
       "      <td>1</td>\n",
       "    </tr>\n",
       "  </tbody>\n",
       "</table>\n",
       "<p>1000 rows × 8 columns</p>\n",
       "</div>"
      ],
      "text/plain": [
       "               Timestamp Boiler Name  Temperature  Anomaly  \\\n",
       "0    2023-01-23 00:58:20    Boiler A    20.180428        0   \n",
       "1    2023-01-30 06:30:08    Boiler A    23.372948        0   \n",
       "2    2023-01-03 10:47:23    Boiler A    29.858208        0   \n",
       "3    2023-01-03 17:10:50    Boiler C    20.564032        0   \n",
       "4    2023-01-04 17:50:22    Boiler D    23.547024        0   \n",
       "..                   ...         ...          ...      ...   \n",
       "995  2023-01-11 23:39:44    Boiler A    27.596447        0   \n",
       "996  2023-01-25 01:22:21    Boiler B    19.189359        0   \n",
       "997  2023-01-02 03:47:51    Boiler A    17.157156        0   \n",
       "998  2023-01-07 09:21:22    Boiler B    23.135241        0   \n",
       "999  2023-01-01 07:37:21    Boiler D    19.398653        0   \n",
       "\n",
       "             Timestamps  year  month  day  \n",
       "0   2023-01-23 00:58:20  2023      1   23  \n",
       "1   2023-01-30 06:30:08  2023      1   30  \n",
       "2   2023-01-03 10:47:23  2023      1    3  \n",
       "3   2023-01-03 17:10:50  2023      1    3  \n",
       "4   2023-01-04 17:50:22  2023      1    4  \n",
       "..                  ...   ...    ...  ...  \n",
       "995 2023-01-11 23:39:44  2023      1   11  \n",
       "996 2023-01-25 01:22:21  2023      1   25  \n",
       "997 2023-01-02 03:47:51  2023      1    2  \n",
       "998 2023-01-07 09:21:22  2023      1    7  \n",
       "999 2023-01-01 07:37:21  2023      1    1  \n",
       "\n",
       "[1000 rows x 8 columns]"
      ]
     },
     "execution_count": 13,
     "metadata": {},
     "output_type": "execute_result"
    }
   ],
   "source": [
    "df"
   ]
  },
  {
   "cell_type": "code",
   "execution_count": 14,
   "metadata": {},
   "outputs": [],
   "source": [
    "df['time'] = df['Timestamps'].dt.strftime('%H:%M:%S')"
   ]
  },
  {
   "cell_type": "code",
   "execution_count": 15,
   "metadata": {},
   "outputs": [],
   "source": [
    "df.drop('Timestamp',axis=1,inplace=True)"
   ]
  },
  {
   "cell_type": "code",
   "execution_count": 16,
   "metadata": {},
   "outputs": [
    {
     "name": "stdout",
     "output_type": "stream",
     "text": [
      "<class 'pandas.core.frame.DataFrame'>\n",
      "RangeIndex: 1000 entries, 0 to 999\n",
      "Data columns (total 8 columns):\n",
      " #   Column       Non-Null Count  Dtype         \n",
      "---  ------       --------------  -----         \n",
      " 0   Boiler Name  1000 non-null   object        \n",
      " 1   Temperature  1000 non-null   float64       \n",
      " 2   Anomaly      1000 non-null   int64         \n",
      " 3   Timestamps   1000 non-null   datetime64[ns]\n",
      " 4   year         1000 non-null   int64         \n",
      " 5   month        1000 non-null   int64         \n",
      " 6   day          1000 non-null   int64         \n",
      " 7   time         1000 non-null   object        \n",
      "dtypes: datetime64[ns](1), float64(1), int64(4), object(2)\n",
      "memory usage: 62.6+ KB\n"
     ]
    }
   ],
   "source": [
    "df.info()"
   ]
  },
  {
   "cell_type": "code",
   "execution_count": 17,
   "metadata": {},
   "outputs": [],
   "source": [
    "Boiler_A=df[df['Boiler Name']=='Boiler A']"
   ]
  },
  {
   "cell_type": "code",
   "execution_count": 18,
   "metadata": {},
   "outputs": [
    {
     "data": {
      "text/html": [
       "<div>\n",
       "<style scoped>\n",
       "    .dataframe tbody tr th:only-of-type {\n",
       "        vertical-align: middle;\n",
       "    }\n",
       "\n",
       "    .dataframe tbody tr th {\n",
       "        vertical-align: top;\n",
       "    }\n",
       "\n",
       "    .dataframe thead th {\n",
       "        text-align: right;\n",
       "    }\n",
       "</style>\n",
       "<table border=\"1\" class=\"dataframe\">\n",
       "  <thead>\n",
       "    <tr style=\"text-align: right;\">\n",
       "      <th></th>\n",
       "      <th>Boiler Name</th>\n",
       "      <th>Temperature</th>\n",
       "      <th>Anomaly</th>\n",
       "      <th>Timestamps</th>\n",
       "      <th>year</th>\n",
       "      <th>month</th>\n",
       "      <th>day</th>\n",
       "      <th>time</th>\n",
       "    </tr>\n",
       "  </thead>\n",
       "  <tbody>\n",
       "    <tr>\n",
       "      <th>0</th>\n",
       "      <td>Boiler A</td>\n",
       "      <td>20.180428</td>\n",
       "      <td>0</td>\n",
       "      <td>2023-01-23 00:58:20</td>\n",
       "      <td>2023</td>\n",
       "      <td>1</td>\n",
       "      <td>23</td>\n",
       "      <td>00:58:20</td>\n",
       "    </tr>\n",
       "    <tr>\n",
       "      <th>1</th>\n",
       "      <td>Boiler A</td>\n",
       "      <td>23.372948</td>\n",
       "      <td>0</td>\n",
       "      <td>2023-01-30 06:30:08</td>\n",
       "      <td>2023</td>\n",
       "      <td>1</td>\n",
       "      <td>30</td>\n",
       "      <td>06:30:08</td>\n",
       "    </tr>\n",
       "    <tr>\n",
       "      <th>2</th>\n",
       "      <td>Boiler A</td>\n",
       "      <td>29.858208</td>\n",
       "      <td>0</td>\n",
       "      <td>2023-01-03 10:47:23</td>\n",
       "      <td>2023</td>\n",
       "      <td>1</td>\n",
       "      <td>3</td>\n",
       "      <td>10:47:23</td>\n",
       "    </tr>\n",
       "    <tr>\n",
       "      <th>7</th>\n",
       "      <td>Boiler A</td>\n",
       "      <td>31.072207</td>\n",
       "      <td>0</td>\n",
       "      <td>2023-01-03 23:55:50</td>\n",
       "      <td>2023</td>\n",
       "      <td>1</td>\n",
       "      <td>3</td>\n",
       "      <td>23:55:50</td>\n",
       "    </tr>\n",
       "    <tr>\n",
       "      <th>10</th>\n",
       "      <td>Boiler A</td>\n",
       "      <td>17.730624</td>\n",
       "      <td>0</td>\n",
       "      <td>2023-01-15 08:13:08</td>\n",
       "      <td>2023</td>\n",
       "      <td>1</td>\n",
       "      <td>15</td>\n",
       "      <td>08:13:08</td>\n",
       "    </tr>\n",
       "    <tr>\n",
       "      <th>...</th>\n",
       "      <td>...</td>\n",
       "      <td>...</td>\n",
       "      <td>...</td>\n",
       "      <td>...</td>\n",
       "      <td>...</td>\n",
       "      <td>...</td>\n",
       "      <td>...</td>\n",
       "      <td>...</td>\n",
       "    </tr>\n",
       "    <tr>\n",
       "      <th>979</th>\n",
       "      <td>Boiler A</td>\n",
       "      <td>29.691812</td>\n",
       "      <td>0</td>\n",
       "      <td>2023-01-07 16:19:51</td>\n",
       "      <td>2023</td>\n",
       "      <td>1</td>\n",
       "      <td>7</td>\n",
       "      <td>16:19:51</td>\n",
       "    </tr>\n",
       "    <tr>\n",
       "      <th>987</th>\n",
       "      <td>Boiler A</td>\n",
       "      <td>31.184915</td>\n",
       "      <td>0</td>\n",
       "      <td>2023-01-18 23:03:26</td>\n",
       "      <td>2023</td>\n",
       "      <td>1</td>\n",
       "      <td>18</td>\n",
       "      <td>23:03:26</td>\n",
       "    </tr>\n",
       "    <tr>\n",
       "      <th>991</th>\n",
       "      <td>Boiler A</td>\n",
       "      <td>29.588888</td>\n",
       "      <td>0</td>\n",
       "      <td>2023-01-21 00:09:45</td>\n",
       "      <td>2023</td>\n",
       "      <td>1</td>\n",
       "      <td>21</td>\n",
       "      <td>00:09:45</td>\n",
       "    </tr>\n",
       "    <tr>\n",
       "      <th>995</th>\n",
       "      <td>Boiler A</td>\n",
       "      <td>27.596447</td>\n",
       "      <td>0</td>\n",
       "      <td>2023-01-11 23:39:44</td>\n",
       "      <td>2023</td>\n",
       "      <td>1</td>\n",
       "      <td>11</td>\n",
       "      <td>23:39:44</td>\n",
       "    </tr>\n",
       "    <tr>\n",
       "      <th>997</th>\n",
       "      <td>Boiler A</td>\n",
       "      <td>17.157156</td>\n",
       "      <td>0</td>\n",
       "      <td>2023-01-02 03:47:51</td>\n",
       "      <td>2023</td>\n",
       "      <td>1</td>\n",
       "      <td>2</td>\n",
       "      <td>03:47:51</td>\n",
       "    </tr>\n",
       "  </tbody>\n",
       "</table>\n",
       "<p>233 rows × 8 columns</p>\n",
       "</div>"
      ],
      "text/plain": [
       "    Boiler Name  Temperature  Anomaly          Timestamps  year  month  day  \\\n",
       "0      Boiler A    20.180428        0 2023-01-23 00:58:20  2023      1   23   \n",
       "1      Boiler A    23.372948        0 2023-01-30 06:30:08  2023      1   30   \n",
       "2      Boiler A    29.858208        0 2023-01-03 10:47:23  2023      1    3   \n",
       "7      Boiler A    31.072207        0 2023-01-03 23:55:50  2023      1    3   \n",
       "10     Boiler A    17.730624        0 2023-01-15 08:13:08  2023      1   15   \n",
       "..          ...          ...      ...                 ...   ...    ...  ...   \n",
       "979    Boiler A    29.691812        0 2023-01-07 16:19:51  2023      1    7   \n",
       "987    Boiler A    31.184915        0 2023-01-18 23:03:26  2023      1   18   \n",
       "991    Boiler A    29.588888        0 2023-01-21 00:09:45  2023      1   21   \n",
       "995    Boiler A    27.596447        0 2023-01-11 23:39:44  2023      1   11   \n",
       "997    Boiler A    17.157156        0 2023-01-02 03:47:51  2023      1    2   \n",
       "\n",
       "         time  \n",
       "0    00:58:20  \n",
       "1    06:30:08  \n",
       "2    10:47:23  \n",
       "7    23:55:50  \n",
       "10   08:13:08  \n",
       "..        ...  \n",
       "979  16:19:51  \n",
       "987  23:03:26  \n",
       "991  00:09:45  \n",
       "995  23:39:44  \n",
       "997  03:47:51  \n",
       "\n",
       "[233 rows x 8 columns]"
      ]
     },
     "execution_count": 18,
     "metadata": {},
     "output_type": "execute_result"
    }
   ],
   "source": [
    "Boiler_A"
   ]
  },
  {
   "cell_type": "code",
   "execution_count": 15,
   "metadata": {},
   "outputs": [
    {
     "data": {
      "text/plain": [
       "<Axes: xlabel='Timestamps', ylabel='Temperature'>"
      ]
     },
     "execution_count": 15,
     "metadata": {},
     "output_type": "execute_result"
    },
    {
     "data": {
      "image/png": "[encoded data removed]",
      "text/plain": [
       "<Figure size 640x480 with 1 Axes>"
      ]
     },
     "metadata": {},
     "output_type": "display_data"
    }
   ],
   "source": [
    "sns.lineplot(data=Boiler_A,x=Boiler_A['Timestamps'],y=Boiler_A['Temperature'])"
   ]
  },
  {
   "cell_type": "code",
   "execution_count": 16,
   "metadata": {},
   "outputs": [],
   "source": [
    "import plotly.express as px"
   ]
  },
  {
   "cell_type": "code",
   "execution_count": 28,
   "metadata": {},
   "outputs": [
    {
     "data": {
      "text/plain": [
       "<Axes: xlabel='Temperature', ylabel='Count'>"
      ]
     },
     "execution_count": 28,
     "metadata": {},
     "output_type": "execute_result"
    },
    {
     "data": {
      "image/png": "[encoded data removed]",
      "text/plain": [
       "<Figure size 640x480 with 1 Axes>"
      ]
     },
     "metadata": {},
     "output_type": "display_data"
    }
   ],
   "source": [
    "sns.histplot(Boiler_A['Temperature'],kde=True)"
   ]
  },
  {
   "cell_type": "code",
   "execution_count": 18,
   "metadata": {},
   "outputs": [
    {
     "name": "stderr",
     "output_type": "stream",
     "text": [
      "c:\\Users\\rames\\OneDrive\\Desktop\\guvi-ds\\Hospital-readmission-project\\.venv\\Lib\\site-packages\\_plotly_utils\\basevalidators.py:105: FutureWarning:\n",
      "\n",
      "The behavior of DatetimeProperties.to_pydatetime is deprecated, in a future version this will return a Series containing python datetime objects instead of an ndarray. To retain the old behavior, call `np.array` on the result\n",
      "\n"
     ]
    },
    {
     "data": {
      "application/vnd.plotly.v1+json": {
       "config": {
        "plotlyServerURL": "https://plot.ly"
       },
       "data": [
        {
         "hovertemplate": "Anomaly=0<br>Timestamps=%{x}<br>Temperature=%{y}<extra></extra>",
         "legendgroup": "0",
         "line": {
          "color": "#636efa",
          "dash": "solid"
         },
         "marker": {
          "symbol": "circle"
         },
         "mode": "lines",
         "name": "0",
         "orientation": "v",
         "showlegend": true,
         "type": "scatter",
         "x": [
          "2023-01-23T00:58:20",
          "2023-01-30T06:30:08",
          "2023-01-03T10:47:23",
          "2023-01-03T23:55:50",
          "2023-01-15T08:13:08",
          "2023-01-21T00:54:48",
          "2023-01-10T21:12:20",
          "2023-01-20T01:32:47",
          "2023-01-25T13:22:50",
          "2023-01-06T18:20:20",
          "2023-01-17T15:45:50",
          "2023-01-17T08:00:04",
          "2023-01-04T21:41:02",
          "2023-01-21T11:58:28",
          "2023-01-02T02:49:16",
          "2023-01-05T04:26:39",
          "2023-01-27T21:43:36",
          "2023-01-15T23:49:21",
          "2023-01-10T12:29:06",
          "2023-01-12T20:51:04",
          "2023-01-14T17:58:51",
          "2023-01-04T00:12:17",
          "2023-01-23T01:54:12",
          "2023-01-29T17:04:18",
          "2023-01-09T20:30:20",
          "2023-01-15T14:33:45",
          "2023-01-11T04:06:57",
          "2023-01-23T15:02:05",
          "2023-01-17T14:29:24",
          "2023-01-27T04:47:48",
          "2023-01-07T19:34:29",
          "2023-01-30T12:45:26",
          "2023-01-19T05:40:03",
          "2023-01-15T17:14:16",
          "2023-01-12T19:17:08",
          "2023-01-14T06:19:47",
          "2023-01-14T01:41:42",
          "2023-01-07T19:29:12",
          "2023-01-01T21:39:07",
          "2023-01-25T00:28:01",
          "2023-01-15T09:07:36",
          "2023-01-01T07:12:01",
          "2023-01-22T04:40:54",
          "2023-01-06T03:43:03",
          "2023-01-26T09:45:35",
          "2023-01-03T11:56:43",
          "2023-01-26T23:23:45",
          "2023-01-25T06:02:29",
          "2023-01-22T01:03:25",
          "2023-01-28T20:03:10",
          "2023-01-11T20:52:05",
          "2023-01-13T06:57:21",
          "2023-01-15T06:48:27",
          "2023-01-24T00:38:29",
          "2023-01-17T05:05:13",
          "2023-01-26T12:15:28",
          "2023-01-03T10:28:03",
          "2023-01-16T18:18:11",
          "2023-01-14T14:31:19",
          "2023-01-28T11:18:09",
          "2023-01-24T14:56:39",
          "2023-01-19T12:22:22",
          "2023-01-27T03:01:02",
          "2023-01-20T13:24:23",
          "2023-01-12T21:00:49",
          "2023-01-17T22:34:05",
          "2023-01-07T23:03:59",
          "2023-01-01T14:52:18",
          "2023-01-13T13:01:46",
          "2023-01-13T12:16:25",
          "2023-01-14T07:08:29",
          "2023-01-19T03:45:06",
          "2023-01-07T21:21:57",
          "2023-01-08T17:43:50",
          "2023-01-26T23:07:48",
          "2023-01-12T05:03:00",
          "2023-01-21T10:01:36",
          "2023-01-24T15:28:46",
          "2023-01-02T12:41:51",
          "2023-01-10T10:45:18",
          "2023-01-06T08:35:37",
          "2023-01-16T05:24:11",
          "2023-01-15T22:30:22",
          "2023-01-05T13:38:08",
          "2023-01-21T08:45:41",
          "2023-01-03T19:50:23",
          "2023-01-10T09:57:23",
          "2023-01-17T05:36:53",
          "2023-01-13T22:10:41",
          "2023-01-05T09:37:09",
          "2023-01-20T15:45:34",
          "2023-01-23T06:59:38",
          "2023-01-10T07:23:07",
          "2023-01-06T04:50:56",
          "2023-01-04T16:03:21",
          "2023-01-25T10:34:03",
          "2023-01-25T17:38:57",
          "2023-01-16T01:53:24",
          "2023-01-24T07:41:06",
          "2023-01-23T17:00:02",
          "2023-01-15T07:32:12",
          "2023-01-21T21:32:16",
          "2023-01-18T14:11:10",
          "2023-01-14T08:36:29",
          "2023-01-18T20:45:54",
          "2023-01-18T06:37:37",
          "2023-01-04T11:02:47",
          "2023-01-02T12:35:34",
          "2023-01-05T20:03:00",
          "2023-01-22T14:16:28",
          "2023-01-01T19:43:56",
          "2023-01-08T14:20:27",
          "2023-01-25T03:36:54",
          "2023-01-05T21:25:04",
          "2023-01-25T23:54:37",
          "2023-01-25T03:23:01",
          "2023-01-08T18:01:55",
          "2023-01-05T11:03:28",
          "2023-01-29T00:05:15",
          "2023-01-26T11:09:39",
          "2023-01-01T10:23:06",
          "2023-01-15T00:24:42",
          "2023-01-14T04:40:15",
          "2023-01-04T16:14:39",
          "2023-01-28T08:02:50",
          "2023-01-01T09:30:49",
          "2023-01-20T14:41:48",
          "2023-01-02T15:32:16",
          "2023-01-28T01:49:36",
          "2023-01-28T08:30:32",
          "2023-01-27T21:28:35",
          "2023-01-14T09:24:54",
          "2023-01-19T17:39:49",
          "2023-01-16T00:50:49",
          "2023-01-13T03:31:28",
          "2023-01-14T01:27:53",
          "2023-01-03T05:41:26",
          "2023-01-14T18:17:57",
          "2023-01-16T22:55:22",
          "2023-01-19T04:37:26",
          "2023-01-25T16:48:32",
          "2023-01-06T15:50:52",
          "2023-01-30T02:43:33",
          "2023-01-10T10:10:21",
          "2023-01-30T22:07:17",
          "2023-01-11T04:35:56",
          "2023-01-05T08:12:46",
          "2023-01-12T00:29:29",
          "2023-01-06T21:42:13",
          "2023-01-12T14:54:04",
          "2023-01-06T17:56:37",
          "2023-01-01T10:36:41",
          "2023-01-30T02:50:20",
          "2023-01-21T23:51:12",
          "2023-01-08T07:04:57",
          "2023-01-03T02:38:15",
          "2023-01-27T02:47:26",
          "2023-01-11T15:22:57",
          "2023-01-10T17:13:52",
          "2023-01-04T17:36:39",
          "2023-01-05T19:28:15",
          "2023-01-30T19:03:27",
          "2023-01-24T00:55:03",
          "2023-01-07T15:12:04",
          "2023-01-09T16:04:49",
          "2023-01-24T04:45:54",
          "2023-01-06T23:45:05",
          "2023-01-07T06:07:33",
          "2023-01-18T03:08:18",
          "2023-01-14T21:00:38",
          "2023-01-03T09:21:03",
          "2023-01-27T20:36:04",
          "2023-01-07T06:24:54",
          "2023-01-11T14:33:54",
          "2023-01-14T21:13:24",
          "2023-01-26T13:52:54",
          "2023-01-09T02:27:27",
          "2023-01-13T13:38:33",
          "2023-01-28T00:43:07",
          "2023-01-24T11:13:21",
          "2023-01-24T05:06:04",
          "2023-01-04T06:58:40",
          "2023-01-18T04:02:10",
          "2023-01-06T15:09:15",
          "2023-01-25T17:51:01",
          "2023-01-05T19:51:18",
          "2023-01-11T09:42:51",
          "2023-01-11T16:29:05",
          "2023-01-16T10:11:36",
          "2023-01-28T22:24:42",
          "2023-01-14T00:13:42",
          "2023-01-09T23:10:02",
          "2023-01-10T16:38:06",
          "2023-01-25T18:49:36",
          "2023-01-10T00:33:52",
          "2023-01-06T02:16:59",
          "2023-01-13T09:50:22",
          "2023-01-15T01:38:27",
          "2023-01-02T19:34:08",
          "2023-01-20T17:45:10",
          "2023-01-18T00:27:53",
          "2023-01-22T05:25:32",
          "2023-01-29T01:09:07",
          "2023-01-27T23:36:31",
          "2023-01-15T20:06:40",
          "2023-01-27T17:27:45",
          "2023-01-11T05:41:03",
          "2023-01-04T16:06:32",
          "2023-01-11T09:47:36",
          "2023-01-29T04:53:03",
          "2023-01-07T08:26:47",
          "2023-01-16T13:01:14",
          "2023-01-01T03:25:01",
          "2023-01-06T19:36:15",
          "2023-01-11T07:20:12",
          "2023-01-10T02:19:55",
          "2023-01-09T11:25:35",
          "2023-01-30T03:13:38",
          "2023-01-13T18:29:08",
          "2023-01-12T15:04:23",
          "2023-01-29T05:37:31",
          "2023-01-07T16:19:51",
          "2023-01-18T23:03:26",
          "2023-01-21T00:09:45",
          "2023-01-11T23:39:44",
          "2023-01-02T03:47:51"
         ],
         "xaxis": "x",
         "y": [
          20.180428180323155,
          23.372948078115463,
          29.85820800590566,
          31.07220699272968,
          17.73062415829164,
          28.5650893915853,
          22.923481205773868,
          21.24663340539149,
          23.75682151827229,
          22.656618854840776,
          24.21251128207897,
          13.61619437382295,
          28.03055625828072,
          26.78704941249142,
          24.41387508556683,
          16.365571021373007,
          21.58372700207022,
          23.17215567610941,
          27.57061814435577,
          31.70084101259679,
          32.87049755369271,
          38.44042301061142,
          26.20179355010351,
          17.997993113947054,
          27.81744068538728,
          28.754607252935703,
          24.399984604040128,
          17.55605473049983,
          28.54937089129562,
          20.30723453797109,
          25.28811832206858,
          29.273000116952897,
          18.18288917318501,
          28.734577634342862,
          31.58743862935857,
          19.387286176101977,
          23.5555512710834,
          18.721934287965677,
          18.367641470128127,
          23.19664274761786,
          15.868327775309956,
          12.238325907830443,
          31.241635007390816,
          26.931345008684406,
          18.49048367017685,
          19.392747529743662,
          26.315741890436293,
          31.42119553711439,
          30.80764741971309,
          24.552201330828936,
          26.754376490068097,
          22.377050955187507,
          25.046933592772387,
          24.90386437959753,
          24.3163204267184,
          26.0945422953189,
          17.76765947984503,
          21.54503957495329,
          25.04776876299704,
          32.207713226349995,
          23.97774084660347,
          27.656674613906432,
          39.78777927222116,
          23.364293810014534,
          24.021748671578845,
          23.387506143245936,
          24.03823855663058,
          23.06625258359961,
          28.16291593894729,
          17.021175981817986,
          24.311018827628697,
          23.804399505411737,
          24.5117642266851,
          25.9966146459951,
          34.0813380492352,
          26.32872552558377,
          23.21114547481851,
          24.55436503881603,
          21.173338883462318,
          33.142749208894095,
          25.947701840556284,
          24.43408295377476,
          31.700438368934563,
          19.83757937353781,
          18.39073514408221,
          21.73717605120033,
          20.407392481442177,
          26.46303948690995,
          27.4249623035663,
          24.31186858926728,
          25.01362884503777,
          17.729112758953818,
          26.697530678158756,
          18.864853290283467,
          28.67421945272298,
          23.512823029592248,
          22.18287841808564,
          16.109280480075014,
          31.93222244545428,
          17.46938271737252,
          24.67642485180977,
          28.09132283524192,
          25.752736298591618,
          20.179687393813037,
          19.699665935089257,
          30.828124382478567,
          25.36912215147484,
          28.44573401446711,
          26.14546777720898,
          22.039224550597705,
          35.08939605433225,
          28.852411355958694,
          24.104108420961328,
          31.001072393820543,
          15.412183412335102,
          31.19283438099265,
          29.57680995486772,
          19.48744025258991,
          29.01625000194716,
          16.412482738979797,
          23.278225391831715,
          22.8872936146293,
          12.04740126408872,
          20.711590330756408,
          24.58058608592257,
          20.16334915238396,
          20.023964295240976,
          24.052424155053256,
          30.1930346313394,
          25.77374494925049,
          20.751983844339275,
          28.26086802574977,
          21.845514364930388,
          22.65011279931148,
          25.78213392483172,
          23.348412221673836,
          16.01467317695462,
          34.059391883583245,
          26.154101123634437,
          29.237361127499,
          30.93808715016476,
          30.5877363866966,
          25.712350458787355,
          29.82995243532292,
          29.779108034819014,
          15.233085759778008,
          21.254877007849316,
          22.267654097830608,
          28.640743957665823,
          27.2758343409792,
          34.432410469922225,
          32.510135092589415,
          25.40710786289686,
          15.10695290089045,
          23.333215625341506,
          21.866640975672507,
          18.087348770209207,
          25.43880766495542,
          32.03094358640034,
          27.27707143900185,
          23.254261217514088,
          31.38755992748821,
          29.77775479413464,
          25.749488250892348,
          18.383151804375,
          24.754711956372645,
          17.08486625617455,
          15.144444447337314,
          26.489279237503236,
          36.63390904329077,
          27.43505745771897,
          22.63888753484436,
          28.227267910332937,
          35.44284654683602,
          32.67342248579044,
          23.687083409233534,
          24.33501892512185,
          30.025439342888426,
          25.70482286569084,
          23.51863532694112,
          25.749226916469222,
          27.68670352292746,
          24.125584638608284,
          19.922701337329755,
          29.001626351663056,
          34.22822454451854,
          29.05777629827928,
          19.5645386089741,
          31.60001860112516,
          26.780421422015724,
          26.38461967242935,
          27.56744193488033,
          27.148674243224686,
          27.956718245706263,
          27.26124361408353,
          13.759198417700366,
          18.970407023807745,
          22.41706773963661,
          26.583834112073195,
          23.407466312598448,
          27.87613825712444,
          28.249701091616863,
          21.658281528340343,
          29.57326881809131,
          24.935754359184905,
          26.03367972119357,
          11.55064359775989,
          29.173204697416857,
          30.45644191124934,
          16.613468971048054,
          21.848588855894818,
          22.438930647557893,
          27.10454675002776,
          17.755072832202842,
          16.79410455007233,
          18.77154882457095,
          23.196681445446167,
          24.291462515180672,
          22.74232941436864,
          29.543841129430252,
          24.13474623528898,
          29.69181223666289,
          31.18491533200342,
          29.58888836557418,
          27.596446920156527,
          17.15715624948946
         ],
         "yaxis": "y"
        },
        {
         "hovertemplate": "Anomaly=1<br>Timestamps=%{x}<br>Temperature=%{y}<extra></extra>",
         "legendgroup": "1",
         "line": {
          "color": "#EF553B",
          "dash": "solid"
         },
         "marker": {
          "symbol": "circle"
         },
         "mode": "lines",
         "name": "1",
         "orientation": "v",
         "showlegend": true,
         "type": "scatter",
         "x": [
          "2023-01-02T17:15:45",
          "2023-01-07T17:50:23",
          "2023-01-05T03:41:11",
          "2023-01-20T16:23:34",
          "2023-01-08T06:45:35",
          "2023-01-18T00:55:36",
          "2023-01-22T03:58:42"
         ],
         "xaxis": "x",
         "y": [
          80.03774842109827,
          94.00750069529268,
          40.4139558671209,
          46.76785292702902,
          76.9634070141496,
          82.4601483887183,
          41.59264712529615
         ],
         "yaxis": "y"
        }
       ],
       "layout": {
        "legend": {
         "title": {
          "text": "Anomaly"
         },
         "tracegroupgap": 0
        },
        "template": {
         "data": {
          "bar": [
           {
            "error_x": {
             "color": "#2a3f5f"
            },
            "error_y": {
             "color": "#2a3f5f"
            },
            "marker": {
             "line": {
              "color": "#E5ECF6",
              "width": 0.5
             },
             "pattern": {
              "fillmode": "overlay",
              "size": 10,
              "solidity": 0.2
             }
            },
            "type": "bar"
           }
          ],
          "barpolar": [
           {
            "marker": {
             "line": {
              "color": "#E5ECF6",
              "width": 0.5
             },
             "pattern": {
              "fillmode": "overlay",
              "size": 10,
              "solidity": 0.2
             }
            },
            "type": "barpolar"
           }
          ],
          "carpet": [
           {
            "aaxis": {
             "endlinecolor": "#2a3f5f",
             "gridcolor": "white",
             "linecolor": "white",
             "minorgridcolor": "white",
             "startlinecolor": "#2a3f5f"
            },
            "baxis": {
             "endlinecolor": "#2a3f5f",
             "gridcolor": "white",
             "linecolor": "white",
             "minorgridcolor": "white",
             "startlinecolor": "#2a3f5f"
            },
            "type": "carpet"
           }
          ],
          "choropleth": [
           {
            "colorbar": {
             "outlinewidth": 0,
             "ticks": ""
            },
            "type": "choropleth"
           }
          ],
          "contour": [
           {
            "colorbar": {
             "outlinewidth": 0,
             "ticks": ""
            },
            "colorscale": [
             [
              0,
              "#0d0887"
             ],
             [
              0.1111111111111111,
              "#46039f"
             ],
             [
              0.2222222222222222,
              "#7201a8"
             ],
             [
              0.3333333333333333,
              "#9c179e"
             ],
             [
              0.4444444444444444,
              "#bd3786"
             ],
             [
              0.5555555555555556,
              "#d8576b"
             ],
             [
              0.6666666666666666,
              "#ed7953"
             ],
             [
              0.7777777777777778,
              "#fb9f3a"
             ],
             [
              0.8888888888888888,
              "#fdca26"
             ],
             [
              1,
              "#f0f921"
             ]
            ],
            "type": "contour"
           }
          ],
          "contourcarpet": [
           {
            "colorbar": {
             "outlinewidth": 0,
             "ticks": ""
            },
            "type": "contourcarpet"
           }
          ],
          "heatmap": [
           {
            "colorbar": {
             "outlinewidth": 0,
             "ticks": ""
            },
            "colorscale": [
             [
              0,
              "#0d0887"
             ],
             [
              0.1111111111111111,
              "#46039f"
             ],
             [
              0.2222222222222222,
              "#7201a8"
             ],
             [
              0.3333333333333333,
              "#9c179e"
             ],
             [
              0.4444444444444444,
              "#bd3786"
             ],
             [
              0.5555555555555556,
              "#d8576b"
             ],
             [
              0.6666666666666666,
              "#ed7953"
             ],
             [
              0.7777777777777778,
              "#fb9f3a"
             ],
             [
              0.8888888888888888,
              "#fdca26"
             ],
             [
              1,
              "#f0f921"
             ]
            ],
            "type": "heatmap"
           }
          ],
          "heatmapgl": [
           {
            "colorbar": {
             "outlinewidth": 0,
             "ticks": ""
            },
            "colorscale": [
             [
              0,
              "#0d0887"
             ],
             [
              0.1111111111111111,
              "#46039f"
             ],
             [
              0.2222222222222222,
              "#7201a8"
             ],
             [
              0.3333333333333333,
              "#9c179e"
             ],
             [
              0.4444444444444444,
              "#bd3786"
             ],
             [
              0.5555555555555556,
              "#d8576b"
             ],
             [
              0.6666666666666666,
              "#ed7953"
             ],
             [
              0.7777777777777778,
              "#fb9f3a"
             ],
             [
              0.8888888888888888,
              "#fdca26"
             ],
             [
              1,
              "#f0f921"
             ]
            ],
            "type": "heatmapgl"
           }
          ],
          "histogram": [
           {
            "marker": {
             "pattern": {
              "fillmode": "overlay",
              "size": 10,
              "solidity": 0.2
             }
            },
            "type": "histogram"
           }
          ],
          "histogram2d": [
           {
            "colorbar": {
             "outlinewidth": 0,
             "ticks": ""
            },
            "colorscale": [
             [
              0,
              "#0d0887"
             ],
             [
              0.1111111111111111,
              "#46039f"
             ],
             [
              0.2222222222222222,
              "#7201a8"
             ],
             [
              0.3333333333333333,
              "#9c179e"
             ],
             [
              0.4444444444444444,
              "#bd3786"
             ],
             [
              0.5555555555555556,
              "#d8576b"
             ],
             [
              0.6666666666666666,
              "#ed7953"
             ],
             [
              0.7777777777777778,
              "#fb9f3a"
             ],
             [
              0.8888888888888888,
              "#fdca26"
             ],
             [
              1,
              "#f0f921"
             ]
            ],
            "type": "histogram2d"
           }
          ],
          "histogram2dcontour": [
           {
            "colorbar": {
             "outlinewidth": 0,
             "ticks": ""
            },
            "colorscale": [
             [
              0,
              "#0d0887"
             ],
             [
              0.1111111111111111,
              "#46039f"
             ],
             [
              0.2222222222222222,
              "#7201a8"
             ],
             [
              0.3333333333333333,
              "#9c179e"
             ],
             [
              0.4444444444444444,
              "#bd3786"
             ],
             [
              0.5555555555555556,
              "#d8576b"
             ],
             [
              0.6666666666666666,
              "#ed7953"
             ],
             [
              0.7777777777777778,
              "#fb9f3a"
             ],
             [
              0.8888888888888888,
              "#fdca26"
             ],
             [
              1,
              "#f0f921"
             ]
            ],
            "type": "histogram2dcontour"
           }
          ],
          "mesh3d": [
           {
            "colorbar": {
             "outlinewidth": 0,
             "ticks": ""
            },
            "type": "mesh3d"
           }
          ],
          "parcoords": [
           {
            "line": {
             "colorbar": {
              "outlinewidth": 0,
              "ticks": ""
             }
            },
            "type": "parcoords"
           }
          ],
          "pie": [
           {
            "automargin": true,
            "type": "pie"
           }
          ],
          "scatter": [
           {
            "fillpattern": {
             "fillmode": "overlay",
             "size": 10,
             "solidity": 0.2
            },
            "type": "scatter"
           }
          ],
          "scatter3d": [
           {
            "line": {
             "colorbar": {
              "outlinewidth": 0,
              "ticks": ""
             }
            },
            "marker": {
             "colorbar": {
              "outlinewidth": 0,
              "ticks": ""
             }
            },
            "type": "scatter3d"
           }
          ],
          "scattercarpet": [
           {
            "marker": {
             "colorbar": {
              "outlinewidth": 0,
              "ticks": ""
             }
            },
            "type": "scattercarpet"
           }
          ],
          "scattergeo": [
           {
            "marker": {
             "colorbar": {
              "outlinewidth": 0,
              "ticks": ""
             }
            },
            "type": "scattergeo"
           }
          ],
          "scattergl": [
           {
            "marker": {
             "colorbar": {
              "outlinewidth": 0,
              "ticks": ""
             }
            },
            "type": "scattergl"
           }
          ],
          "scattermapbox": [
           {
            "marker": {
             "colorbar": {
              "outlinewidth": 0,
              "ticks": ""
             }
            },
            "type": "scattermapbox"
           }
          ],
          "scatterpolar": [
           {
            "marker": {
             "colorbar": {
              "outlinewidth": 0,
              "ticks": ""
             }
            },
            "type": "scatterpolar"
           }
          ],
          "scatterpolargl": [
           {
            "marker": {
             "colorbar": {
              "outlinewidth": 0,
              "ticks": ""
             }
            },
            "type": "scatterpolargl"
           }
          ],
          "scatterternary": [
           {
            "marker": {
             "colorbar": {
              "outlinewidth": 0,
              "ticks": ""
             }
            },
            "type": "scatterternary"
           }
          ],
          "surface": [
           {
            "colorbar": {
             "outlinewidth": 0,
             "ticks": ""
            },
            "colorscale": [
             [
              0,
              "#0d0887"
             ],
             [
              0.1111111111111111,
              "#46039f"
             ],
             [
              0.2222222222222222,
              "#7201a8"
             ],
             [
              0.3333333333333333,
              "#9c179e"
             ],
             [
              0.4444444444444444,
              "#bd3786"
             ],
             [
              0.5555555555555556,
              "#d8576b"
             ],
             [
              0.6666666666666666,
              "#ed7953"
             ],
             [
              0.7777777777777778,
              "#fb9f3a"
             ],
             [
              0.8888888888888888,
              "#fdca26"
             ],
             [
              1,
              "#f0f921"
             ]
            ],
            "type": "surface"
           }
          ],
          "table": [
           {
            "cells": {
             "fill": {
              "color": "#EBF0F8"
             },
             "line": {
              "color": "white"
             }
            },
            "header": {
             "fill": {
              "color": "#C8D4E3"
             },
             "line": {
              "color": "white"
             }
            },
            "type": "table"
           }
          ]
         },
         "layout": {
          "annotationdefaults": {
           "arrowcolor": "#2a3f5f",
           "arrowhead": 0,
           "arrowwidth": 1
          },
          "autotypenumbers": "strict",
          "coloraxis": {
           "colorbar": {
            "outlinewidth": 0,
            "ticks": ""
           }
          },
          "colorscale": {
           "diverging": [
            [
             0,
             "#8e0152"
            ],
            [
             0.1,
             "#c51b7d"
            ],
            [
             0.2,
             "#de77ae"
            ],
            [
             0.3,
             "#f1b6da"
            ],
            [
             0.4,
             "#fde0ef"
            ],
            [
             0.5,
             "#f7f7f7"
            ],
            [
             0.6,
             "#e6f5d0"
            ],
            [
             0.7,
             "#b8e186"
            ],
            [
             0.8,
             "#7fbc41"
            ],
            [
             0.9,
             "#4d9221"
            ],
            [
             1,
             "#276419"
            ]
           ],
           "sequential": [
            [
             0,
             "#0d0887"
            ],
            [
             0.1111111111111111,
             "#46039f"
            ],
            [
             0.2222222222222222,
             "#7201a8"
            ],
            [
             0.3333333333333333,
             "#9c179e"
            ],
            [
             0.4444444444444444,
             "#bd3786"
            ],
            [
             0.5555555555555556,
             "#d8576b"
            ],
            [
             0.6666666666666666,
             "#ed7953"
            ],
            [
             0.7777777777777778,
             "#fb9f3a"
            ],
            [
             0.8888888888888888,
             "#fdca26"
            ],
            [
             1,
             "#f0f921"
            ]
           ],
           "sequentialminus": [
            [
             0,
             "#0d0887"
            ],
            [
             0.1111111111111111,
             "#46039f"
            ],
            [
             0.2222222222222222,
             "#7201a8"
            ],
            [
             0.3333333333333333,
             "#9c179e"
            ],
            [
             0.4444444444444444,
             "#bd3786"
            ],
            [
             0.5555555555555556,
             "#d8576b"
            ],
            [
             0.6666666666666666,
             "#ed7953"
            ],
            [
             0.7777777777777778,
             "#fb9f3a"
            ],
            [
             0.8888888888888888,
             "#fdca26"
            ],
            [
             1,
             "#f0f921"
            ]
           ]
          },
          "colorway": [
           "#636efa",
           "#EF553B",
           "#00cc96",
           "#ab63fa",
           "#FFA15A",
           "#19d3f3",
           "#FF6692",
           "#B6E880",
           "#FF97FF",
           "#FECB52"
          ],
          "font": {
           "color": "#2a3f5f"
          },
          "geo": {
           "bgcolor": "white",
           "lakecolor": "white",
           "landcolor": "#E5ECF6",
           "showlakes": true,
           "showland": true,
           "subunitcolor": "white"
          },
          "hoverlabel": {
           "align": "left"
          },
          "hovermode": "closest",
          "mapbox": {
           "style": "light"
          },
          "paper_bgcolor": "white",
          "plot_bgcolor": "#E5ECF6",
          "polar": {
           "angularaxis": {
            "gridcolor": "white",
            "linecolor": "white",
            "ticks": ""
           },
           "bgcolor": "#E5ECF6",
           "radialaxis": {
            "gridcolor": "white",
            "linecolor": "white",
            "ticks": ""
           }
          },
          "scene": {
           "xaxis": {
            "backgroundcolor": "#E5ECF6",
            "gridcolor": "white",
            "gridwidth": 2,
            "linecolor": "white",
            "showbackground": true,
            "ticks": "",
            "zerolinecolor": "white"
           },
           "yaxis": {
            "backgroundcolor": "#E5ECF6",
            "gridcolor": "white",
            "gridwidth": 2,
            "linecolor": "white",
            "showbackground": true,
            "ticks": "",
            "zerolinecolor": "white"
           },
           "zaxis": {
            "backgroundcolor": "#E5ECF6",
            "gridcolor": "white",
            "gridwidth": 2,
            "linecolor": "white",
            "showbackground": true,
            "ticks": "",
            "zerolinecolor": "white"
           }
          },
          "shapedefaults": {
           "line": {
            "color": "#2a3f5f"
           }
          },
          "ternary": {
           "aaxis": {
            "gridcolor": "white",
            "linecolor": "white",
            "ticks": ""
           },
           "baxis": {
            "gridcolor": "white",
            "linecolor": "white",
            "ticks": ""
           },
           "bgcolor": "#E5ECF6",
           "caxis": {
            "gridcolor": "white",
            "linecolor": "white",
            "ticks": ""
           }
          },
          "title": {
           "x": 0.05
          },
          "xaxis": {
           "automargin": true,
           "gridcolor": "white",
           "linecolor": "white",
           "ticks": "",
           "title": {
            "standoff": 15
           },
           "zerolinecolor": "white",
           "zerolinewidth": 2
          },
          "yaxis": {
           "automargin": true,
           "gridcolor": "white",
           "linecolor": "white",
           "ticks": "",
           "title": {
            "standoff": 15
           },
           "zerolinecolor": "white",
           "zerolinewidth": 2
          }
         }
        },
        "title": {
         "text": "Temperature with time series"
        },
        "xaxis": {
         "anchor": "y",
         "domain": [
          0,
          1
         ],
         "title": {
          "text": "Timestamps"
         }
        },
        "yaxis": {
         "anchor": "x",
         "domain": [
          0,
          1
         ],
         "title": {
          "text": "Temperature"
         }
        }
       }
      }
     },
     "metadata": {},
     "output_type": "display_data"
    }
   ],
   "source": [
    "fig = px.line(Boiler_A, x=\"Timestamps\", y=\"Temperature\",  color='Anomaly',title='Temperature with time series')\n",
    "fig.show()"
   ]
  },
  {
   "cell_type": "code",
   "execution_count": 34,
   "metadata": {},
   "outputs": [],
   "source": [
    "Boiler_B=df[df['Boiler Name']=='Boiler B']"
   ]
  },
  {
   "cell_type": "code",
   "execution_count": 35,
   "metadata": {},
   "outputs": [
    {
     "data": {
      "text/html": [
       "<div>\n",
       "<style scoped>\n",
       "    .dataframe tbody tr th:only-of-type {\n",
       "        vertical-align: middle;\n",
       "    }\n",
       "\n",
       "    .dataframe tbody tr th {\n",
       "        vertical-align: top;\n",
       "    }\n",
       "\n",
       "    .dataframe thead th {\n",
       "        text-align: right;\n",
       "    }\n",
       "</style>\n",
       "<table border=\"1\" class=\"dataframe\">\n",
       "  <thead>\n",
       "    <tr style=\"text-align: right;\">\n",
       "      <th></th>\n",
       "      <th>Boiler Name</th>\n",
       "      <th>Temperature</th>\n",
       "      <th>Anomaly</th>\n",
       "      <th>Timestamps</th>\n",
       "      <th>year</th>\n",
       "      <th>month</th>\n",
       "      <th>day</th>\n",
       "      <th>time</th>\n",
       "    </tr>\n",
       "  </thead>\n",
       "  <tbody>\n",
       "    <tr>\n",
       "      <th>5</th>\n",
       "      <td>Boiler B</td>\n",
       "      <td>26.148815</td>\n",
       "      <td>0</td>\n",
       "      <td>2023-01-13 03:22:52</td>\n",
       "      <td>2023</td>\n",
       "      <td>1</td>\n",
       "      <td>13</td>\n",
       "      <td>03:22:52</td>\n",
       "    </tr>\n",
       "    <tr>\n",
       "      <th>15</th>\n",
       "      <td>Boiler B</td>\n",
       "      <td>23.956412</td>\n",
       "      <td>0</td>\n",
       "      <td>2023-01-22 10:00:15</td>\n",
       "      <td>2023</td>\n",
       "      <td>1</td>\n",
       "      <td>22</td>\n",
       "      <td>10:00:15</td>\n",
       "    </tr>\n",
       "    <tr>\n",
       "      <th>19</th>\n",
       "      <td>Boiler B</td>\n",
       "      <td>30.343984</td>\n",
       "      <td>0</td>\n",
       "      <td>2023-01-08 18:53:25</td>\n",
       "      <td>2023</td>\n",
       "      <td>1</td>\n",
       "      <td>8</td>\n",
       "      <td>18:53:25</td>\n",
       "    </tr>\n",
       "    <tr>\n",
       "      <th>24</th>\n",
       "      <td>Boiler B</td>\n",
       "      <td>20.994362</td>\n",
       "      <td>0</td>\n",
       "      <td>2023-01-02 09:14:57</td>\n",
       "      <td>2023</td>\n",
       "      <td>1</td>\n",
       "      <td>2</td>\n",
       "      <td>09:14:57</td>\n",
       "    </tr>\n",
       "    <tr>\n",
       "      <th>27</th>\n",
       "      <td>Boiler B</td>\n",
       "      <td>23.635175</td>\n",
       "      <td>0</td>\n",
       "      <td>2023-01-09 00:21:00</td>\n",
       "      <td>2023</td>\n",
       "      <td>1</td>\n",
       "      <td>9</td>\n",
       "      <td>00:21:00</td>\n",
       "    </tr>\n",
       "    <tr>\n",
       "      <th>...</th>\n",
       "      <td>...</td>\n",
       "      <td>...</td>\n",
       "      <td>...</td>\n",
       "      <td>...</td>\n",
       "      <td>...</td>\n",
       "      <td>...</td>\n",
       "      <td>...</td>\n",
       "      <td>...</td>\n",
       "    </tr>\n",
       "    <tr>\n",
       "      <th>986</th>\n",
       "      <td>Boiler B</td>\n",
       "      <td>18.318934</td>\n",
       "      <td>0</td>\n",
       "      <td>2023-01-30 19:03:14</td>\n",
       "      <td>2023</td>\n",
       "      <td>1</td>\n",
       "      <td>30</td>\n",
       "      <td>19:03:14</td>\n",
       "    </tr>\n",
       "    <tr>\n",
       "      <th>989</th>\n",
       "      <td>Boiler B</td>\n",
       "      <td>17.132840</td>\n",
       "      <td>0</td>\n",
       "      <td>2023-01-30 05:32:40</td>\n",
       "      <td>2023</td>\n",
       "      <td>1</td>\n",
       "      <td>30</td>\n",
       "      <td>05:32:40</td>\n",
       "    </tr>\n",
       "    <tr>\n",
       "      <th>993</th>\n",
       "      <td>Boiler B</td>\n",
       "      <td>24.703846</td>\n",
       "      <td>0</td>\n",
       "      <td>2023-01-09 02:54:02</td>\n",
       "      <td>2023</td>\n",
       "      <td>1</td>\n",
       "      <td>9</td>\n",
       "      <td>02:54:02</td>\n",
       "    </tr>\n",
       "    <tr>\n",
       "      <th>996</th>\n",
       "      <td>Boiler B</td>\n",
       "      <td>19.189359</td>\n",
       "      <td>0</td>\n",
       "      <td>2023-01-25 01:22:21</td>\n",
       "      <td>2023</td>\n",
       "      <td>1</td>\n",
       "      <td>25</td>\n",
       "      <td>01:22:21</td>\n",
       "    </tr>\n",
       "    <tr>\n",
       "      <th>998</th>\n",
       "      <td>Boiler B</td>\n",
       "      <td>23.135241</td>\n",
       "      <td>0</td>\n",
       "      <td>2023-01-07 09:21:22</td>\n",
       "      <td>2023</td>\n",
       "      <td>1</td>\n",
       "      <td>7</td>\n",
       "      <td>09:21:22</td>\n",
       "    </tr>\n",
       "  </tbody>\n",
       "</table>\n",
       "<p>220 rows × 8 columns</p>\n",
       "</div>"
      ],
      "text/plain": [
       "    Boiler Name  Temperature  Anomaly          Timestamps  year  month  day  \\\n",
       "5      Boiler B    26.148815        0 2023-01-13 03:22:52  2023      1   13   \n",
       "15     Boiler B    23.956412        0 2023-01-22 10:00:15  2023      1   22   \n",
       "19     Boiler B    30.343984        0 2023-01-08 18:53:25  2023      1    8   \n",
       "24     Boiler B    20.994362        0 2023-01-02 09:14:57  2023      1    2   \n",
       "27     Boiler B    23.635175        0 2023-01-09 00:21:00  2023      1    9   \n",
       "..          ...          ...      ...                 ...   ...    ...  ...   \n",
       "986    Boiler B    18.318934        0 2023-01-30 19:03:14  2023      1   30   \n",
       "989    Boiler B    17.132840        0 2023-01-30 05:32:40  2023      1   30   \n",
       "993    Boiler B    24.703846        0 2023-01-09 02:54:02  2023      1    9   \n",
       "996    Boiler B    19.189359        0 2023-01-25 01:22:21  2023      1   25   \n",
       "998    Boiler B    23.135241        0 2023-01-07 09:21:22  2023      1    7   \n",
       "\n",
       "         time  \n",
       "5    03:22:52  \n",
       "15   10:00:15  \n",
       "19   18:53:25  \n",
       "24   09:14:57  \n",
       "27   00:21:00  \n",
       "..        ...  \n",
       "986  19:03:14  \n",
       "989  05:32:40  \n",
       "993  02:54:02  \n",
       "996  01:22:21  \n",
       "998  09:21:22  \n",
       "\n",
       "[220 rows x 8 columns]"
      ]
     },
     "execution_count": 35,
     "metadata": {},
     "output_type": "execute_result"
    }
   ],
   "source": [
    "Boiler_B"
   ]
  },
  {
   "cell_type": "code",
   "execution_count": 29,
   "metadata": {},
   "outputs": [
    {
     "data": {
      "text/plain": [
       "<Axes: xlabel='Temperature', ylabel='Count'>"
      ]
     },
     "execution_count": 29,
     "metadata": {},
     "output_type": "execute_result"
    },
    {
     "data": {
      "image/png": "[encoded data removed]",
      "text/plain": [
       "<Figure size 640x480 with 1 Axes>"
      ]
     },
     "metadata": {},
     "output_type": "display_data"
    }
   ],
   "source": [
    "sns.histplot(Boiler_B['Temperature'],kde=True)"
   ]
  },
  {
   "cell_type": "code",
   "execution_count": 21,
   "metadata": {},
   "outputs": [
    {
     "name": "stderr",
     "output_type": "stream",
     "text": [
      "c:\\Users\\rames\\OneDrive\\Desktop\\guvi-ds\\Hospital-readmission-project\\.venv\\Lib\\site-packages\\_plotly_utils\\basevalidators.py:105: FutureWarning:\n",
      "\n",
      "The behavior of DatetimeProperties.to_pydatetime is deprecated, in a future version this will return a Series containing python datetime objects instead of an ndarray. To retain the old behavior, call `np.array` on the result\n",
      "\n"
     ]
    },
    {
     "data": {
      "application/vnd.plotly.v1+json": {
       "config": {
        "plotlyServerURL": "https://plot.ly"
       },
       "data": [
        {
         "hovertemplate": "Anomaly=0<br>Timestamps=%{x}<br>Temperature=%{y}<extra></extra>",
         "legendgroup": "0",
         "line": {
          "color": "#636efa",
          "dash": "solid"
         },
         "marker": {
          "symbol": "circle"
         },
         "mode": "lines",
         "name": "0",
         "orientation": "v",
         "showlegend": true,
         "type": "scatter",
         "x": [
          "2023-01-13T03:22:52",
          "2023-01-22T10:00:15",
          "2023-01-08T18:53:25",
          "2023-01-02T09:14:57",
          "2023-01-09T00:21:00",
          "2023-01-19T21:11:38",
          "2023-01-24T15:49:45",
          "2023-01-13T15:46:40",
          "2023-01-21T16:45:52",
          "2023-01-03T21:20:26",
          "2023-01-09T23:47:54",
          "2023-01-15T09:18:24",
          "2023-01-23T22:01:10",
          "2023-01-15T05:06:07",
          "2023-01-04T19:24:06",
          "2023-01-04T02:54:48",
          "2023-01-30T06:59:25",
          "2023-01-13T09:26:55",
          "2023-01-23T02:23:36",
          "2023-01-14T04:04:09",
          "2023-01-25T17:57:33",
          "2023-01-21T05:21:50",
          "2023-01-22T05:09:29",
          "2023-01-22T20:16:09",
          "2023-01-24T20:44:20",
          "2023-01-24T17:59:59",
          "2023-01-30T06:22:47",
          "2023-01-15T00:14:29",
          "2023-01-26T05:08:35",
          "2023-01-02T15:47:02",
          "2023-01-27T17:50:40",
          "2023-01-10T17:23:26",
          "2023-01-26T05:33:08",
          "2023-01-29T18:46:41",
          "2023-01-11T03:55:00",
          "2023-01-02T13:19:57",
          "2023-01-16T09:10:30",
          "2023-01-07T15:47:28",
          "2023-01-06T22:16:59",
          "2023-01-24T09:45:47",
          "2023-01-26T18:39:49",
          "2023-01-23T03:25:12",
          "2023-01-23T01:16:27",
          "2023-01-09T15:56:17",
          "2023-01-23T07:34:55",
          "2023-01-04T17:54:01",
          "2023-01-18T12:33:58",
          "2023-01-27T20:03:49",
          "2023-01-22T21:10:35",
          "2023-01-11T11:45:00",
          "2023-01-08T03:48:45",
          "2023-01-26T06:19:17",
          "2023-01-08T13:04:26",
          "2023-01-21T15:19:00",
          "2023-01-23T11:24:45",
          "2023-01-02T00:04:26",
          "2023-01-30T11:08:17",
          "2023-01-11T06:00:14",
          "2023-01-24T02:28:38",
          "2023-01-03T14:03:09",
          "2023-01-16T09:13:01",
          "2023-01-11T17:01:04",
          "2023-01-09T17:52:23",
          "2023-01-17T04:15:52",
          "2023-01-01T04:59:56",
          "2023-01-26T18:32:02",
          "2023-01-27T06:07:30",
          "2023-01-26T19:03:34",
          "2023-01-22T04:52:10",
          "2023-01-22T08:21:35",
          "2023-01-28T05:52:49",
          "2023-01-29T13:10:44",
          "2023-01-22T01:24:43",
          "2023-01-15T00:44:55",
          "2023-01-01T17:54:02",
          "2023-01-23T08:12:58",
          "2023-01-16T14:22:58",
          "2023-01-27T12:38:42",
          "2023-01-02T22:33:21",
          "2023-01-07T04:01:09",
          "2023-01-02T18:29:55",
          "2023-01-24T05:36:26",
          "2023-01-25T09:13:14",
          "2023-01-04T09:12:21",
          "2023-01-12T09:30:54",
          "2023-01-02T11:09:46",
          "2023-01-15T20:37:59",
          "2023-01-30T00:24:35",
          "2023-01-03T08:06:49",
          "2023-01-11T06:06:43",
          "2023-01-17T17:42:50",
          "2023-01-29T12:43:16",
          "2023-01-08T19:26:24",
          "2023-01-15T04:36:36",
          "2023-01-02T18:39:02",
          "2023-01-23T19:34:33",
          "2023-01-06T19:13:03",
          "2023-01-15T08:53:57",
          "2023-01-11T12:06:11",
          "2023-01-26T11:08:09",
          "2023-01-26T22:30:07",
          "2023-01-06T05:14:27",
          "2023-01-06T03:07:38",
          "2023-01-11T05:46:38",
          "2023-01-12T17:56:17",
          "2023-01-28T17:16:10",
          "2023-01-17T09:38:57",
          "2023-01-07T04:23:15",
          "2023-01-30T21:54:53",
          "2023-01-20T07:32:42",
          "2023-01-30T04:48:30",
          "2023-01-23T17:06:46",
          "2023-01-28T10:38:39",
          "2023-01-16T02:56:59",
          "2023-01-16T13:21:34",
          "2023-01-15T00:39:00",
          "2023-01-02T21:19:06",
          "2023-01-01T09:56:44",
          "2023-01-23T04:57:19",
          "2023-01-27T05:15:27",
          "2023-01-23T16:44:18",
          "2023-01-13T19:08:03",
          "2023-01-06T17:39:21",
          "2023-01-11T14:18:21",
          "2023-01-07T22:59:09",
          "2023-01-13T12:59:57",
          "2023-01-19T09:26:43",
          "2023-01-29T03:51:21",
          "2023-01-08T12:32:02",
          "2023-01-20T06:55:42",
          "2023-01-11T04:42:05",
          "2023-01-05T10:58:18",
          "2023-01-02T11:43:17",
          "2023-01-25T03:05:35",
          "2023-01-01T12:47:21",
          "2023-01-10T01:17:32",
          "2023-01-28T01:12:19",
          "2023-01-03T23:38:51",
          "2023-01-02T23:35:12",
          "2023-01-17T21:12:11",
          "2023-01-05T09:41:14",
          "2023-01-09T19:20:44",
          "2023-01-13T17:07:23",
          "2023-01-17T07:05:56",
          "2023-01-20T17:48:31",
          "2023-01-25T14:02:26",
          "2023-01-01T17:34:18",
          "2023-01-04T08:25:03",
          "2023-01-27T04:07:11",
          "2023-01-09T22:06:29",
          "2023-01-04T19:55:24",
          "2023-01-08T01:44:22",
          "2023-01-20T01:02:45",
          "2023-01-21T14:07:11",
          "2023-01-15T23:22:55",
          "2023-01-26T05:26:20",
          "2023-01-19T04:55:29",
          "2023-01-03T21:20:19",
          "2023-01-11T00:42:41",
          "2023-01-05T14:23:13",
          "2023-01-12T03:22:06",
          "2023-01-30T16:59:41",
          "2023-01-25T22:11:32",
          "2023-01-10T02:38:14",
          "2023-01-17T00:01:53",
          "2023-01-05T08:35:35",
          "2023-01-23T10:41:50",
          "2023-01-11T21:39:57",
          "2023-01-25T16:24:21",
          "2023-01-21T15:03:24",
          "2023-01-08T04:13:31",
          "2023-01-12T10:38:10",
          "2023-01-04T15:07:33",
          "2023-01-08T23:33:29",
          "2023-01-19T20:35:12",
          "2023-01-30T00:29:08",
          "2023-01-28T13:37:40",
          "2023-01-13T12:52:59",
          "2023-01-20T18:36:09",
          "2023-01-16T23:55:38",
          "2023-01-06T22:00:50",
          "2023-01-12T06:32:25",
          "2023-01-09T13:32:16",
          "2023-01-02T13:46:54",
          "2023-01-30T16:45:57",
          "2023-01-19T20:35:56",
          "2023-01-28T15:28:50",
          "2023-01-07T13:51:16",
          "2023-01-19T10:04:11",
          "2023-01-05T18:32:11",
          "2023-01-17T08:50:19",
          "2023-01-15T08:05:49",
          "2023-01-11T03:40:03",
          "2023-01-05T17:00:00",
          "2023-01-29T01:02:50",
          "2023-01-11T19:39:18",
          "2023-01-22T12:29:59",
          "2023-01-22T16:52:31",
          "2023-01-20T00:04:10",
          "2023-01-11T02:29:27",
          "2023-01-14T08:43:36",
          "2023-01-05T23:15:57",
          "2023-01-09T14:13:57",
          "2023-01-14T04:53:34",
          "2023-01-30T09:50:21",
          "2023-01-09T07:19:47",
          "2023-01-27T02:22:29",
          "2023-01-08T10:47:48",
          "2023-01-20T17:20:51",
          "2023-01-22T19:04:14",
          "2023-01-30T19:03:14",
          "2023-01-30T05:32:40",
          "2023-01-09T02:54:02",
          "2023-01-25T01:22:21",
          "2023-01-07T09:21:22"
         ],
         "xaxis": "x",
         "y": [
          26.14881455318429,
          23.95641210889353,
          30.34398382012952,
          20.994361513903304,
          23.6351752228243,
          21.05728052154856,
          31.673755947606036,
          22.724000925701883,
          23.539264876590792,
          31.825499886804355,
          18.91977355268653,
          21.18212282807969,
          22.08989049467099,
          29.672452865395638,
          24.221782502586557,
          26.4831388854098,
          23.573667562143665,
          26.302308340194163,
          26.711694136073696,
          27.436304346602096,
          19.08413353695214,
          22.822895961830348,
          30.54798881701352,
          29.60045619230512,
          29.670733658031637,
          28.01788261169935,
          24.227115818491598,
          19.827558985387054,
          32.045255715176374,
          26.55642926858804,
          28.441344970868595,
          33.57019650650044,
          20.401079283636754,
          33.00167975296642,
          23.033429857986743,
          21.893198207707023,
          34.631043275906755,
          23.58222825026676,
          25.203130025480185,
          31.43971712400289,
          31.714531137136,
          25.751490153494764,
          6.250804258725708,
          12.476053012250157,
          23.913291389872548,
          26.24884679081478,
          23.00964392761748,
          35.51187158404489,
          10.34919732778565,
          29.190972972775374,
          27.188808477032417,
          25.249417473546803,
          19.933284607245422,
          15.94946896427203,
          27.654356487161365,
          32.71057432022808,
          17.367474985150963,
          16.271225871982036,
          30.5864490528454,
          21.31041795264667,
          33.1551676086209,
          25.09668227522765,
          27.149376851817948,
          18.902931367492474,
          15.777573673706073,
          22.24553462996549,
          35.51248173085676,
          28.127040809563056,
          25.64475938377799,
          19.64864507053622,
          30.83055725431996,
          25.20318676380432,
          24.600300726662358,
          22.6780865946232,
          30.08405722114575,
          30.00596070704917,
          21.893637541467307,
          22.590041312522263,
          20.272026076288263,
          26.26400796426581,
          21.95677436736106,
          22.959184560582457,
          38.17790290915616,
          29.79667804815301,
          28.031229969359224,
          28.29398612189756,
          30.761492224908764,
          26.084800618349316,
          28.985943186426653,
          29.625339575676563,
          31.775439034319437,
          29.6252213067103,
          19.756540979630287,
          15.537262567876189,
          25.29708456252045,
          26.34066389478638,
          27.677692830386587,
          23.264254229403527,
          27.632863916491797,
          22.421060597573664,
          31.21382390861312,
          37.61661553130493,
          23.69246375134988,
          32.93294625992312,
          34.178564622703284,
          23.93046849577245,
          19.84939960224426,
          23.19659091206597,
          32.53539353605095,
          22.635072383129387,
          23.23889147312383,
          21.96742491055781,
          23.675837105144097,
          28.370530339655936,
          20.7100342754554,
          28.548120355186843,
          21.62029364451024,
          24.166364119132066,
          15.57276261006291,
          22.54178555103917,
          23.083878813503787,
          34.45812328348145,
          28.631070374313964,
          35.82776806464611,
          25.07358673464978,
          33.20857144387333,
          24.96815206037332,
          26.36479215000821,
          21.56039171210713,
          26.02927303855729,
          27.612659240024616,
          34.80201404740492,
          35.17219869176445,
          19.581502664606184,
          29.64074816143788,
          27.374124819939187,
          15.516987753177384,
          23.291321095587545,
          15.287936748617575,
          27.370676132238195,
          33.20268489970249,
          26.63149658258248,
          26.410705006178222,
          23.180015247359687,
          27.51691417722789,
          13.51289944981314,
          26.551651084368785,
          23.13132015945587,
          33.957753935717896,
          24.407238429199563,
          27.03834169637691,
          21.54292807777951,
          15.128799212655148,
          24.54681089175964,
          22.62613988728577,
          23.47786196764646,
          24.403741116317278,
          22.21083186557772,
          18.785328355988515,
          27.90841779424484,
          36.57789174807251,
          15.723197122635009,
          28.780218251472885,
          23.67420267798981,
          33.94410364260032,
          31.52263505554915,
          30.58746820356949,
          20.01270501903361,
          25.637258523781348,
          25.76868698553688,
          16.390074895002677,
          26.277465185248797,
          16.791465921146898,
          26.22903276505808,
          23.61161824392365,
          22.198728871401286,
          28.67378514912074,
          20.70822124073972,
          29.271816471226572,
          23.90834640258133,
          22.296061130634865,
          16.80554700534193,
          19.526912959420702,
          25.40041533851633,
          35.84485752666471,
          29.41487633217316,
          23.503504382404177,
          26.116023005363083,
          18.702198936082524,
          22.718980150062357,
          24.92226086871293,
          25.120637680434328,
          21.398565449284995,
          25.53349347217776,
          24.647961341826484,
          19.946616135165414,
          20.340232274848617,
          26.141794249469694,
          29.872044099535103,
          25.77878747849489,
          17.346768933226727,
          22.281602187597755,
          25.610944812236053,
          22.590956595507457,
          31.71847371872425,
          30.25944271840773,
          28.38168449938085,
          30.30116575308242,
          29.632472461071806,
          33.83519290830352,
          18.31893437212565,
          17.132839582509543,
          24.703846258773076,
          19.18935945527404,
          23.135240822958803
         ],
         "yaxis": "y"
        },
        {
         "hovertemplate": "Anomaly=1<br>Timestamps=%{x}<br>Temperature=%{y}<extra></extra>",
         "legendgroup": "1",
         "line": {
          "color": "#EF553B",
          "dash": "solid"
         },
         "marker": {
          "symbol": "circle"
         },
         "mode": "lines",
         "name": "1",
         "orientation": "v",
         "showlegend": true,
         "type": "scatter",
         "x": [
          "2023-01-20T22:51:29",
          "2023-01-02T12:20:59",
          "2023-01-14T18:28:24",
          "2023-01-06T09:41:09",
          "2023-01-27T03:32:47"
         ],
         "xaxis": "x",
         "y": [
          88.68052432950974,
          82.41640158777199,
          78.08339125207821,
          73.84094708779449,
          66.03221060342422
         ],
         "yaxis": "y"
        }
       ],
       "layout": {
        "legend": {
         "title": {
          "text": "Anomaly"
         },
         "tracegroupgap": 0
        },
        "template": {
         "data": {
          "bar": [
           {
            "error_x": {
             "color": "#2a3f5f"
            },
            "error_y": {
             "color": "#2a3f5f"
            },
            "marker": {
             "line": {
              "color": "#E5ECF6",
              "width": 0.5
             },
             "pattern": {
              "fillmode": "overlay",
              "size": 10,
              "solidity": 0.2
             }
            },
            "type": "bar"
           }
          ],
          "barpolar": [
           {
            "marker": {
             "line": {
              "color": "#E5ECF6",
              "width": 0.5
             },
             "pattern": {
              "fillmode": "overlay",
              "size": 10,
              "solidity": 0.2
             }
            },
            "type": "barpolar"
           }
          ],
          "carpet": [
           {
            "aaxis": {
             "endlinecolor": "#2a3f5f",
             "gridcolor": "white",
             "linecolor": "white",
             "minorgridcolor": "white",
             "startlinecolor": "#2a3f5f"
            },
            "baxis": {
             "endlinecolor": "#2a3f5f",
             "gridcolor": "white",
             "linecolor": "white",
             "minorgridcolor": "white",
             "startlinecolor": "#2a3f5f"
            },
            "type": "carpet"
           }
          ],
          "choropleth": [
           {
            "colorbar": {
             "outlinewidth": 0,
             "ticks": ""
            },
            "type": "choropleth"
           }
          ],
          "contour": [
           {
            "colorbar": {
             "outlinewidth": 0,
             "ticks": ""
            },
            "colorscale": [
             [
              0,
              "#0d0887"
             ],
             [
              0.1111111111111111,
              "#46039f"
             ],
             [
              0.2222222222222222,
              "#7201a8"
             ],
             [
              0.3333333333333333,
              "#9c179e"
             ],
             [
              0.4444444444444444,
              "#bd3786"
             ],
             [
              0.5555555555555556,
              "#d8576b"
             ],
             [
              0.6666666666666666,
              "#ed7953"
             ],
             [
              0.7777777777777778,
              "#fb9f3a"
             ],
             [
              0.8888888888888888,
              "#fdca26"
             ],
             [
              1,
              "#f0f921"
             ]
            ],
            "type": "contour"
           }
          ],
          "contourcarpet": [
           {
            "colorbar": {
             "outlinewidth": 0,
             "ticks": ""
            },
            "type": "contourcarpet"
           }
          ],
          "heatmap": [
           {
            "colorbar": {
             "outlinewidth": 0,
             "ticks": ""
            },
            "colorscale": [
             [
              0,
              "#0d0887"
             ],
             [
              0.1111111111111111,
              "#46039f"
             ],
             [
              0.2222222222222222,
              "#7201a8"
             ],
             [
              0.3333333333333333,
              "#9c179e"
             ],
             [
              0.4444444444444444,
              "#bd3786"
             ],
             [
              0.5555555555555556,
              "#d8576b"
             ],
             [
              0.6666666666666666,
              "#ed7953"
             ],
             [
              0.7777777777777778,
              "#fb9f3a"
             ],
             [
              0.8888888888888888,
              "#fdca26"
             ],
             [
              1,
              "#f0f921"
             ]
            ],
            "type": "heatmap"
           }
          ],
          "heatmapgl": [
           {
            "colorbar": {
             "outlinewidth": 0,
             "ticks": ""
            },
            "colorscale": [
             [
              0,
              "#0d0887"
             ],
             [
              0.1111111111111111,
              "#46039f"
             ],
             [
              0.2222222222222222,
              "#7201a8"
             ],
             [
              0.3333333333333333,
              "#9c179e"
             ],
             [
              0.4444444444444444,
              "#bd3786"
             ],
             [
              0.5555555555555556,
              "#d8576b"
             ],
             [
              0.6666666666666666,
              "#ed7953"
             ],
             [
              0.7777777777777778,
              "#fb9f3a"
             ],
             [
              0.8888888888888888,
              "#fdca26"
             ],
             [
              1,
              "#f0f921"
             ]
            ],
            "type": "heatmapgl"
           }
          ],
          "histogram": [
           {
            "marker": {
             "pattern": {
              "fillmode": "overlay",
              "size": 10,
              "solidity": 0.2
             }
            },
            "type": "histogram"
           }
          ],
          "histogram2d": [
           {
            "colorbar": {
             "outlinewidth": 0,
             "ticks": ""
            },
            "colorscale": [
             [
              0,
              "#0d0887"
             ],
             [
              0.1111111111111111,
              "#46039f"
             ],
             [
              0.2222222222222222,
              "#7201a8"
             ],
             [
              0.3333333333333333,
              "#9c179e"
             ],
             [
              0.4444444444444444,
              "#bd3786"
             ],
             [
              0.5555555555555556,
              "#d8576b"
             ],
             [
              0.6666666666666666,
              "#ed7953"
             ],
             [
              0.7777777777777778,
              "#fb9f3a"
             ],
             [
              0.8888888888888888,
              "#fdca26"
             ],
             [
              1,
              "#f0f921"
             ]
            ],
            "type": "histogram2d"
           }
          ],
          "histogram2dcontour": [
           {
            "colorbar": {
             "outlinewidth": 0,
             "ticks": ""
            },
            "colorscale": [
             [
              0,
              "#0d0887"
             ],
             [
              0.1111111111111111,
              "#46039f"
             ],
             [
              0.2222222222222222,
              "#7201a8"
             ],
             [
              0.3333333333333333,
              "#9c179e"
             ],
             [
              0.4444444444444444,
              "#bd3786"
             ],
             [
              0.5555555555555556,
              "#d8576b"
             ],
             [
              0.6666666666666666,
              "#ed7953"
             ],
             [
              0.7777777777777778,
              "#fb9f3a"
             ],
             [
              0.8888888888888888,
              "#fdca26"
             ],
             [
              1,
              "#f0f921"
             ]
            ],
            "type": "histogram2dcontour"
           }
          ],
          "mesh3d": [
           {
            "colorbar": {
             "outlinewidth": 0,
             "ticks": ""
            },
            "type": "mesh3d"
           }
          ],
          "parcoords": [
           {
            "line": {
             "colorbar": {
              "outlinewidth": 0,
              "ticks": ""
             }
            },
            "type": "parcoords"
           }
          ],
          "pie": [
           {
            "automargin": true,
            "type": "pie"
           }
          ],
          "scatter": [
           {
            "fillpattern": {
             "fillmode": "overlay",
             "size": 10,
             "solidity": 0.2
            },
            "type": "scatter"
           }
          ],
          "scatter3d": [
           {
            "line": {
             "colorbar": {
              "outlinewidth": 0,
              "ticks": ""
             }
            },
            "marker": {
             "colorbar": {
              "outlinewidth": 0,
              "ticks": ""
             }
            },
            "type": "scatter3d"
           }
          ],
          "scattercarpet": [
           {
            "marker": {
             "colorbar": {
              "outlinewidth": 0,
              "ticks": ""
             }
            },
            "type": "scattercarpet"
           }
          ],
          "scattergeo": [
           {
            "marker": {
             "colorbar": {
              "outlinewidth": 0,
              "ticks": ""
             }
            },
            "type": "scattergeo"
           }
          ],
          "scattergl": [
           {
            "marker": {
             "colorbar": {
              "outlinewidth": 0,
              "ticks": ""
             }
            },
            "type": "scattergl"
           }
          ],
          "scattermapbox": [
           {
            "marker": {
             "colorbar": {
              "outlinewidth": 0,
              "ticks": ""
             }
            },
            "type": "scattermapbox"
           }
          ],
          "scatterpolar": [
           {
            "marker": {
             "colorbar": {
              "outlinewidth": 0,
              "ticks": ""
             }
            },
            "type": "scatterpolar"
           }
          ],
          "scatterpolargl": [
           {
            "marker": {
             "colorbar": {
              "outlinewidth": 0,
              "ticks": ""
             }
            },
            "type": "scatterpolargl"
           }
          ],
          "scatterternary": [
           {
            "marker": {
             "colorbar": {
              "outlinewidth": 0,
              "ticks": ""
             }
            },
            "type": "scatterternary"
           }
          ],
          "surface": [
           {
            "colorbar": {
             "outlinewidth": 0,
             "ticks": ""
            },
            "colorscale": [
             [
              0,
              "#0d0887"
             ],
             [
              0.1111111111111111,
              "#46039f"
             ],
             [
              0.2222222222222222,
              "#7201a8"
             ],
             [
              0.3333333333333333,
              "#9c179e"
             ],
             [
              0.4444444444444444,
              "#bd3786"
             ],
             [
              0.5555555555555556,
              "#d8576b"
             ],
             [
              0.6666666666666666,
              "#ed7953"
             ],
             [
              0.7777777777777778,
              "#fb9f3a"
             ],
             [
              0.8888888888888888,
              "#fdca26"
             ],
             [
              1,
              "#f0f921"
             ]
            ],
            "type": "surface"
           }
          ],
          "table": [
           {
            "cells": {
             "fill": {
              "color": "#EBF0F8"
             },
             "line": {
              "color": "white"
             }
            },
            "header": {
             "fill": {
              "color": "#C8D4E3"
             },
             "line": {
              "color": "white"
             }
            },
            "type": "table"
           }
          ]
         },
         "layout": {
          "annotationdefaults": {
           "arrowcolor": "#2a3f5f",
           "arrowhead": 0,
           "arrowwidth": 1
          },
          "autotypenumbers": "strict",
          "coloraxis": {
           "colorbar": {
            "outlinewidth": 0,
            "ticks": ""
           }
          },
          "colorscale": {
           "diverging": [
            [
             0,
             "#8e0152"
            ],
            [
             0.1,
             "#c51b7d"
            ],
            [
             0.2,
             "#de77ae"
            ],
            [
             0.3,
             "#f1b6da"
            ],
            [
             0.4,
             "#fde0ef"
            ],
            [
             0.5,
             "#f7f7f7"
            ],
            [
             0.6,
             "#e6f5d0"
            ],
            [
             0.7,
             "#b8e186"
            ],
            [
             0.8,
             "#7fbc41"
            ],
            [
             0.9,
             "#4d9221"
            ],
            [
             1,
             "#276419"
            ]
           ],
           "sequential": [
            [
             0,
             "#0d0887"
            ],
            [
             0.1111111111111111,
             "#46039f"
            ],
            [
             0.2222222222222222,
             "#7201a8"
            ],
            [
             0.3333333333333333,
             "#9c179e"
            ],
            [
             0.4444444444444444,
             "#bd3786"
            ],
            [
             0.5555555555555556,
             "#d8576b"
            ],
            [
             0.6666666666666666,
             "#ed7953"
            ],
            [
             0.7777777777777778,
             "#fb9f3a"
            ],
            [
             0.8888888888888888,
             "#fdca26"
            ],
            [
             1,
             "#f0f921"
            ]
           ],
           "sequentialminus": [
            [
             0,
             "#0d0887"
            ],
            [
             0.1111111111111111,
             "#46039f"
            ],
            [
             0.2222222222222222,
             "#7201a8"
            ],
            [
             0.3333333333333333,
             "#9c179e"
            ],
            [
             0.4444444444444444,
             "#bd3786"
            ],
            [
             0.5555555555555556,
             "#d8576b"
            ],
            [
             0.6666666666666666,
             "#ed7953"
            ],
            [
             0.7777777777777778,
             "#fb9f3a"
            ],
            [
             0.8888888888888888,
             "#fdca26"
            ],
            [
             1,
             "#f0f921"
            ]
           ]
          },
          "colorway": [
           "#636efa",
           "#EF553B",
           "#00cc96",
           "#ab63fa",
           "#FFA15A",
           "#19d3f3",
           "#FF6692",
           "#B6E880",
           "#FF97FF",
           "#FECB52"
          ],
          "font": {
           "color": "#2a3f5f"
          },
          "geo": {
           "bgcolor": "white",
           "lakecolor": "white",
           "landcolor": "#E5ECF6",
           "showlakes": true,
           "showland": true,
           "subunitcolor": "white"
          },
          "hoverlabel": {
           "align": "left"
          },
          "hovermode": "closest",
          "mapbox": {
           "style": "light"
          },
          "paper_bgcolor": "white",
          "plot_bgcolor": "#E5ECF6",
          "polar": {
           "angularaxis": {
            "gridcolor": "white",
            "linecolor": "white",
            "ticks": ""
           },
           "bgcolor": "#E5ECF6",
           "radialaxis": {
            "gridcolor": "white",
            "linecolor": "white",
            "ticks": ""
           }
          },
          "scene": {
           "xaxis": {
            "backgroundcolor": "#E5ECF6",
            "gridcolor": "white",
            "gridwidth": 2,
            "linecolor": "white",
            "showbackground": true,
            "ticks": "",
            "zerolinecolor": "white"
           },
           "yaxis": {
            "backgroundcolor": "#E5ECF6",
            "gridcolor": "white",
            "gridwidth": 2,
            "linecolor": "white",
            "showbackground": true,
            "ticks": "",
            "zerolinecolor": "white"
           },
           "zaxis": {
            "backgroundcolor": "#E5ECF6",
            "gridcolor": "white",
            "gridwidth": 2,
            "linecolor": "white",
            "showbackground": true,
            "ticks": "",
            "zerolinecolor": "white"
           }
          },
          "shapedefaults": {
           "line": {
            "color": "#2a3f5f"
           }
          },
          "ternary": {
           "aaxis": {
            "gridcolor": "white",
            "linecolor": "white",
            "ticks": ""
           },
           "baxis": {
            "gridcolor": "white",
            "linecolor": "white",
            "ticks": ""
           },
           "bgcolor": "#E5ECF6",
           "caxis": {
            "gridcolor": "white",
            "linecolor": "white",
            "ticks": ""
           }
          },
          "title": {
           "x": 0.05
          },
          "xaxis": {
           "automargin": true,
           "gridcolor": "white",
           "linecolor": "white",
           "ticks": "",
           "title": {
            "standoff": 15
           },
           "zerolinecolor": "white",
           "zerolinewidth": 2
          },
          "yaxis": {
           "automargin": true,
           "gridcolor": "white",
           "linecolor": "white",
           "ticks": "",
           "title": {
            "standoff": 15
           },
           "zerolinecolor": "white",
           "zerolinewidth": 2
          }
         }
        },
        "title": {
         "text": "Temperature with time series"
        },
        "xaxis": {
         "anchor": "y",
         "domain": [
          0,
          1
         ],
         "title": {
          "text": "Timestamps"
         }
        },
        "yaxis": {
         "anchor": "x",
         "domain": [
          0,
          1
         ],
         "title": {
          "text": "Temperature"
         }
        }
       }
      }
     },
     "metadata": {},
     "output_type": "display_data"
    }
   ],
   "source": [
    "fig = px.line(Boiler_B, x=\"Timestamps\", y=\"Temperature\",  color='Anomaly',title='Temperature with time series')\n",
    "fig.show()"
   ]
  },
  {
   "cell_type": "code",
   "execution_count": 39,
   "metadata": {},
   "outputs": [],
   "source": [
    "Boiler_C=df[df['Boiler Name']=='Boiler C']"
   ]
  },
  {
   "cell_type": "code",
   "execution_count": 30,
   "metadata": {},
   "outputs": [
    {
     "data": {
      "text/plain": [
       "<Axes: xlabel='Temperature', ylabel='Count'>"
      ]
     },
     "execution_count": 30,
     "metadata": {},
     "output_type": "execute_result"
    },
    {
     "data": {
      "image/png": "[encoded data removed]",
      "text/plain": [
       "<Figure size 640x480 with 1 Axes>"
      ]
     },
     "metadata": {},
     "output_type": "display_data"
    }
   ],
   "source": [
    "sns.histplot(Boiler_C['Temperature'],kde=True)"
   ]
  },
  {
   "cell_type": "code",
   "execution_count": 23,
   "metadata": {},
   "outputs": [
    {
     "name": "stderr",
     "output_type": "stream",
     "text": [
      "c:\\Users\\rames\\OneDrive\\Desktop\\guvi-ds\\Hospital-readmission-project\\.venv\\Lib\\site-packages\\_plotly_utils\\basevalidators.py:105: FutureWarning:\n",
      "\n",
      "The behavior of DatetimeProperties.to_pydatetime is deprecated, in a future version this will return a Series containing python datetime objects instead of an ndarray. To retain the old behavior, call `np.array` on the result\n",
      "\n"
     ]
    },
    {
     "data": {
      "application/vnd.plotly.v1+json": {
       "config": {
        "plotlyServerURL": "https://plot.ly"
       },
       "data": [
        {
         "hovertemplate": "Anomaly=0<br>Timestamps=%{x}<br>Temperature=%{y}<extra></extra>",
         "legendgroup": "0",
         "line": {
          "color": "#636efa",
          "dash": "solid"
         },
         "marker": {
          "symbol": "circle"
         },
         "mode": "lines",
         "name": "0",
         "orientation": "v",
         "showlegend": true,
         "type": "scatter",
         "x": [
          "2023-01-03T17:10:50",
          "2023-01-22T04:43:32",
          "2023-01-13T07:07:50",
          "2023-01-18T14:40:26",
          "2023-01-24T19:58:40",
          "2023-01-23T13:13:44",
          "2023-01-12T19:36:51",
          "2023-01-15T16:52:52",
          "2023-01-27T02:07:51",
          "2023-01-20T17:19:32",
          "2023-01-15T23:05:52",
          "2023-01-04T13:39:15",
          "2023-01-27T04:14:25",
          "2023-01-12T11:18:38",
          "2023-01-26T06:25:12",
          "2023-01-22T07:49:43",
          "2023-01-25T10:18:34",
          "2023-01-02T19:14:06",
          "2023-01-23T00:09:05",
          "2023-01-27T18:39:02",
          "2023-01-20T18:32:45",
          "2023-01-21T08:19:58",
          "2023-01-03T19:26:06",
          "2023-01-30T02:07:53",
          "2023-01-25T21:39:37",
          "2023-01-25T20:41:39",
          "2023-01-11T20:11:35",
          "2023-01-13T20:14:55",
          "2023-01-25T20:11:25",
          "2023-01-18T15:14:54",
          "2023-01-11T16:50:27",
          "2023-01-25T14:11:20",
          "2023-01-04T15:21:09",
          "2023-01-14T22:10:30",
          "2023-01-18T06:40:51",
          "2023-01-23T21:00:40",
          "2023-01-26T11:37:25",
          "2023-01-12T14:03:59",
          "2023-01-15T03:50:38",
          "2023-01-30T06:53:57",
          "2023-01-06T19:43:20",
          "2023-01-10T23:35:59",
          "2023-01-19T00:00:50",
          "2023-01-23T00:58:02",
          "2023-01-02T08:24:28",
          "2023-01-10T21:41:01",
          "2023-01-04T07:02:58",
          "2023-01-01T14:35:29",
          "2023-01-26T02:49:46",
          "2023-01-30T14:23:07",
          "2023-01-17T19:20:31",
          "2023-01-08T06:54:59",
          "2023-01-05T11:35:14",
          "2023-01-14T11:23:04",
          "2023-01-21T11:20:09",
          "2023-01-26T21:26:54",
          "2023-01-30T11:49:16",
          "2023-01-24T23:15:13",
          "2023-01-06T10:38:30",
          "2023-01-07T09:24:35",
          "2023-01-16T05:44:38",
          "2023-01-11T00:50:58",
          "2023-01-21T23:21:56",
          "2023-01-16T05:14:16",
          "2023-01-15T22:15:21",
          "2023-01-16T20:18:36",
          "2023-01-03T14:40:38",
          "2023-01-30T09:28:01",
          "2023-01-21T02:55:54",
          "2023-01-22T20:32:17",
          "2023-01-28T08:17:29",
          "2023-01-30T19:40:41",
          "2023-01-03T22:46:28",
          "2023-01-20T10:42:38",
          "2023-01-20T21:24:07",
          "2023-01-11T19:36:54",
          "2023-01-20T03:40:19",
          "2023-01-09T04:58:18",
          "2023-01-28T05:10:13",
          "2023-01-03T13:05:21",
          "2023-01-21T08:18:58",
          "2023-01-06T13:21:18",
          "2023-01-06T02:40:33",
          "2023-01-07T03:10:51",
          "2023-01-21T19:43:52",
          "2023-01-17T00:30:07",
          "2023-01-15T22:25:35",
          "2023-01-01T11:04:26",
          "2023-01-21T08:31:08",
          "2023-01-25T14:50:39",
          "2023-01-03T02:20:07",
          "2023-01-11T20:31:32",
          "2023-01-22T01:32:21",
          "2023-01-02T03:09:34",
          "2023-01-18T08:28:48",
          "2023-01-10T16:03:35",
          "2023-01-20T10:38:59",
          "2023-01-01T07:10:14",
          "2023-01-03T23:09:51",
          "2023-01-08T12:38:45",
          "2023-01-06T19:39:22",
          "2023-01-09T00:49:16",
          "2023-01-12T01:01:35",
          "2023-01-19T03:40:04",
          "2023-01-05T11:19:48",
          "2023-01-12T19:41:42",
          "2023-01-18T02:53:07",
          "2023-01-02T16:59:59",
          "2023-01-29T02:54:32",
          "2023-01-26T20:16:39",
          "2023-01-26T09:12:15",
          "2023-01-30T16:53:56",
          "2023-01-22T18:33:24",
          "2023-01-15T16:01:40",
          "2023-01-17T04:13:54",
          "2023-01-22T15:54:45",
          "2023-01-14T04:03:44",
          "2023-01-26T21:54:00",
          "2023-01-26T20:01:18",
          "2023-01-25T20:30:52",
          "2023-01-03T01:47:41",
          "2023-01-28T11:06:11",
          "2023-01-08T19:09:36",
          "2023-01-16T08:49:44",
          "2023-01-28T17:26:53",
          "2023-01-24T15:04:00",
          "2023-01-14T01:06:31",
          "2023-01-24T07:24:12",
          "2023-01-10T23:56:15",
          "2023-01-20T22:51:29",
          "2023-01-11T02:04:47",
          "2023-01-21T04:33:44",
          "2023-01-08T14:15:02",
          "2023-01-26T12:20:38",
          "2023-01-28T20:03:01",
          "2023-01-10T13:26:53",
          "2023-01-21T00:51:07",
          "2023-01-30T22:32:05",
          "2023-01-09T14:33:34",
          "2023-01-03T03:11:37",
          "2023-01-22T15:55:44",
          "2023-01-24T23:42:44",
          "2023-01-24T03:03:43",
          "2023-01-03T03:20:47",
          "2023-01-19T06:06:25",
          "2023-01-18T19:49:32",
          "2023-01-14T04:41:47",
          "2023-01-26T12:10:21",
          "2023-01-21T12:19:51",
          "2023-01-04T14:51:51",
          "2023-01-07T20:45:19",
          "2023-01-12T06:53:15",
          "2023-01-04T12:02:54",
          "2023-01-15T04:30:05",
          "2023-01-30T02:51:22",
          "2023-01-30T02:34:18",
          "2023-01-14T11:58:35",
          "2023-01-20T19:23:01",
          "2023-01-18T16:39:10",
          "2023-01-18T05:46:54",
          "2023-01-08T22:21:06",
          "2023-01-29T00:35:54",
          "2023-01-09T23:49:56",
          "2023-01-23T07:14:59",
          "2023-01-06T10:53:41",
          "2023-01-06T06:08:25",
          "2023-01-11T02:07:25",
          "2023-01-17T00:04:24",
          "2023-01-14T07:06:38",
          "2023-01-29T18:57:33",
          "2023-01-14T23:16:33",
          "2023-01-05T17:31:11",
          "2023-01-30T23:14:12",
          "2023-01-24T02:25:57",
          "2023-01-02T07:35:06",
          "2023-01-03T02:07:39",
          "2023-01-10T07:19:43",
          "2023-01-15T04:53:31",
          "2023-01-21T05:31:53",
          "2023-01-15T14:46:00",
          "2023-01-13T16:33:31",
          "2023-01-28T19:09:39",
          "2023-01-29T04:28:12",
          "2023-01-01T16:55:21",
          "2023-01-18T00:35:18",
          "2023-01-18T04:58:07",
          "2023-01-02T22:41:18",
          "2023-01-01T13:43:44",
          "2023-01-05T14:14:10",
          "2023-01-14T15:25:37",
          "2023-01-04T20:11:08",
          "2023-01-08T07:13:52",
          "2023-01-06T04:51:59",
          "2023-01-22T01:19:41",
          "2023-01-13T10:08:08",
          "2023-01-01T08:58:40",
          "2023-01-08T06:39:22",
          "2023-01-27T02:12:24",
          "2023-01-16T11:03:49",
          "2023-01-25T05:45:27",
          "2023-01-18T11:15:27",
          "2023-01-18T22:26:43",
          "2023-01-28T03:04:04",
          "2023-01-24T18:04:30",
          "2023-01-10T19:16:45",
          "2023-01-04T16:32:34",
          "2023-01-11T13:14:19",
          "2023-01-08T19:47:50",
          "2023-01-27T22:03:09",
          "2023-01-30T08:30:02",
          "2023-01-04T16:06:15",
          "2023-01-21T12:47:05",
          "2023-01-06T22:21:24",
          "2023-01-03T13:31:42",
          "2023-01-26T23:43:59",
          "2023-01-27T01:47:45",
          "2023-01-14T17:05:37",
          "2023-01-22T23:34:59",
          "2023-01-10T10:55:11",
          "2023-01-08T16:39:37",
          "2023-01-16T13:28:33",
          "2023-01-12T04:55:19",
          "2023-01-27T19:08:06",
          "2023-01-14T14:22:10",
          "2023-01-13T03:18:22",
          "2023-01-26T05:39:48",
          "2023-01-29T17:04:57",
          "2023-01-22T19:22:59",
          "2023-01-04T22:23:53",
          "2023-01-21T20:26:25",
          "2023-01-26T01:27:42",
          "2023-01-04T00:22:36",
          "2023-01-06T05:32:47",
          "2023-01-30T16:28:18",
          "2023-01-18T06:44:13",
          "2023-01-23T06:27:29",
          "2023-01-13T04:39:07",
          "2023-01-11T04:41:00",
          "2023-01-30T06:41:17",
          "2023-01-16T04:05:08",
          "2023-01-03T06:09:07",
          "2023-01-25T18:05:52",
          "2023-01-10T01:00:11",
          "2023-01-24T19:50:39",
          "2023-01-09T23:15:01",
          "2023-01-07T18:54:42",
          "2023-01-03T15:21:20",
          "2023-01-21T23:57:53",
          "2023-01-19T10:57:49",
          "2023-01-04T11:25:05",
          "2023-01-15T18:30:16",
          "2023-01-28T15:37:48",
          "2023-01-06T15:39:20",
          "2023-01-25T00:04:52",
          "2023-01-30T08:01:48",
          "2023-01-11T18:55:59",
          "2023-01-01T12:01:37",
          "2023-01-11T07:47:22",
          "2023-01-04T13:40:11",
          "2023-01-14T08:52:53",
          "2023-01-18T18:44:46",
          "2023-01-07T11:36:45",
          "2023-01-18T03:18:37",
          "2023-01-27T12:41:06",
          "2023-01-22T11:45:28",
          "2023-01-12T04:45:20",
          "2023-01-12T06:09:52",
          "2023-01-30T12:31:17",
          "2023-01-29T10:51:27",
          "2023-01-02T12:31:32",
          "2023-01-23T14:09:30",
          "2023-01-11T03:52:10",
          "2023-01-26T16:27:27",
          "2023-01-12T12:22:23",
          "2023-01-06T06:09:42",
          "2023-01-11T20:08:20",
          "2023-01-02T10:43:37",
          "2023-01-09T05:24:21",
          "2023-01-02T13:28:22"
         ],
         "xaxis": "x",
         "y": [
          20.564031664824043,
          16.407182890370958,
          29.0915812448619,
          26.186782557179487,
          28.575325052791968,
          28.33142315548242,
          35.145680773490746,
          31.872997295777505,
          25.13163053677315,
          19.353463579602256,
          28.18814090400277,
          23.616758948990142,
          15.097095604173171,
          19.74460817709237,
          15.975449434430974,
          23.891114587712696,
          30.4809729253882,
          33.574475828561674,
          20.789853448855048,
          24.19953723553308,
          17.49647241888253,
          23.697073251446938,
          31.306635484466995,
          30.791530808740585,
          27.25386284565376,
          25.3406978735304,
          26.92522219045744,
          32.04288820259839,
          28.699456783679203,
          32.001197868568774,
          29.350162122309083,
          24.327967951698582,
          24.384195007128145,
          22.2820523517312,
          19.8337238342169,
          29.86145806721249,
          23.907027808645125,
          27.712718793613178,
          22.82789750331363,
          25.678551860354727,
          21.075780447658552,
          18.429631753336057,
          25.269839113774097,
          31.833232450169888,
          17.765774821535764,
          29.56389490085124,
          24.38236488366211,
          22.48922200093473,
          23.40884282173252,
          22.18763507744503,
          20.441242860899912,
          25.75608572157859,
          22.344930311663894,
          32.88604156589608,
          33.14048227442857,
          23.352526953023997,
          24.21734863314807,
          27.508554408812376,
          22.784121735460666,
          22.841897972864487,
          32.77547177018957,
          24.751416835505506,
          28.532906350208325,
          30.21098815002256,
          27.302658926875782,
          23.221341676208148,
          33.38947703399197,
          31.01243975624273,
          26.46555306016036,
          29.75136452885379,
          23.96226261558609,
          28.00472151736715,
          25.345456815437576,
          32.176729452070454,
          26.88146002467857,
          38.7845967753465,
          23.92280240268258,
          20.78801980145098,
          24.987247014259893,
          20.653149783724984,
          34.11011203827918,
          27.358097771612183,
          27.899406387571915,
          26.918292151078983,
          25.246686298757396,
          23.96012893608708,
          20.10053505014021,
          24.44888472487622,
          27.22099609922597,
          22.30249039550545,
          22.84057846257084,
          21.051642809369323,
          27.133480595332365,
          25.69485215478716,
          25.79411987240201,
          14.253021082579265,
          25.9939381653354,
          25.947907972535827,
          26.99602557737818,
          28.52004661259615,
          22.148711527927887,
          19.80031655787476,
          22.68714601176586,
          27.003609104682063,
          31.69344477735068,
          31.407755239220705,
          25.40607862197541,
          20.883903674512737,
          30.13337739184363,
          26.22480911333391,
          19.116984012408004,
          19.19201336641649,
          19.52076374713913,
          21.24008494347933,
          24.66551178135986,
          33.25367707242604,
          32.33179746113876,
          30.46038871241961,
          19.21449501753486,
          14.57759976795391,
          22.08408542046236,
          20.66703068621713,
          22.120198079593564,
          24.34394775799357,
          23.55081957813965,
          30.6321960759526,
          21.12249039179043,
          20.988722337277142,
          28.0155562369318,
          25.07700640191702,
          29.0229190323513,
          22.71261657396338,
          17.899761999962845,
          27.58877922953768,
          22.916420665393048,
          17.043446904895085,
          20.0509645145495,
          27.47590689730364,
          30.52687135233291,
          21.106106512356067,
          25.568672088884423,
          16.755817828907986,
          20.297899643978177,
          26.181951632317883,
          19.5063299561059,
          27.62393472313398,
          27.06216976067168,
          30.71146966785333,
          26.716291685393305,
          18.271245623725022,
          25.331135656327756,
          28.043461734678235,
          31.964574413515106,
          29.82529930476756,
          31.345774772334835,
          31.032519963965505,
          20.793147015871725,
          26.370652060579427,
          22.746931083016445,
          24.95322686468888,
          27.92327091356571,
          21.301274759208177,
          32.45386891881325,
          24.5263898590841,
          31.885706062184852,
          10.466952307374074,
          30.126984657139587,
          22.30528132217711,
          32.46258099957956,
          25.46938651206079,
          35.650339496335846,
          28.606823202257583,
          26.93087670148008,
          26.38119342818756,
          25.33614822993019,
          22.65365078776575,
          19.39493445319303,
          13.20653786204254,
          27.39877163102208,
          19.13195439856768,
          15.815921910460991,
          18.58202155944622,
          19.2908442912098,
          18.517277394235755,
          29.74450600004868,
          14.411349366756143,
          19.64711442153609,
          26.513179903872,
          27.87361546161824,
          26.585126286794285,
          28.468714988184484,
          23.400893921415605,
          22.976082346031586,
          21.81604566128298,
          29.851215825288847,
          22.296120904573197,
          17.561979933176744,
          19.289090640367608,
          28.535867893292743,
          16.97313128180657,
          30.75977148301873,
          23.919724889311205,
          24.871612812642187,
          21.59608072633002,
          24.712219747266488,
          16.783986296085914,
          21.18034378502172,
          19.424913330584378,
          21.85666339074531,
          11.046054516373404,
          20.96564786315344,
          22.77469509043588,
          34.555219315663635,
          16.120717338634982,
          33.06709387160583,
          23.94501877472076,
          22.94262642162509,
          22.036462971801804,
          25.488433236408454,
          25.99671138446777,
          28.558613988191407,
          17.939722810921047,
          22.842783480190228,
          31.335354286679276,
          22.08455506619173,
          24.913005127097616,
          25.999705722666054,
          28.337618220221703,
          16.825955488593873,
          18.873689550674985,
          29.472073157916213,
          27.5792985225954,
          31.326385474812906,
          26.00565606216264,
          21.71231416287938,
          33.898932497712494,
          27.98705404819278,
          27.138167723400034,
          37.45082965254535,
          30.61672388136543,
          20.20859000356,
          23.652570366256143,
          26.853306707508462,
          20.192850731189328,
          27.321936272227447,
          25.05703244223068,
          15.723811448386073,
          22.10093192995024,
          25.96957245383183,
          26.09053289795402,
          27.253638947949515,
          20.57298309575032,
          20.784261996092283,
          38.30392967254131,
          19.49679457453589,
          27.38471547658317,
          26.35574770324028,
          24.742931395809432,
          27.555391640549747,
          18.22033305522376,
          30.18917809034216,
          14.392539461266328,
          18.984422001481665,
          24.07540419155158,
          22.90060729879128,
          20.44396764983252,
          25.09293425734458,
          20.696972164296675,
          37.49308023410952,
          37.67865707889233,
          28.323991358169707,
          23.37406072134541,
          28.93760372125582,
          24.53221279683911,
          27.77449285703043,
          28.070256435463023,
          29.38604024929336,
          21.35238965612762,
          18.227485287716117
         ],
         "yaxis": "y"
        },
        {
         "hovertemplate": "Anomaly=1<br>Timestamps=%{x}<br>Temperature=%{y}<extra></extra>",
         "legendgroup": "1",
         "line": {
          "color": "#EF553B",
          "dash": "solid"
         },
         "marker": {
          "symbol": "circle"
         },
         "mode": "lines",
         "name": "1",
         "orientation": "v",
         "showlegend": true,
         "type": "scatter",
         "x": [
          "2023-01-22T18:50:19",
          "2023-01-17T13:03:43",
          "2023-01-16T19:00:01",
          "2023-01-30T17:36:33",
          "2023-01-05T04:21:54"
         ],
         "xaxis": "x",
         "y": [
          46.19276381745322,
          49.62358635062398,
          42.44766228556139,
          41.13634655592375,
          41.50140925491755
         ],
         "yaxis": "y"
        }
       ],
       "layout": {
        "legend": {
         "title": {
          "text": "Anomaly"
         },
         "tracegroupgap": 0
        },
        "template": {
         "data": {
          "bar": [
           {
            "error_x": {
             "color": "#2a3f5f"
            },
            "error_y": {
             "color": "#2a3f5f"
            },
            "marker": {
             "line": {
              "color": "#E5ECF6",
              "width": 0.5
             },
             "pattern": {
              "fillmode": "overlay",
              "size": 10,
              "solidity": 0.2
             }
            },
            "type": "bar"
           }
          ],
          "barpolar": [
           {
            "marker": {
             "line": {
              "color": "#E5ECF6",
              "width": 0.5
             },
             "pattern": {
              "fillmode": "overlay",
              "size": 10,
              "solidity": 0.2
             }
            },
            "type": "barpolar"
           }
          ],
          "carpet": [
           {
            "aaxis": {
             "endlinecolor": "#2a3f5f",
             "gridcolor": "white",
             "linecolor": "white",
             "minorgridcolor": "white",
             "startlinecolor": "#2a3f5f"
            },
            "baxis": {
             "endlinecolor": "#2a3f5f",
             "gridcolor": "white",
             "linecolor": "white",
             "minorgridcolor": "white",
             "startlinecolor": "#2a3f5f"
            },
            "type": "carpet"
           }
          ],
          "choropleth": [
           {
            "colorbar": {
             "outlinewidth": 0,
             "ticks": ""
            },
            "type": "choropleth"
           }
          ],
          "contour": [
           {
            "colorbar": {
             "outlinewidth": 0,
             "ticks": ""
            },
            "colorscale": [
             [
              0,
              "#0d0887"
             ],
             [
              0.1111111111111111,
              "#46039f"
             ],
             [
              0.2222222222222222,
              "#7201a8"
             ],
             [
              0.3333333333333333,
              "#9c179e"
             ],
             [
              0.4444444444444444,
              "#bd3786"
             ],
             [
              0.5555555555555556,
              "#d8576b"
             ],
             [
              0.6666666666666666,
              "#ed7953"
             ],
             [
              0.7777777777777778,
              "#fb9f3a"
             ],
             [
              0.8888888888888888,
              "#fdca26"
             ],
             [
              1,
              "#f0f921"
             ]
            ],
            "type": "contour"
           }
          ],
          "contourcarpet": [
           {
            "colorbar": {
             "outlinewidth": 0,
             "ticks": ""
            },
            "type": "contourcarpet"
           }
          ],
          "heatmap": [
           {
            "colorbar": {
             "outlinewidth": 0,
             "ticks": ""
            },
            "colorscale": [
             [
              0,
              "#0d0887"
             ],
             [
              0.1111111111111111,
              "#46039f"
             ],
             [
              0.2222222222222222,
              "#7201a8"
             ],
             [
              0.3333333333333333,
              "#9c179e"
             ],
             [
              0.4444444444444444,
              "#bd3786"
             ],
             [
              0.5555555555555556,
              "#d8576b"
             ],
             [
              0.6666666666666666,
              "#ed7953"
             ],
             [
              0.7777777777777778,
              "#fb9f3a"
             ],
             [
              0.8888888888888888,
              "#fdca26"
             ],
             [
              1,
              "#f0f921"
             ]
            ],
            "type": "heatmap"
           }
          ],
          "heatmapgl": [
           {
            "colorbar": {
             "outlinewidth": 0,
             "ticks": ""
            },
            "colorscale": [
             [
              0,
              "#0d0887"
             ],
             [
              0.1111111111111111,
              "#46039f"
             ],
             [
              0.2222222222222222,
              "#7201a8"
             ],
             [
              0.3333333333333333,
              "#9c179e"
             ],
             [
              0.4444444444444444,
              "#bd3786"
             ],
             [
              0.5555555555555556,
              "#d8576b"
             ],
             [
              0.6666666666666666,
              "#ed7953"
             ],
             [
              0.7777777777777778,
              "#fb9f3a"
             ],
             [
              0.8888888888888888,
              "#fdca26"
             ],
             [
              1,
              "#f0f921"
             ]
            ],
            "type": "heatmapgl"
           }
          ],
          "histogram": [
           {
            "marker": {
             "pattern": {
              "fillmode": "overlay",
              "size": 10,
              "solidity": 0.2
             }
            },
            "type": "histogram"
           }
          ],
          "histogram2d": [
           {
            "colorbar": {
             "outlinewidth": 0,
             "ticks": ""
            },
            "colorscale": [
             [
              0,
              "#0d0887"
             ],
             [
              0.1111111111111111,
              "#46039f"
             ],
             [
              0.2222222222222222,
              "#7201a8"
             ],
             [
              0.3333333333333333,
              "#9c179e"
             ],
             [
              0.4444444444444444,
              "#bd3786"
             ],
             [
              0.5555555555555556,
              "#d8576b"
             ],
             [
              0.6666666666666666,
              "#ed7953"
             ],
             [
              0.7777777777777778,
              "#fb9f3a"
             ],
             [
              0.8888888888888888,
              "#fdca26"
             ],
             [
              1,
              "#f0f921"
             ]
            ],
            "type": "histogram2d"
           }
          ],
          "histogram2dcontour": [
           {
            "colorbar": {
             "outlinewidth": 0,
             "ticks": ""
            },
            "colorscale": [
             [
              0,
              "#0d0887"
             ],
             [
              0.1111111111111111,
              "#46039f"
             ],
             [
              0.2222222222222222,
              "#7201a8"
             ],
             [
              0.3333333333333333,
              "#9c179e"
             ],
             [
              0.4444444444444444,
              "#bd3786"
             ],
             [
              0.5555555555555556,
              "#d8576b"
             ],
             [
              0.6666666666666666,
              "#ed7953"
             ],
             [
              0.7777777777777778,
              "#fb9f3a"
             ],
             [
              0.8888888888888888,
              "#fdca26"
             ],
             [
              1,
              "#f0f921"
             ]
            ],
            "type": "histogram2dcontour"
           }
          ],
          "mesh3d": [
           {
            "colorbar": {
             "outlinewidth": 0,
             "ticks": ""
            },
            "type": "mesh3d"
           }
          ],
          "parcoords": [
           {
            "line": {
             "colorbar": {
              "outlinewidth": 0,
              "ticks": ""
             }
            },
            "type": "parcoords"
           }
          ],
          "pie": [
           {
            "automargin": true,
            "type": "pie"
           }
          ],
          "scatter": [
           {
            "fillpattern": {
             "fillmode": "overlay",
             "size": 10,
             "solidity": 0.2
            },
            "type": "scatter"
           }
          ],
          "scatter3d": [
           {
            "line": {
             "colorbar": {
              "outlinewidth": 0,
              "ticks": ""
             }
            },
            "marker": {
             "colorbar": {
              "outlinewidth": 0,
              "ticks": ""
             }
            },
            "type": "scatter3d"
           }
          ],
          "scattercarpet": [
           {
            "marker": {
             "colorbar": {
              "outlinewidth": 0,
              "ticks": ""
             }
            },
            "type": "scattercarpet"
           }
          ],
          "scattergeo": [
           {
            "marker": {
             "colorbar": {
              "outlinewidth": 0,
              "ticks": ""
             }
            },
            "type": "scattergeo"
           }
          ],
          "scattergl": [
           {
            "marker": {
             "colorbar": {
              "outlinewidth": 0,
              "ticks": ""
             }
            },
            "type": "scattergl"
           }
          ],
          "scattermapbox": [
           {
            "marker": {
             "colorbar": {
              "outlinewidth": 0,
              "ticks": ""
             }
            },
            "type": "scattermapbox"
           }
          ],
          "scatterpolar": [
           {
            "marker": {
             "colorbar": {
              "outlinewidth": 0,
              "ticks": ""
             }
            },
            "type": "scatterpolar"
           }
          ],
          "scatterpolargl": [
           {
            "marker": {
             "colorbar": {
              "outlinewidth": 0,
              "ticks": ""
             }
            },
            "type": "scatterpolargl"
           }
          ],
          "scatterternary": [
           {
            "marker": {
             "colorbar": {
              "outlinewidth": 0,
              "ticks": ""
             }
            },
            "type": "scatterternary"
           }
          ],
          "surface": [
           {
            "colorbar": {
             "outlinewidth": 0,
             "ticks": ""
            },
            "colorscale": [
             [
              0,
              "#0d0887"
             ],
             [
              0.1111111111111111,
              "#46039f"
             ],
             [
              0.2222222222222222,
              "#7201a8"
             ],
             [
              0.3333333333333333,
              "#9c179e"
             ],
             [
              0.4444444444444444,
              "#bd3786"
             ],
             [
              0.5555555555555556,
              "#d8576b"
             ],
             [
              0.6666666666666666,
              "#ed7953"
             ],
             [
              0.7777777777777778,
              "#fb9f3a"
             ],
             [
              0.8888888888888888,
              "#fdca26"
             ],
             [
              1,
              "#f0f921"
             ]
            ],
            "type": "surface"
           }
          ],
          "table": [
           {
            "cells": {
             "fill": {
              "color": "#EBF0F8"
             },
             "line": {
              "color": "white"
             }
            },
            "header": {
             "fill": {
              "color": "#C8D4E3"
             },
             "line": {
              "color": "white"
             }
            },
            "type": "table"
           }
          ]
         },
         "layout": {
          "annotationdefaults": {
           "arrowcolor": "#2a3f5f",
           "arrowhead": 0,
           "arrowwidth": 1
          },
          "autotypenumbers": "strict",
          "coloraxis": {
           "colorbar": {
            "outlinewidth": 0,
            "ticks": ""
           }
          },
          "colorscale": {
           "diverging": [
            [
             0,
             "#8e0152"
            ],
            [
             0.1,
             "#c51b7d"
            ],
            [
             0.2,
             "#de77ae"
            ],
            [
             0.3,
             "#f1b6da"
            ],
            [
             0.4,
             "#fde0ef"
            ],
            [
             0.5,
             "#f7f7f7"
            ],
            [
             0.6,
             "#e6f5d0"
            ],
            [
             0.7,
             "#b8e186"
            ],
            [
             0.8,
             "#7fbc41"
            ],
            [
             0.9,
             "#4d9221"
            ],
            [
             1,
             "#276419"
            ]
           ],
           "sequential": [
            [
             0,
             "#0d0887"
            ],
            [
             0.1111111111111111,
             "#46039f"
            ],
            [
             0.2222222222222222,
             "#7201a8"
            ],
            [
             0.3333333333333333,
             "#9c179e"
            ],
            [
             0.4444444444444444,
             "#bd3786"
            ],
            [
             0.5555555555555556,
             "#d8576b"
            ],
            [
             0.6666666666666666,
             "#ed7953"
            ],
            [
             0.7777777777777778,
             "#fb9f3a"
            ],
            [
             0.8888888888888888,
             "#fdca26"
            ],
            [
             1,
             "#f0f921"
            ]
           ],
           "sequentialminus": [
            [
             0,
             "#0d0887"
            ],
            [
             0.1111111111111111,
             "#46039f"
            ],
            [
             0.2222222222222222,
             "#7201a8"
            ],
            [
             0.3333333333333333,
             "#9c179e"
            ],
            [
             0.4444444444444444,
             "#bd3786"
            ],
            [
             0.5555555555555556,
             "#d8576b"
            ],
            [
             0.6666666666666666,
             "#ed7953"
            ],
            [
             0.7777777777777778,
             "#fb9f3a"
            ],
            [
             0.8888888888888888,
             "#fdca26"
            ],
            [
             1,
             "#f0f921"
            ]
           ]
          },
          "colorway": [
           "#636efa",
           "#EF553B",
           "#00cc96",
           "#ab63fa",
           "#FFA15A",
           "#19d3f3",
           "#FF6692",
           "#B6E880",
           "#FF97FF",
           "#FECB52"
          ],
          "font": {
           "color": "#2a3f5f"
          },
          "geo": {
           "bgcolor": "white",
           "lakecolor": "white",
           "landcolor": "#E5ECF6",
           "showlakes": true,
           "showland": true,
           "subunitcolor": "white"
          },
          "hoverlabel": {
           "align": "left"
          },
          "hovermode": "closest",
          "mapbox": {
           "style": "light"
          },
          "paper_bgcolor": "white",
          "plot_bgcolor": "#E5ECF6",
          "polar": {
           "angularaxis": {
            "gridcolor": "white",
            "linecolor": "white",
            "ticks": ""
           },
           "bgcolor": "#E5ECF6",
           "radialaxis": {
            "gridcolor": "white",
            "linecolor": "white",
            "ticks": ""
           }
          },
          "scene": {
           "xaxis": {
            "backgroundcolor": "#E5ECF6",
            "gridcolor": "white",
            "gridwidth": 2,
            "linecolor": "white",
            "showbackground": true,
            "ticks": "",
            "zerolinecolor": "white"
           },
           "yaxis": {
            "backgroundcolor": "#E5ECF6",
            "gridcolor": "white",
            "gridwidth": 2,
            "linecolor": "white",
            "showbackground": true,
            "ticks": "",
            "zerolinecolor": "white"
           },
           "zaxis": {
            "backgroundcolor": "#E5ECF6",
            "gridcolor": "white",
            "gridwidth": 2,
            "linecolor": "white",
            "showbackground": true,
            "ticks": "",
            "zerolinecolor": "white"
           }
          },
          "shapedefaults": {
           "line": {
            "color": "#2a3f5f"
           }
          },
          "ternary": {
           "aaxis": {
            "gridcolor": "white",
            "linecolor": "white",
            "ticks": ""
           },
           "baxis": {
            "gridcolor": "white",
            "linecolor": "white",
            "ticks": ""
           },
           "bgcolor": "#E5ECF6",
           "caxis": {
            "gridcolor": "white",
            "linecolor": "white",
            "ticks": ""
           }
          },
          "title": {
           "x": 0.05
          },
          "xaxis": {
           "automargin": true,
           "gridcolor": "white",
           "linecolor": "white",
           "ticks": "",
           "title": {
            "standoff": 15
           },
           "zerolinecolor": "white",
           "zerolinewidth": 2
          },
          "yaxis": {
           "automargin": true,
           "gridcolor": "white",
           "linecolor": "white",
           "ticks": "",
           "title": {
            "standoff": 15
           },
           "zerolinecolor": "white",
           "zerolinewidth": 2
          }
         }
        },
        "title": {
         "text": "Temperature with time series"
        },
        "xaxis": {
         "anchor": "y",
         "domain": [
          0,
          1
         ],
         "title": {
          "text": "Timestamps"
         }
        },
        "yaxis": {
         "anchor": "x",
         "domain": [
          0,
          1
         ],
         "title": {
          "text": "Temperature"
         }
        }
       }
      }
     },
     "metadata": {},
     "output_type": "display_data"
    }
   ],
   "source": [
    "fig = px.line(Boiler_C, x=\"Timestamps\", y=\"Temperature\",  color='Anomaly',title='Temperature with time series')\n",
    "fig.show()"
   ]
  },
  {
   "cell_type": "code",
   "execution_count": 42,
   "metadata": {},
   "outputs": [],
   "source": [
    "Boiler_D=df[df['Boiler Name']=='Boiler D']"
   ]
  },
  {
   "cell_type": "code",
   "execution_count": 31,
   "metadata": {},
   "outputs": [
    {
     "data": {
      "text/plain": [
       "<Axes: xlabel='Temperature', ylabel='Count'>"
      ]
     },
     "execution_count": 31,
     "metadata": {},
     "output_type": "execute_result"
    },
    {
     "data": {
      "image/png": "[encoded data removed]",
      "text/plain": [
       "<Figure size 640x480 with 1 Axes>"
      ]
     },
     "metadata": {},
     "output_type": "display_data"
    }
   ],
   "source": [
    "sns.histplot(Boiler_D['Temperature'],kde=True)"
   ]
  },
  {
   "cell_type": "code",
   "execution_count": 25,
   "metadata": {},
   "outputs": [
    {
     "name": "stderr",
     "output_type": "stream",
     "text": [
      "c:\\Users\\rames\\OneDrive\\Desktop\\guvi-ds\\Hospital-readmission-project\\.venv\\Lib\\site-packages\\_plotly_utils\\basevalidators.py:105: FutureWarning:\n",
      "\n",
      "The behavior of DatetimeProperties.to_pydatetime is deprecated, in a future version this will return a Series containing python datetime objects instead of an ndarray. To retain the old behavior, call `np.array` on the result\n",
      "\n"
     ]
    },
    {
     "data": {
      "application/vnd.plotly.v1+json": {
       "config": {
        "plotlyServerURL": "https://plot.ly"
       },
       "data": [
        {
         "hovertemplate": "Anomaly=0<br>Timestamps=%{x}<br>Temperature=%{y}<extra></extra>",
         "legendgroup": "0",
         "line": {
          "color": "#636efa",
          "dash": "solid"
         },
         "marker": {
          "symbol": "circle"
         },
         "mode": "lines",
         "name": "0",
         "orientation": "v",
         "showlegend": true,
         "type": "scatter",
         "x": [
          "2023-01-04T17:50:22",
          "2023-01-12T09:46:41",
          "2023-01-21T16:31:49",
          "2023-01-12T22:21:58",
          "2023-01-01T08:50:05",
          "2023-01-06T13:11:41",
          "2023-01-29T06:48:16",
          "2023-01-16T05:58:45",
          "2023-01-08T03:37:30",
          "2023-01-30T08:03:34",
          "2023-01-23T05:59:35",
          "2023-01-07T20:03:07",
          "2023-01-18T07:33:08",
          "2023-01-06T04:24:00",
          "2023-01-28T18:06:41",
          "2023-01-25T23:28:32",
          "2023-01-30T06:34:53",
          "2023-01-29T15:44:51",
          "2023-01-23T03:03:17",
          "2023-01-02T03:35:37",
          "2023-01-15T06:11:03",
          "2023-01-01T10:14:24",
          "2023-01-08T10:53:14",
          "2023-01-03T10:29:22",
          "2023-01-07T14:15:51",
          "2023-01-29T05:49:20",
          "2023-01-06T01:42:59",
          "2023-01-15T01:19:13",
          "2023-01-05T10:04:54",
          "2023-01-21T17:41:04",
          "2023-01-09T06:53:00",
          "2023-01-18T01:24:36",
          "2023-01-15T21:08:01",
          "2023-01-11T17:46:52",
          "2023-01-29T17:35:44",
          "2023-01-05T17:11:32",
          "2023-01-30T22:53:20",
          "2023-01-21T05:45:18",
          "2023-01-02T07:02:20",
          "2023-01-22T23:45:21",
          "2023-01-19T10:34:51",
          "2023-01-21T14:49:10",
          "2023-01-01T21:58:20",
          "2023-01-13T14:44:02",
          "2023-01-27T17:18:13",
          "2023-01-24T19:26:50",
          "2023-01-30T20:46:36",
          "2023-01-01T01:26:16",
          "2023-01-02T06:48:38",
          "2023-01-25T04:21:38",
          "2023-01-03T05:49:08",
          "2023-01-11T13:31:14",
          "2023-01-20T17:12:17",
          "2023-01-24T09:50:20",
          "2023-01-21T17:32:58",
          "2023-01-03T04:12:48",
          "2023-01-17T14:22:32",
          "2023-01-14T08:19:02",
          "2023-01-22T03:35:56",
          "2023-01-14T00:28:40",
          "2023-01-15T10:21:21",
          "2023-01-29T01:07:32",
          "2023-01-20T02:19:54",
          "2023-01-11T10:18:07",
          "2023-01-11T19:36:10",
          "2023-01-21T02:24:47",
          "2023-01-26T12:28:50",
          "2023-01-28T13:36:24",
          "2023-01-19T12:50:06",
          "2023-01-29T07:46:48",
          "2023-01-27T16:14:57",
          "2023-01-20T23:57:20",
          "2023-01-03T18:22:21",
          "2023-01-24T16:04:56",
          "2023-01-12T14:42:05",
          "2023-01-09T14:10:57",
          "2023-01-08T19:40:22",
          "2023-01-23T07:05:08",
          "2023-01-10T07:11:22",
          "2023-01-14T06:39:30",
          "2023-01-08T00:55:14",
          "2023-01-02T03:19:17",
          "2023-01-22T17:34:00",
          "2023-01-12T20:17:52",
          "2023-01-07T11:14:51",
          "2023-01-14T21:52:31",
          "2023-01-08T00:03:52",
          "2023-01-13T00:09:36",
          "2023-01-28T18:29:46",
          "2023-01-22T05:53:42",
          "2023-01-05T13:40:54",
          "2023-01-13T08:55:02",
          "2023-01-03T08:35:58",
          "2023-01-12T14:46:32",
          "2023-01-25T17:12:42",
          "2023-01-18T18:58:19",
          "2023-01-28T21:28:52",
          "2023-01-06T13:31:55",
          "2023-01-05T13:49:23",
          "2023-01-09T20:22:28",
          "2023-01-18T11:11:37",
          "2023-01-30T07:53:14",
          "2023-01-30T16:19:26",
          "2023-01-08T01:04:33",
          "2023-01-11T06:45:40",
          "2023-01-29T22:09:57",
          "2023-01-11T14:18:41",
          "2023-01-29T02:15:43",
          "2023-01-27T22:27:09",
          "2023-01-05T17:28:35",
          "2023-01-16T07:42:52",
          "2023-01-11T06:11:52",
          "2023-01-05T05:58:24",
          "2023-01-29T02:46:31",
          "2023-01-25T01:39:58",
          "2023-01-05T15:25:23",
          "2023-01-22T10:21:23",
          "2023-01-08T18:22:47",
          "2023-01-05T23:59:18",
          "2023-01-21T06:07:53",
          "2023-01-25T10:56:36",
          "2023-01-30T04:17:01",
          "2023-01-02T16:34:58",
          "2023-01-06T09:23:25",
          "2023-01-29T19:31:35",
          "2023-01-24T01:42:17",
          "2023-01-29T17:43:45",
          "2023-01-20T22:33:56",
          "2023-01-14T13:24:03",
          "2023-01-12T13:54:41",
          "2023-01-26T21:57:21",
          "2023-01-24T04:26:56",
          "2023-01-10T23:38:42",
          "2023-01-01T19:53:53",
          "2023-01-11T03:49:54",
          "2023-01-21T08:24:28",
          "2023-01-18T00:41:42",
          "2023-01-25T14:10:37",
          "2023-01-12T12:40:33",
          "2023-01-10T14:36:34",
          "2023-01-15T20:08:39",
          "2023-01-08T17:29:54",
          "2023-01-29T22:53:55",
          "2023-01-03T22:06:22",
          "2023-01-03T22:43:05",
          "2023-01-03T18:34:16",
          "2023-01-13T22:28:12",
          "2023-01-27T10:05:51",
          "2023-01-21T02:16:01",
          "2023-01-15T08:50:28",
          "2023-01-01T11:37:15",
          "2023-01-02T00:29:42",
          "2023-01-26T21:19:42",
          "2023-01-06T03:55:57",
          "2023-01-13T07:53:52",
          "2023-01-13T05:40:00",
          "2023-01-30T08:19:45",
          "2023-01-09T10:56:32",
          "2023-01-06T11:27:47",
          "2023-01-05T05:31:47",
          "2023-01-11T10:05:29",
          "2023-01-28T11:49:57",
          "2023-01-04T12:26:34",
          "2023-01-03T19:14:07",
          "2023-01-14T20:05:56",
          "2023-01-03T06:23:53",
          "2023-01-13T06:09:06",
          "2023-01-30T22:45:55",
          "2023-01-27T00:09:36",
          "2023-01-05T18:58:18",
          "2023-01-15T03:01:42",
          "2023-01-27T22:38:23",
          "2023-01-27T08:41:02",
          "2023-01-08T01:39:13",
          "2023-01-01T05:24:25",
          "2023-01-15T07:19:39",
          "2023-01-12T17:35:53",
          "2023-01-28T14:28:18",
          "2023-01-19T11:51:54",
          "2023-01-02T02:56:08",
          "2023-01-30T06:55:28",
          "2023-01-03T04:50:59",
          "2023-01-02T06:47:31",
          "2023-01-26T00:50:22",
          "2023-01-08T14:48:29",
          "2023-01-17T12:44:55",
          "2023-01-13T22:08:44",
          "2023-01-13T14:46:37",
          "2023-01-28T11:13:21",
          "2023-01-26T09:00:34",
          "2023-01-17T21:08:55",
          "2023-01-24T04:19:06",
          "2023-01-08T04:38:36",
          "2023-01-11T23:01:44",
          "2023-01-29T16:37:42",
          "2023-01-16T10:16:20",
          "2023-01-01T11:45:23",
          "2023-01-20T01:59:59",
          "2023-01-17T08:59:15",
          "2023-01-01T16:56:13",
          "2023-01-10T16:13:07",
          "2023-01-10T13:09:45",
          "2023-01-10T11:49:26",
          "2023-01-03T13:43:47",
          "2023-01-07T12:21:42",
          "2023-01-21T01:52:33",
          "2023-01-21T06:17:12",
          "2023-01-03T08:19:25",
          "2023-01-21T08:49:06",
          "2023-01-19T03:43:52",
          "2023-01-23T09:49:31",
          "2023-01-14T14:25:24",
          "2023-01-16T16:34:59",
          "2023-01-12T19:57:54",
          "2023-01-13T21:46:15",
          "2023-01-18T05:05:08",
          "2023-01-27T19:40:31",
          "2023-01-20T05:11:38",
          "2023-01-18T00:58:12",
          "2023-01-06T17:43:37",
          "2023-01-04T07:09:43",
          "2023-01-30T11:31:34",
          "2023-01-14T15:05:54",
          "2023-01-07T15:17:47",
          "2023-01-02T10:32:56",
          "2023-01-30T00:30:40",
          "2023-01-19T19:58:55",
          "2023-01-10T17:25:19",
          "2023-01-01T15:09:12",
          "2023-01-30T01:08:51",
          "2023-01-29T02:03:33",
          "2023-01-24T13:46:17",
          "2023-01-16T12:10:33",
          "2023-01-02T12:35:08",
          "2023-01-09T15:32:12",
          "2023-01-19T19:20:02",
          "2023-01-20T15:27:12",
          "2023-01-22T08:00:43",
          "2023-01-16T17:31:38",
          "2023-01-05T21:47:09",
          "2023-01-01T23:12:50",
          "2023-01-21T14:38:39",
          "2023-01-23T13:38:56",
          "2023-01-20T21:01:01",
          "2023-01-06T04:26:26",
          "2023-01-27T09:49:49",
          "2023-01-22T05:03:52",
          "2023-01-16T08:26:32",
          "2023-01-07T08:09:59",
          "2023-01-26T01:26:46",
          "2023-01-11T21:27:09",
          "2023-01-20T05:14:37",
          "2023-01-01T22:43:36",
          "2023-01-13T09:09:13",
          "2023-01-01T20:10:59",
          "2023-01-01T07:37:21"
         ],
         "xaxis": "x",
         "y": [
          23.54702425179314,
          26.31079022048653,
          33.84756854897069,
          27.70645504105585,
          16.973157186338,
          24.566028769842976,
          26.865421295141555,
          25.76603173993349,
          25.790217358470223,
          14.085396657650932,
          30.135096933441595,
          19.12380069959744,
          23.956022336684867,
          29.26425550133494,
          17.07886211007396,
          26.90834984937664,
          19.43378763306965,
          22.830032182671538,
          19.501735145057268,
          21.60528532703234,
          27.65590097207959,
          33.19255442434611,
          21.739586951698097,
          18.32430949516997,
          18.03824400296065,
          25.1959393939282,
          29.83599149303159,
          28.825692207198635,
          24.568825812388187,
          27.0264202283949,
          35.09818508765913,
          15.160940397791205,
          33.04767288063427,
          13.07536964421205,
          25.797757819615725,
          30.388153063032373,
          31.733720544151392,
          25.03096589308625,
          30.811250993000023,
          21.82892550220932,
          28.66225279271946,
          16.666617262489048,
          26.706882975103834,
          26.7369805457491,
          25.85557454678868,
          22.358073718573323,
          23.47142649303772,
          25.70849390400817,
          25.120639440357937,
          25.25821193474745,
          21.84776399166721,
          20.52830942774366,
          26.0600475515616,
          23.55751883609453,
          29.578817373423487,
          18.11597761610308,
          26.561692214665072,
          21.00160365677322,
          29.936687688690714,
          23.643343866517817,
          26.125157577872653,
          23.773771077682348,
          24.016935998482545,
          15.527213452991177,
          29.05301059235717,
          19.87766806105505,
          31.912048756465406,
          28.8351552654444,
          15.149248500881896,
          23.34966730131044,
          23.9768774694564,
          19.79177824584689,
          21.155839349345914,
          32.992604369012085,
          26.98259063592471,
          11.668224733186303,
          19.623547768114857,
          30.900696535879582,
          13.221235596757952,
          22.631326898125423,
          21.39230803562829,
          23.17827382662061,
          28.553454624288506,
          22.91192264131401,
          22.052015888362625,
          22.756160540475605,
          25.233668624654538,
          19.12206197105609,
          27.36688436195491,
          19.70366464098179,
          21.728247422397725,
          32.5795088141706,
          24.75216323928453,
          29.37791999210501,
          24.18054720982281,
          24.467502199291538,
          25.546509570257623,
          18.311634844579025,
          12.925109761690743,
          19.820420524106165,
          17.822408202332586,
          28.60613335023741,
          27.27139267004167,
          27.009776876842768,
          23.511355579830965,
          34.185353478627405,
          25.872153497070624,
          22.724208322554976,
          24.841229885262617,
          18.479732271986705,
          21.013954190999048,
          33.04119773140368,
          24.99685035293816,
          32.01085322637103,
          23.91540156634668,
          21.30773340192085,
          25.22598995254229,
          26.604814248928253,
          27.22592368097499,
          21.94525794184241,
          26.84086869634149,
          18.849587550641743,
          13.095230686611243,
          30.353544530126342,
          22.323944619851783,
          21.45769900495505,
          18.98406521645291,
          24.12177071665568,
          23.08499985907228,
          14.397218184987157,
          23.80245655377777,
          4.135495583537141,
          24.546073299178087,
          18.551244795160745,
          19.208641767169357,
          32.76923985268431,
          28.52042701830063,
          27.358580304403095,
          27.11056856214132,
          31.39370971360057,
          22.888943994895165,
          25.24000423022586,
          27.453065850935907,
          26.55909144199968,
          29.81204057785584,
          18.127861911397776,
          23.87202698467598,
          31.593337247537384,
          14.038985713468987,
          16.749012486286055,
          27.45254184229761,
          24.261773830426883,
          27.882291400842515,
          32.0128925657346,
          28.76131499086293,
          25.93854336584933,
          24.01570018991864,
          30.54106276503875,
          23.25444066128706,
          26.115034606270868,
          33.16259200549796,
          24.56688507884301,
          39.100905144049605,
          26.47402726966038,
          25.6235810414664,
          31.45204877321349,
          27.72995076782434,
          25.661118006317363,
          23.10146293575147,
          28.032577296484853,
          20.96964098185184,
          18.19759557844894,
          28.19499919344272,
          26.504609617016143,
          27.62749987306411,
          26.584671899915204,
          34.94407322097,
          17.38574782902903,
          29.830673475679564,
          24.263749048809224,
          28.699589537749453,
          25.01660819129173,
          19.82349857190225,
          19.1835014618225,
          23.807432392448053,
          15.488411556203394,
          23.831626307777576,
          27.952659388443312,
          23.91983387556977,
          22.988270991751858,
          23.229589019715736,
          22.87069014674414,
          26.261923100842203,
          25.794902196330494,
          23.42247254397781,
          24.044061450830608,
          28.012984575796025,
          23.061176358713467,
          23.76505047679201,
          30.86116545980197,
          29.415227329343036,
          25.29387514595024,
          23.359610119627888,
          19.085303948855067,
          27.05857233405773,
          26.17864895449447,
          22.528011583965487,
          36.42466815156938,
          28.744071699619703,
          21.14574701406257,
          24.388993698084697,
          31.28971211836449,
          22.50961740347083,
          28.25344538222683,
          28.48966749082108,
          21.76968981533804,
          29.20405979071371,
          24.9890020934734,
          23.00822859506124,
          25.126330415228303,
          16.780199426926025,
          26.53176007058561,
          27.01102500562653,
          31.61583979957039,
          23.13802622330404,
          17.93461496718391,
          34.225803449659395,
          23.504155150586865,
          26.5162553183998,
          29.688560953214363,
          33.721915986220594,
          26.84695399961634,
          23.8201889176259,
          18.860398590843424,
          26.891398250517454,
          18.00093436946446,
          28.367866256212157,
          23.23872083833444,
          26.799741700067504,
          24.866782382825782,
          32.5349772173976,
          26.099503778593053,
          27.50717282880229,
          30.951866758666974,
          23.541364828530973,
          32.2637841367325,
          1.793126615289431,
          24.94190213380456,
          26.190859964154136,
          18.89562040644892,
          26.87209065849609,
          17.794207507809627,
          21.628953661988167,
          28.05498411104682,
          16.34774279169587,
          19.398653263347025
         ],
         "yaxis": "y"
        },
        {
         "hovertemplate": "Anomaly=1<br>Timestamps=%{x}<br>Temperature=%{y}<extra></extra>",
         "legendgroup": "1",
         "line": {
          "color": "#EF553B",
          "dash": "solid"
         },
         "marker": {
          "symbol": "circle"
         },
         "mode": "lines",
         "name": "1",
         "orientation": "v",
         "showlegend": true,
         "type": "scatter",
         "x": [
          "2023-01-07T16:58:23",
          "2023-01-29T23:21:06",
          "2023-01-01T22:55:09",
          "2023-01-06T15:43:25",
          "2023-01-08T09:38:14",
          "2023-01-17T14:23:22",
          "2023-01-29T15:49:11"
         ],
         "xaxis": "x",
         "y": [
          43.4852089191442,
          73.41268709280457,
          40.10736181988482,
          77.1770400929092,
          60.41004450198678,
          56.97548362959277,
          74.27015744834907
         ],
         "yaxis": "y"
        }
       ],
       "layout": {
        "legend": {
         "title": {
          "text": "Anomaly"
         },
         "tracegroupgap": 0
        },
        "template": {
         "data": {
          "bar": [
           {
            "error_x": {
             "color": "#2a3f5f"
            },
            "error_y": {
             "color": "#2a3f5f"
            },
            "marker": {
             "line": {
              "color": "#E5ECF6",
              "width": 0.5
             },
             "pattern": {
              "fillmode": "overlay",
              "size": 10,
              "solidity": 0.2
             }
            },
            "type": "bar"
           }
          ],
          "barpolar": [
           {
            "marker": {
             "line": {
              "color": "#E5ECF6",
              "width": 0.5
             },
             "pattern": {
              "fillmode": "overlay",
              "size": 10,
              "solidity": 0.2
             }
            },
            "type": "barpolar"
           }
          ],
          "carpet": [
           {
            "aaxis": {
             "endlinecolor": "#2a3f5f",
             "gridcolor": "white",
             "linecolor": "white",
             "minorgridcolor": "white",
             "startlinecolor": "#2a3f5f"
            },
            "baxis": {
             "endlinecolor": "#2a3f5f",
             "gridcolor": "white",
             "linecolor": "white",
             "minorgridcolor": "white",
             "startlinecolor": "#2a3f5f"
            },
            "type": "carpet"
           }
          ],
          "choropleth": [
           {
            "colorbar": {
             "outlinewidth": 0,
             "ticks": ""
            },
            "type": "choropleth"
           }
          ],
          "contour": [
           {
            "colorbar": {
             "outlinewidth": 0,
             "ticks": ""
            },
            "colorscale": [
             [
              0,
              "#0d0887"
             ],
             [
              0.1111111111111111,
              "#46039f"
             ],
             [
              0.2222222222222222,
              "#7201a8"
             ],
             [
              0.3333333333333333,
              "#9c179e"
             ],
             [
              0.4444444444444444,
              "#bd3786"
             ],
             [
              0.5555555555555556,
              "#d8576b"
             ],
             [
              0.6666666666666666,
              "#ed7953"
             ],
             [
              0.7777777777777778,
              "#fb9f3a"
             ],
             [
              0.8888888888888888,
              "#fdca26"
             ],
             [
              1,
              "#f0f921"
             ]
            ],
            "type": "contour"
           }
          ],
          "contourcarpet": [
           {
            "colorbar": {
             "outlinewidth": 0,
             "ticks": ""
            },
            "type": "contourcarpet"
           }
          ],
          "heatmap": [
           {
            "colorbar": {
             "outlinewidth": 0,
             "ticks": ""
            },
            "colorscale": [
             [
              0,
              "#0d0887"
             ],
             [
              0.1111111111111111,
              "#46039f"
             ],
             [
              0.2222222222222222,
              "#7201a8"
             ],
             [
              0.3333333333333333,
              "#9c179e"
             ],
             [
              0.4444444444444444,
              "#bd3786"
             ],
             [
              0.5555555555555556,
              "#d8576b"
             ],
             [
              0.6666666666666666,
              "#ed7953"
             ],
             [
              0.7777777777777778,
              "#fb9f3a"
             ],
             [
              0.8888888888888888,
              "#fdca26"
             ],
             [
              1,
              "#f0f921"
             ]
            ],
            "type": "heatmap"
           }
          ],
          "heatmapgl": [
           {
            "colorbar": {
             "outlinewidth": 0,
             "ticks": ""
            },
            "colorscale": [
             [
              0,
              "#0d0887"
             ],
             [
              0.1111111111111111,
              "#46039f"
             ],
             [
              0.2222222222222222,
              "#7201a8"
             ],
             [
              0.3333333333333333,
              "#9c179e"
             ],
             [
              0.4444444444444444,
              "#bd3786"
             ],
             [
              0.5555555555555556,
              "#d8576b"
             ],
             [
              0.6666666666666666,
              "#ed7953"
             ],
             [
              0.7777777777777778,
              "#fb9f3a"
             ],
             [
              0.8888888888888888,
              "#fdca26"
             ],
             [
              1,
              "#f0f921"
             ]
            ],
            "type": "heatmapgl"
           }
          ],
          "histogram": [
           {
            "marker": {
             "pattern": {
              "fillmode": "overlay",
              "size": 10,
              "solidity": 0.2
             }
            },
            "type": "histogram"
           }
          ],
          "histogram2d": [
           {
            "colorbar": {
             "outlinewidth": 0,
             "ticks": ""
            },
            "colorscale": [
             [
              0,
              "#0d0887"
             ],
             [
              0.1111111111111111,
              "#46039f"
             ],
             [
              0.2222222222222222,
              "#7201a8"
             ],
             [
              0.3333333333333333,
              "#9c179e"
             ],
             [
              0.4444444444444444,
              "#bd3786"
             ],
             [
              0.5555555555555556,
              "#d8576b"
             ],
             [
              0.6666666666666666,
              "#ed7953"
             ],
             [
              0.7777777777777778,
              "#fb9f3a"
             ],
             [
              0.8888888888888888,
              "#fdca26"
             ],
             [
              1,
              "#f0f921"
             ]
            ],
            "type": "histogram2d"
           }
          ],
          "histogram2dcontour": [
           {
            "colorbar": {
             "outlinewidth": 0,
             "ticks": ""
            },
            "colorscale": [
             [
              0,
              "#0d0887"
             ],
             [
              0.1111111111111111,
              "#46039f"
             ],
             [
              0.2222222222222222,
              "#7201a8"
             ],
             [
              0.3333333333333333,
              "#9c179e"
             ],
             [
              0.4444444444444444,
              "#bd3786"
             ],
             [
              0.5555555555555556,
              "#d8576b"
             ],
             [
              0.6666666666666666,
              "#ed7953"
             ],
             [
              0.7777777777777778,
              "#fb9f3a"
             ],
             [
              0.8888888888888888,
              "#fdca26"
             ],
             [
              1,
              "#f0f921"
             ]
            ],
            "type": "histogram2dcontour"
           }
          ],
          "mesh3d": [
           {
            "colorbar": {
             "outlinewidth": 0,
             "ticks": ""
            },
            "type": "mesh3d"
           }
          ],
          "parcoords": [
           {
            "line": {
             "colorbar": {
              "outlinewidth": 0,
              "ticks": ""
             }
            },
            "type": "parcoords"
           }
          ],
          "pie": [
           {
            "automargin": true,
            "type": "pie"
           }
          ],
          "scatter": [
           {
            "fillpattern": {
             "fillmode": "overlay",
             "size": 10,
             "solidity": 0.2
            },
            "type": "scatter"
           }
          ],
          "scatter3d": [
           {
            "line": {
             "colorbar": {
              "outlinewidth": 0,
              "ticks": ""
             }
            },
            "marker": {
             "colorbar": {
              "outlinewidth": 0,
              "ticks": ""
             }
            },
            "type": "scatter3d"
           }
          ],
          "scattercarpet": [
           {
            "marker": {
             "colorbar": {
              "outlinewidth": 0,
              "ticks": ""
             }
            },
            "type": "scattercarpet"
           }
          ],
          "scattergeo": [
           {
            "marker": {
             "colorbar": {
              "outlinewidth": 0,
              "ticks": ""
             }
            },
            "type": "scattergeo"
           }
          ],
          "scattergl": [
           {
            "marker": {
             "colorbar": {
              "outlinewidth": 0,
              "ticks": ""
             }
            },
            "type": "scattergl"
           }
          ],
          "scattermapbox": [
           {
            "marker": {
             "colorbar": {
              "outlinewidth": 0,
              "ticks": ""
             }
            },
            "type": "scattermapbox"
           }
          ],
          "scatterpolar": [
           {
            "marker": {
             "colorbar": {
              "outlinewidth": 0,
              "ticks": ""
             }
            },
            "type": "scatterpolar"
           }
          ],
          "scatterpolargl": [
           {
            "marker": {
             "colorbar": {
              "outlinewidth": 0,
              "ticks": ""
             }
            },
            "type": "scatterpolargl"
           }
          ],
          "scatterternary": [
           {
            "marker": {
             "colorbar": {
              "outlinewidth": 0,
              "ticks": ""
             }
            },
            "type": "scatterternary"
           }
          ],
          "surface": [
           {
            "colorbar": {
             "outlinewidth": 0,
             "ticks": ""
            },
            "colorscale": [
             [
              0,
              "#0d0887"
             ],
             [
              0.1111111111111111,
              "#46039f"
             ],
             [
              0.2222222222222222,
              "#7201a8"
             ],
             [
              0.3333333333333333,
              "#9c179e"
             ],
             [
              0.4444444444444444,
              "#bd3786"
             ],
             [
              0.5555555555555556,
              "#d8576b"
             ],
             [
              0.6666666666666666,
              "#ed7953"
             ],
             [
              0.7777777777777778,
              "#fb9f3a"
             ],
             [
              0.8888888888888888,
              "#fdca26"
             ],
             [
              1,
              "#f0f921"
             ]
            ],
            "type": "surface"
           }
          ],
          "table": [
           {
            "cells": {
             "fill": {
              "color": "#EBF0F8"
             },
             "line": {
              "color": "white"
             }
            },
            "header": {
             "fill": {
              "color": "#C8D4E3"
             },
             "line": {
              "color": "white"
             }
            },
            "type": "table"
           }
          ]
         },
         "layout": {
          "annotationdefaults": {
           "arrowcolor": "#2a3f5f",
           "arrowhead": 0,
           "arrowwidth": 1
          },
          "autotypenumbers": "strict",
          "coloraxis": {
           "colorbar": {
            "outlinewidth": 0,
            "ticks": ""
           }
          },
          "colorscale": {
           "diverging": [
            [
             0,
             "#8e0152"
            ],
            [
             0.1,
             "#c51b7d"
            ],
            [
             0.2,
             "#de77ae"
            ],
            [
             0.3,
             "#f1b6da"
            ],
            [
             0.4,
             "#fde0ef"
            ],
            [
             0.5,
             "#f7f7f7"
            ],
            [
             0.6,
             "#e6f5d0"
            ],
            [
             0.7,
             "#b8e186"
            ],
            [
             0.8,
             "#7fbc41"
            ],
            [
             0.9,
             "#4d9221"
            ],
            [
             1,
             "#276419"
            ]
           ],
           "sequential": [
            [
             0,
             "#0d0887"
            ],
            [
             0.1111111111111111,
             "#46039f"
            ],
            [
             0.2222222222222222,
             "#7201a8"
            ],
            [
             0.3333333333333333,
             "#9c179e"
            ],
            [
             0.4444444444444444,
             "#bd3786"
            ],
            [
             0.5555555555555556,
             "#d8576b"
            ],
            [
             0.6666666666666666,
             "#ed7953"
            ],
            [
             0.7777777777777778,
             "#fb9f3a"
            ],
            [
             0.8888888888888888,
             "#fdca26"
            ],
            [
             1,
             "#f0f921"
            ]
           ],
           "sequentialminus": [
            [
             0,
             "#0d0887"
            ],
            [
             0.1111111111111111,
             "#46039f"
            ],
            [
             0.2222222222222222,
             "#7201a8"
            ],
            [
             0.3333333333333333,
             "#9c179e"
            ],
            [
             0.4444444444444444,
             "#bd3786"
            ],
            [
             0.5555555555555556,
             "#d8576b"
            ],
            [
             0.6666666666666666,
             "#ed7953"
            ],
            [
             0.7777777777777778,
             "#fb9f3a"
            ],
            [
             0.8888888888888888,
             "#fdca26"
            ],
            [
             1,
             "#f0f921"
            ]
           ]
          },
          "colorway": [
           "#636efa",
           "#EF553B",
           "#00cc96",
           "#ab63fa",
           "#FFA15A",
           "#19d3f3",
           "#FF6692",
           "#B6E880",
           "#FF97FF",
           "#FECB52"
          ],
          "font": {
           "color": "#2a3f5f"
          },
          "geo": {
           "bgcolor": "white",
           "lakecolor": "white",
           "landcolor": "#E5ECF6",
           "showlakes": true,
           "showland": true,
           "subunitcolor": "white"
          },
          "hoverlabel": {
           "align": "left"
          },
          "hovermode": "closest",
          "mapbox": {
           "style": "light"
          },
          "paper_bgcolor": "white",
          "plot_bgcolor": "#E5ECF6",
          "polar": {
           "angularaxis": {
            "gridcolor": "white",
            "linecolor": "white",
            "ticks": ""
           },
           "bgcolor": "#E5ECF6",
           "radialaxis": {
            "gridcolor": "white",
            "linecolor": "white",
            "ticks": ""
           }
          },
          "scene": {
           "xaxis": {
            "backgroundcolor": "#E5ECF6",
            "gridcolor": "white",
            "gridwidth": 2,
            "linecolor": "white",
            "showbackground": true,
            "ticks": "",
            "zerolinecolor": "white"
           },
           "yaxis": {
            "backgroundcolor": "#E5ECF6",
            "gridcolor": "white",
            "gridwidth": 2,
            "linecolor": "white",
            "showbackground": true,
            "ticks": "",
            "zerolinecolor": "white"
           },
           "zaxis": {
            "backgroundcolor": "#E5ECF6",
            "gridcolor": "white",
            "gridwidth": 2,
            "linecolor": "white",
            "showbackground": true,
            "ticks": "",
            "zerolinecolor": "white"
           }
          },
          "shapedefaults": {
           "line": {
            "color": "#2a3f5f"
           }
          },
          "ternary": {
           "aaxis": {
            "gridcolor": "white",
            "linecolor": "white",
            "ticks": ""
           },
           "baxis": {
            "gridcolor": "white",
            "linecolor": "white",
            "ticks": ""
           },
           "bgcolor": "#E5ECF6",
           "caxis": {
            "gridcolor": "white",
            "linecolor": "white",
            "ticks": ""
           }
          },
          "title": {
           "x": 0.05
          },
          "xaxis": {
           "automargin": true,
           "gridcolor": "white",
           "linecolor": "white",
           "ticks": "",
           "title": {
            "standoff": 15
           },
           "zerolinecolor": "white",
           "zerolinewidth": 2
          },
          "yaxis": {
           "automargin": true,
           "gridcolor": "white",
           "linecolor": "white",
           "ticks": "",
           "title": {
            "standoff": 15
           },
           "zerolinecolor": "white",
           "zerolinewidth": 2
          }
         }
        },
        "title": {
         "text": "Temperature with time series"
        },
        "xaxis": {
         "anchor": "y",
         "domain": [
          0,
          1
         ],
         "title": {
          "text": "Timestamps"
         }
        },
        "yaxis": {
         "anchor": "x",
         "domain": [
          0,
          1
         ],
         "title": {
          "text": "Temperature"
         }
        }
       }
      }
     },
     "metadata": {},
     "output_type": "display_data"
    }
   ],
   "source": [
    "fig = px.line(Boiler_D, x=\"Timestamps\", y=\"Temperature\",  color='Anomaly',title='Temperature with time series')\n",
    "fig.show()"
   ]
  },
  {
   "cell_type": "code",
   "execution_count": 37,
   "metadata": {},
   "outputs": [
    {
     "data": {
      "text/plain": [
       "<Axes: >"
      ]
     },
     "execution_count": 37,
     "metadata": {},
     "output_type": "execute_result"
    },
    {
     "data": {
      "image/png": "[encoded data removed]",
      "text/plain": [
       "<Figure size 640x480 with 2 Axes>"
      ]
     },
     "metadata": {},
     "output_type": "display_data"
    }
   ],
   "source": [
    "sns.heatmap(df[['Temperature','Anomaly']].corr(),cmap='coolwarm',annot=True)"
   ]
  },
  {
   "cell_type": "code",
   "execution_count": 25,
   "metadata": {},
   "outputs": [],
   "source": [
    "gp_temp=df.groupby('Boiler Name')['Temperature'].mean().reset_index()"
   ]
  },
  {
   "cell_type": "code",
   "execution_count": 26,
   "metadata": {},
   "outputs": [
    {
     "data": {
      "text/html": [
       "<div>\n",
       "<style scoped>\n",
       "    .dataframe tbody tr th:only-of-type {\n",
       "        vertical-align: middle;\n",
       "    }\n",
       "\n",
       "    .dataframe tbody tr th {\n",
       "        vertical-align: top;\n",
       "    }\n",
       "\n",
       "    .dataframe thead th {\n",
       "        text-align: right;\n",
       "    }\n",
       "</style>\n",
       "<table border=\"1\" class=\"dataframe\">\n",
       "  <thead>\n",
       "    <tr style=\"text-align: right;\">\n",
       "      <th></th>\n",
       "      <th>Boiler Name</th>\n",
       "      <th>Temperature</th>\n",
       "    </tr>\n",
       "  </thead>\n",
       "  <tbody>\n",
       "    <tr>\n",
       "      <th>0</th>\n",
       "      <td>Boiler A</td>\n",
       "      <td>26.050186</td>\n",
       "    </tr>\n",
       "    <tr>\n",
       "      <th>1</th>\n",
       "      <td>Boiler B</td>\n",
       "      <td>26.479295</td>\n",
       "    </tr>\n",
       "    <tr>\n",
       "      <th>2</th>\n",
       "      <td>Boiler C</td>\n",
       "      <td>25.284211</td>\n",
       "    </tr>\n",
       "    <tr>\n",
       "      <th>3</th>\n",
       "      <td>Boiler D</td>\n",
       "      <td>25.548983</td>\n",
       "    </tr>\n",
       "  </tbody>\n",
       "</table>\n",
       "</div>"
      ],
      "text/plain": [
       "  Boiler Name  Temperature\n",
       "0    Boiler A    26.050186\n",
       "1    Boiler B    26.479295\n",
       "2    Boiler C    25.284211\n",
       "3    Boiler D    25.548983"
      ]
     },
     "execution_count": 26,
     "metadata": {},
     "output_type": "execute_result"
    }
   ],
   "source": [
    "gp_temp"
   ]
  },
  {
   "cell_type": "code",
   "execution_count": 28,
   "metadata": {},
   "outputs": [
    {
     "data": {
      "application/vnd.plotly.v1+json": {
       "config": {
        "plotlyServerURL": "https://plot.ly"
       },
       "data": [
        {
         "alignmentgroup": "True",
         "hovertemplate": "Boiler Name=%{x}<br>Temperature=%{y}<extra></extra>",
         "legendgroup": "",
         "marker": {
          "color": "#636efa",
          "pattern": {
           "shape": ""
          }
         },
         "name": "",
         "offsetgroup": "",
         "orientation": "v",
         "showlegend": false,
         "textposition": "auto",
         "type": "bar",
         "x": [
          "Boiler A",
          "Boiler B",
          "Boiler C",
          "Boiler D"
         ],
         "xaxis": "x",
         "y": [
          26.050185841746494,
          26.479295304138077,
          25.284210796885848,
          25.548983070355906
         ],
         "yaxis": "y"
        }
       ],
       "layout": {
        "barmode": "relative",
        "legend": {
         "tracegroupgap": 0
        },
        "margin": {
         "t": 60
        },
        "template": {
         "data": {
          "bar": [
           {
            "error_x": {
             "color": "#2a3f5f"
            },
            "error_y": {
             "color": "#2a3f5f"
            },
            "marker": {
             "line": {
              "color": "#E5ECF6",
              "width": 0.5
             },
             "pattern": {
              "fillmode": "overlay",
              "size": 10,
              "solidity": 0.2
             }
            },
            "type": "bar"
           }
          ],
          "barpolar": [
           {
            "marker": {
             "line": {
              "color": "#E5ECF6",
              "width": 0.5
             },
             "pattern": {
              "fillmode": "overlay",
              "size": 10,
              "solidity": 0.2
             }
            },
            "type": "barpolar"
           }
          ],
          "carpet": [
           {
            "aaxis": {
             "endlinecolor": "#2a3f5f",
             "gridcolor": "white",
             "linecolor": "white",
             "minorgridcolor": "white",
             "startlinecolor": "#2a3f5f"
            },
            "baxis": {
             "endlinecolor": "#2a3f5f",
             "gridcolor": "white",
             "linecolor": "white",
             "minorgridcolor": "white",
             "startlinecolor": "#2a3f5f"
            },
            "type": "carpet"
           }
          ],
          "choropleth": [
           {
            "colorbar": {
             "outlinewidth": 0,
             "ticks": ""
            },
            "type": "choropleth"
           }
          ],
          "contour": [
           {
            "colorbar": {
             "outlinewidth": 0,
             "ticks": ""
            },
            "colorscale": [
             [
              0,
              "#0d0887"
             ],
             [
              0.1111111111111111,
              "#46039f"
             ],
             [
              0.2222222222222222,
              "#7201a8"
             ],
             [
              0.3333333333333333,
              "#9c179e"
             ],
             [
              0.4444444444444444,
              "#bd3786"
             ],
             [
              0.5555555555555556,
              "#d8576b"
             ],
             [
              0.6666666666666666,
              "#ed7953"
             ],
             [
              0.7777777777777778,
              "#fb9f3a"
             ],
             [
              0.8888888888888888,
              "#fdca26"
             ],
             [
              1,
              "#f0f921"
             ]
            ],
            "type": "contour"
           }
          ],
          "contourcarpet": [
           {
            "colorbar": {
             "outlinewidth": 0,
             "ticks": ""
            },
            "type": "contourcarpet"
           }
          ],
          "heatmap": [
           {
            "colorbar": {
             "outlinewidth": 0,
             "ticks": ""
            },
            "colorscale": [
             [
              0,
              "#0d0887"
             ],
             [
              0.1111111111111111,
              "#46039f"
             ],
             [
              0.2222222222222222,
              "#7201a8"
             ],
             [
              0.3333333333333333,
              "#9c179e"
             ],
             [
              0.4444444444444444,
              "#bd3786"
             ],
             [
              0.5555555555555556,
              "#d8576b"
             ],
             [
              0.6666666666666666,
              "#ed7953"
             ],
             [
              0.7777777777777778,
              "#fb9f3a"
             ],
             [
              0.8888888888888888,
              "#fdca26"
             ],
             [
              1,
              "#f0f921"
             ]
            ],
            "type": "heatmap"
           }
          ],
          "heatmapgl": [
           {
            "colorbar": {
             "outlinewidth": 0,
             "ticks": ""
            },
            "colorscale": [
             [
              0,
              "#0d0887"
             ],
             [
              0.1111111111111111,
              "#46039f"
             ],
             [
              0.2222222222222222,
              "#7201a8"
             ],
             [
              0.3333333333333333,
              "#9c179e"
             ],
             [
              0.4444444444444444,
              "#bd3786"
             ],
             [
              0.5555555555555556,
              "#d8576b"
             ],
             [
              0.6666666666666666,
              "#ed7953"
             ],
             [
              0.7777777777777778,
              "#fb9f3a"
             ],
             [
              0.8888888888888888,
              "#fdca26"
             ],
             [
              1,
              "#f0f921"
             ]
            ],
            "type": "heatmapgl"
           }
          ],
          "histogram": [
           {
            "marker": {
             "pattern": {
              "fillmode": "overlay",
              "size": 10,
              "solidity": 0.2
             }
            },
            "type": "histogram"
           }
          ],
          "histogram2d": [
           {
            "colorbar": {
             "outlinewidth": 0,
             "ticks": ""
            },
            "colorscale": [
             [
              0,
              "#0d0887"
             ],
             [
              0.1111111111111111,
              "#46039f"
             ],
             [
              0.2222222222222222,
              "#7201a8"
             ],
             [
              0.3333333333333333,
              "#9c179e"
             ],
             [
              0.4444444444444444,
              "#bd3786"
             ],
             [
              0.5555555555555556,
              "#d8576b"
             ],
             [
              0.6666666666666666,
              "#ed7953"
             ],
             [
              0.7777777777777778,
              "#fb9f3a"
             ],
             [
              0.8888888888888888,
              "#fdca26"
             ],
             [
              1,
              "#f0f921"
             ]
            ],
            "type": "histogram2d"
           }
          ],
          "histogram2dcontour": [
           {
            "colorbar": {
             "outlinewidth": 0,
             "ticks": ""
            },
            "colorscale": [
             [
              0,
              "#0d0887"
             ],
             [
              0.1111111111111111,
              "#46039f"
             ],
             [
              0.2222222222222222,
              "#7201a8"
             ],
             [
              0.3333333333333333,
              "#9c179e"
             ],
             [
              0.4444444444444444,
              "#bd3786"
             ],
             [
              0.5555555555555556,
              "#d8576b"
             ],
             [
              0.6666666666666666,
              "#ed7953"
             ],
             [
              0.7777777777777778,
              "#fb9f3a"
             ],
             [
              0.8888888888888888,
              "#fdca26"
             ],
             [
              1,
              "#f0f921"
             ]
            ],
            "type": "histogram2dcontour"
           }
          ],
          "mesh3d": [
           {
            "colorbar": {
             "outlinewidth": 0,
             "ticks": ""
            },
            "type": "mesh3d"
           }
          ],
          "parcoords": [
           {
            "line": {
             "colorbar": {
              "outlinewidth": 0,
              "ticks": ""
             }
            },
            "type": "parcoords"
           }
          ],
          "pie": [
           {
            "automargin": true,
            "type": "pie"
           }
          ],
          "scatter": [
           {
            "fillpattern": {
             "fillmode": "overlay",
             "size": 10,
             "solidity": 0.2
            },
            "type": "scatter"
           }
          ],
          "scatter3d": [
           {
            "line": {
             "colorbar": {
              "outlinewidth": 0,
              "ticks": ""
             }
            },
            "marker": {
             "colorbar": {
              "outlinewidth": 0,
              "ticks": ""
             }
            },
            "type": "scatter3d"
           }
          ],
          "scattercarpet": [
           {
            "marker": {
             "colorbar": {
              "outlinewidth": 0,
              "ticks": ""
             }
            },
            "type": "scattercarpet"
           }
          ],
          "scattergeo": [
           {
            "marker": {
             "colorbar": {
              "outlinewidth": 0,
              "ticks": ""
             }
            },
            "type": "scattergeo"
           }
          ],
          "scattergl": [
           {
            "marker": {
             "colorbar": {
              "outlinewidth": 0,
              "ticks": ""
             }
            },
            "type": "scattergl"
           }
          ],
          "scattermapbox": [
           {
            "marker": {
             "colorbar": {
              "outlinewidth": 0,
              "ticks": ""
             }
            },
            "type": "scattermapbox"
           }
          ],
          "scatterpolar": [
           {
            "marker": {
             "colorbar": {
              "outlinewidth": 0,
              "ticks": ""
             }
            },
            "type": "scatterpolar"
           }
          ],
          "scatterpolargl": [
           {
            "marker": {
             "colorbar": {
              "outlinewidth": 0,
              "ticks": ""
             }
            },
            "type": "scatterpolargl"
           }
          ],
          "scatterternary": [
           {
            "marker": {
             "colorbar": {
              "outlinewidth": 0,
              "ticks": ""
             }
            },
            "type": "scatterternary"
           }
          ],
          "surface": [
           {
            "colorbar": {
             "outlinewidth": 0,
             "ticks": ""
            },
            "colorscale": [
             [
              0,
              "#0d0887"
             ],
             [
              0.1111111111111111,
              "#46039f"
             ],
             [
              0.2222222222222222,
              "#7201a8"
             ],
             [
              0.3333333333333333,
              "#9c179e"
             ],
             [
              0.4444444444444444,
              "#bd3786"
             ],
             [
              0.5555555555555556,
              "#d8576b"
             ],
             [
              0.6666666666666666,
              "#ed7953"
             ],
             [
              0.7777777777777778,
              "#fb9f3a"
             ],
             [
              0.8888888888888888,
              "#fdca26"
             ],
             [
              1,
              "#f0f921"
             ]
            ],
            "type": "surface"
           }
          ],
          "table": [
           {
            "cells": {
             "fill": {
              "color": "#EBF0F8"
             },
             "line": {
              "color": "white"
             }
            },
            "header": {
             "fill": {
              "color": "#C8D4E3"
             },
             "line": {
              "color": "white"
             }
            },
            "type": "table"
           }
          ]
         },
         "layout": {
          "annotationdefaults": {
           "arrowcolor": "#2a3f5f",
           "arrowhead": 0,
           "arrowwidth": 1
          },
          "autotypenumbers": "strict",
          "coloraxis": {
           "colorbar": {
            "outlinewidth": 0,
            "ticks": ""
           }
          },
          "colorscale": {
           "diverging": [
            [
             0,
             "#8e0152"
            ],
            [
             0.1,
             "#c51b7d"
            ],
            [
             0.2,
             "#de77ae"
            ],
            [
             0.3,
             "#f1b6da"
            ],
            [
             0.4,
             "#fde0ef"
            ],
            [
             0.5,
             "#f7f7f7"
            ],
            [
             0.6,
             "#e6f5d0"
            ],
            [
             0.7,
             "#b8e186"
            ],
            [
             0.8,
             "#7fbc41"
            ],
            [
             0.9,
             "#4d9221"
            ],
            [
             1,
             "#276419"
            ]
           ],
           "sequential": [
            [
             0,
             "#0d0887"
            ],
            [
             0.1111111111111111,
             "#46039f"
            ],
            [
             0.2222222222222222,
             "#7201a8"
            ],
            [
             0.3333333333333333,
             "#9c179e"
            ],
            [
             0.4444444444444444,
             "#bd3786"
            ],
            [
             0.5555555555555556,
             "#d8576b"
            ],
            [
             0.6666666666666666,
             "#ed7953"
            ],
            [
             0.7777777777777778,
             "#fb9f3a"
            ],
            [
             0.8888888888888888,
             "#fdca26"
            ],
            [
             1,
             "#f0f921"
            ]
           ],
           "sequentialminus": [
            [
             0,
             "#0d0887"
            ],
            [
             0.1111111111111111,
             "#46039f"
            ],
            [
             0.2222222222222222,
             "#7201a8"
            ],
            [
             0.3333333333333333,
             "#9c179e"
            ],
            [
             0.4444444444444444,
             "#bd3786"
            ],
            [
             0.5555555555555556,
             "#d8576b"
            ],
            [
             0.6666666666666666,
             "#ed7953"
            ],
            [
             0.7777777777777778,
             "#fb9f3a"
            ],
            [
             0.8888888888888888,
             "#fdca26"
            ],
            [
             1,
             "#f0f921"
            ]
           ]
          },
          "colorway": [
           "#636efa",
           "#EF553B",
           "#00cc96",
           "#ab63fa",
           "#FFA15A",
           "#19d3f3",
           "#FF6692",
           "#B6E880",
           "#FF97FF",
           "#FECB52"
          ],
          "font": {
           "color": "#2a3f5f"
          },
          "geo": {
           "bgcolor": "white",
           "lakecolor": "white",
           "landcolor": "#E5ECF6",
           "showlakes": true,
           "showland": true,
           "subunitcolor": "white"
          },
          "hoverlabel": {
           "align": "left"
          },
          "hovermode": "closest",
          "mapbox": {
           "style": "light"
          },
          "paper_bgcolor": "white",
          "plot_bgcolor": "#E5ECF6",
          "polar": {
           "angularaxis": {
            "gridcolor": "white",
            "linecolor": "white",
            "ticks": ""
           },
           "bgcolor": "#E5ECF6",
           "radialaxis": {
            "gridcolor": "white",
            "linecolor": "white",
            "ticks": ""
           }
          },
          "scene": {
           "xaxis": {
            "backgroundcolor": "#E5ECF6",
            "gridcolor": "white",
            "gridwidth": 2,
            "linecolor": "white",
            "showbackground": true,
            "ticks": "",
            "zerolinecolor": "white"
           },
           "yaxis": {
            "backgroundcolor": "#E5ECF6",
            "gridcolor": "white",
            "gridwidth": 2,
            "linecolor": "white",
            "showbackground": true,
            "ticks": "",
            "zerolinecolor": "white"
           },
           "zaxis": {
            "backgroundcolor": "#E5ECF6",
            "gridcolor": "white",
            "gridwidth": 2,
            "linecolor": "white",
            "showbackground": true,
            "ticks": "",
            "zerolinecolor": "white"
           }
          },
          "shapedefaults": {
           "line": {
            "color": "#2a3f5f"
           }
          },
          "ternary": {
           "aaxis": {
            "gridcolor": "white",
            "linecolor": "white",
            "ticks": ""
           },
           "baxis": {
            "gridcolor": "white",
            "linecolor": "white",
            "ticks": ""
           },
           "bgcolor": "#E5ECF6",
           "caxis": {
            "gridcolor": "white",
            "linecolor": "white",
            "ticks": ""
           }
          },
          "title": {
           "x": 0.05
          },
          "xaxis": {
           "automargin": true,
           "gridcolor": "white",
           "linecolor": "white",
           "ticks": "",
           "title": {
            "standoff": 15
           },
           "zerolinecolor": "white",
           "zerolinewidth": 2
          },
          "yaxis": {
           "automargin": true,
           "gridcolor": "white",
           "linecolor": "white",
           "ticks": "",
           "title": {
            "standoff": 15
           },
           "zerolinecolor": "white",
           "zerolinewidth": 2
          }
         }
        },
        "xaxis": {
         "anchor": "y",
         "domain": [
          0,
          1
         ],
         "title": {
          "text": "Boiler Name"
         }
        },
        "yaxis": {
         "anchor": "x",
         "domain": [
          0,
          1
         ],
         "title": {
          "text": "Temperature"
         }
        }
       }
      }
     },
     "metadata": {},
     "output_type": "display_data"
    }
   ],
   "source": [
    "import plotly.express as px\n",
    "fig = px.bar(gp_temp, x='Boiler Name', y='Temperature')\n",
    "fig.show()"
   ]
  },
  {
   "cell_type": "code",
   "execution_count": 32,
   "metadata": {},
   "outputs": [],
   "source": [
    "boiler_A_anomoly=Boiler_A[Boiler_A['Anomaly']==1]"
   ]
  },
  {
   "cell_type": "code",
   "execution_count": 36,
   "metadata": {},
   "outputs": [],
   "source": [
    "boiler_B_anomoly=Boiler_B[Boiler_B['Anomaly']==1]"
   ]
  },
  {
   "cell_type": "code",
   "execution_count": 40,
   "metadata": {},
   "outputs": [],
   "source": [
    "boiler_C_anomoly=Boiler_C[Boiler_C['Anomaly']==1]"
   ]
  },
  {
   "cell_type": "code",
   "execution_count": 43,
   "metadata": {},
   "outputs": [],
   "source": [
    "boiler_D_anomoly=Boiler_D[Boiler_D['Anomaly']==1]"
   ]
  },
  {
   "cell_type": "code",
   "execution_count": 45,
   "metadata": {},
   "outputs": [],
   "source": [
    "fp=pd.concat([boiler_A_anomoly,boiler_B_anomoly,boiler_C_anomoly,boiler_D_anomoly])"
   ]
  },
  {
   "cell_type": "code",
   "execution_count": 51,
   "metadata": {},
   "outputs": [
    {
     "data": {
      "application/vnd.plotly.v1+json": {
       "config": {
        "plotlyServerURL": "https://plot.ly"
       },
       "data": [
        {
         "hovertemplate": "Boiler Name=Boiler A<br>index=%{x}<br>Temperature=%{y}<extra></extra>",
         "legendgroup": "Boiler A",
         "line": {
          "color": "#636efa",
          "dash": "solid"
         },
         "marker": {
          "symbol": "circle"
         },
         "mode": "lines",
         "name": "Boiler A",
         "orientation": "v",
         "showlegend": true,
         "type": "scatter",
         "x": [
          60,
          81,
          138,
          506,
          541,
          645,
          772
         ],
         "xaxis": "x",
         "y": [
          80.03774842109827,
          94.00750069529268,
          40.4139558671209,
          46.76785292702902,
          76.9634070141496,
          82.4601483887183,
          41.59264712529615
         ],
         "yaxis": "y"
        },
        {
         "hovertemplate": "Boiler Name=Boiler B<br>index=%{x}<br>Temperature=%{y}<extra></extra>",
         "legendgroup": "Boiler B",
         "line": {
          "color": "#EF553B",
          "dash": "solid"
         },
         "marker": {
          "symbol": "circle"
         },
         "mode": "lines",
         "name": "Boiler B",
         "orientation": "v",
         "showlegend": true,
         "type": "scatter",
         "x": [
          117,
          118,
          144,
          195,
          317
         ],
         "xaxis": "x",
         "y": [
          88.68052432950974,
          82.41640158777199,
          78.08339125207821,
          73.84094708779449,
          66.03221060342422
         ],
         "yaxis": "y"
        },
        {
         "hovertemplate": "Boiler Name=Boiler C<br>index=%{x}<br>Temperature=%{y}<extra></extra>",
         "legendgroup": "Boiler C",
         "line": {
          "color": "#00cc96",
          "dash": "solid"
         },
         "marker": {
          "symbol": "circle"
         },
         "mode": "lines",
         "name": "Boiler C",
         "orientation": "v",
         "showlegend": true,
         "type": "scatter",
         "x": [
          384,
          457,
          519,
          773,
          778
         ],
         "xaxis": "x",
         "y": [
          46.19276381745322,
          49.62358635062398,
          42.44766228556139,
          41.13634655592375,
          41.50140925491755
         ],
         "yaxis": "y"
        },
        {
         "hovertemplate": "Boiler Name=Boiler D<br>index=%{x}<br>Temperature=%{y}<extra></extra>",
         "legendgroup": "Boiler D",
         "line": {
          "color": "#ab63fa",
          "dash": "solid"
         },
         "marker": {
          "symbol": "circle"
         },
         "mode": "lines",
         "name": "Boiler D",
         "orientation": "v",
         "showlegend": true,
         "type": "scatter",
         "x": [
          723,
          733,
          827,
          864,
          890,
          915,
          992
         ],
         "xaxis": "x",
         "y": [
          43.4852089191442,
          73.41268709280457,
          40.10736181988482,
          77.1770400929092,
          60.41004450198678,
          56.97548362959277,
          74.27015744834907
         ],
         "yaxis": "y"
        }
       ],
       "layout": {
        "legend": {
         "title": {
          "text": "Boiler Name"
         },
         "tracegroupgap": 0
        },
        "margin": {
         "t": 60
        },
        "template": {
         "data": {
          "bar": [
           {
            "error_x": {
             "color": "#2a3f5f"
            },
            "error_y": {
             "color": "#2a3f5f"
            },
            "marker": {
             "line": {
              "color": "#E5ECF6",
              "width": 0.5
             },
             "pattern": {
              "fillmode": "overlay",
              "size": 10,
              "solidity": 0.2
             }
            },
            "type": "bar"
           }
          ],
          "barpolar": [
           {
            "marker": {
             "line": {
              "color": "#E5ECF6",
              "width": 0.5
             },
             "pattern": {
              "fillmode": "overlay",
              "size": 10,
              "solidity": 0.2
             }
            },
            "type": "barpolar"
           }
          ],
          "carpet": [
           {
            "aaxis": {
             "endlinecolor": "#2a3f5f",
             "gridcolor": "white",
             "linecolor": "white",
             "minorgridcolor": "white",
             "startlinecolor": "#2a3f5f"
            },
            "baxis": {
             "endlinecolor": "#2a3f5f",
             "gridcolor": "white",
             "linecolor": "white",
             "minorgridcolor": "white",
             "startlinecolor": "#2a3f5f"
            },
            "type": "carpet"
           }
          ],
          "choropleth": [
           {
            "colorbar": {
             "outlinewidth": 0,
             "ticks": ""
            },
            "type": "choropleth"
           }
          ],
          "contour": [
           {
            "colorbar": {
             "outlinewidth": 0,
             "ticks": ""
            },
            "colorscale": [
             [
              0,
              "#0d0887"
             ],
             [
              0.1111111111111111,
              "#46039f"
             ],
             [
              0.2222222222222222,
              "#7201a8"
             ],
             [
              0.3333333333333333,
              "#9c179e"
             ],
             [
              0.4444444444444444,
              "#bd3786"
             ],
             [
              0.5555555555555556,
              "#d8576b"
             ],
             [
              0.6666666666666666,
              "#ed7953"
             ],
             [
              0.7777777777777778,
              "#fb9f3a"
             ],
             [
              0.8888888888888888,
              "#fdca26"
             ],
             [
              1,
              "#f0f921"
             ]
            ],
            "type": "contour"
           }
          ],
          "contourcarpet": [
           {
            "colorbar": {
             "outlinewidth": 0,
             "ticks": ""
            },
            "type": "contourcarpet"
           }
          ],
          "heatmap": [
           {
            "colorbar": {
             "outlinewidth": 0,
             "ticks": ""
            },
            "colorscale": [
             [
              0,
              "#0d0887"
             ],
             [
              0.1111111111111111,
              "#46039f"
             ],
             [
              0.2222222222222222,
              "#7201a8"
             ],
             [
              0.3333333333333333,
              "#9c179e"
             ],
             [
              0.4444444444444444,
              "#bd3786"
             ],
             [
              0.5555555555555556,
              "#d8576b"
             ],
             [
              0.6666666666666666,
              "#ed7953"
             ],
             [
              0.7777777777777778,
              "#fb9f3a"
             ],
             [
              0.8888888888888888,
              "#fdca26"
             ],
             [
              1,
              "#f0f921"
             ]
            ],
            "type": "heatmap"
           }
          ],
          "heatmapgl": [
           {
            "colorbar": {
             "outlinewidth": 0,
             "ticks": ""
            },
            "colorscale": [
             [
              0,
              "#0d0887"
             ],
             [
              0.1111111111111111,
              "#46039f"
             ],
             [
              0.2222222222222222,
              "#7201a8"
             ],
             [
              0.3333333333333333,
              "#9c179e"
             ],
             [
              0.4444444444444444,
              "#bd3786"
             ],
             [
              0.5555555555555556,
              "#d8576b"
             ],
             [
              0.6666666666666666,
              "#ed7953"
             ],
             [
              0.7777777777777778,
              "#fb9f3a"
             ],
             [
              0.8888888888888888,
              "#fdca26"
             ],
             [
              1,
              "#f0f921"
             ]
            ],
            "type": "heatmapgl"
           }
          ],
          "histogram": [
           {
            "marker": {
             "pattern": {
              "fillmode": "overlay",
              "size": 10,
              "solidity": 0.2
             }
            },
            "type": "histogram"
           }
          ],
          "histogram2d": [
           {
            "colorbar": {
             "outlinewidth": 0,
             "ticks": ""
            },
            "colorscale": [
             [
              0,
              "#0d0887"
             ],
             [
              0.1111111111111111,
              "#46039f"
             ],
             [
              0.2222222222222222,
              "#7201a8"
             ],
             [
              0.3333333333333333,
              "#9c179e"
             ],
             [
              0.4444444444444444,
              "#bd3786"
             ],
             [
              0.5555555555555556,
              "#d8576b"
             ],
             [
              0.6666666666666666,
              "#ed7953"
             ],
             [
              0.7777777777777778,
              "#fb9f3a"
             ],
             [
              0.8888888888888888,
              "#fdca26"
             ],
             [
              1,
              "#f0f921"
             ]
            ],
            "type": "histogram2d"
           }
          ],
          "histogram2dcontour": [
           {
            "colorbar": {
             "outlinewidth": 0,
             "ticks": ""
            },
            "colorscale": [
             [
              0,
              "#0d0887"
             ],
             [
              0.1111111111111111,
              "#46039f"
             ],
             [
              0.2222222222222222,
              "#7201a8"
             ],
             [
              0.3333333333333333,
              "#9c179e"
             ],
             [
              0.4444444444444444,
              "#bd3786"
             ],
             [
              0.5555555555555556,
              "#d8576b"
             ],
             [
              0.6666666666666666,
              "#ed7953"
             ],
             [
              0.7777777777777778,
              "#fb9f3a"
             ],
             [
              0.8888888888888888,
              "#fdca26"
             ],
             [
              1,
              "#f0f921"
             ]
            ],
            "type": "histogram2dcontour"
           }
          ],
          "mesh3d": [
           {
            "colorbar": {
             "outlinewidth": 0,
             "ticks": ""
            },
            "type": "mesh3d"
           }
          ],
          "parcoords": [
           {
            "line": {
             "colorbar": {
              "outlinewidth": 0,
              "ticks": ""
             }
            },
            "type": "parcoords"
           }
          ],
          "pie": [
           {
            "automargin": true,
            "type": "pie"
           }
          ],
          "scatter": [
           {
            "fillpattern": {
             "fillmode": "overlay",
             "size": 10,
             "solidity": 0.2
            },
            "type": "scatter"
           }
          ],
          "scatter3d": [
           {
            "line": {
             "colorbar": {
              "outlinewidth": 0,
              "ticks": ""
             }
            },
            "marker": {
             "colorbar": {
              "outlinewidth": 0,
              "ticks": ""
             }
            },
            "type": "scatter3d"
           }
          ],
          "scattercarpet": [
           {
            "marker": {
             "colorbar": {
              "outlinewidth": 0,
              "ticks": ""
             }
            },
            "type": "scattercarpet"
           }
          ],
          "scattergeo": [
           {
            "marker": {
             "colorbar": {
              "outlinewidth": 0,
              "ticks": ""
             }
            },
            "type": "scattergeo"
           }
          ],
          "scattergl": [
           {
            "marker": {
             "colorbar": {
              "outlinewidth": 0,
              "ticks": ""
             }
            },
            "type": "scattergl"
           }
          ],
          "scattermapbox": [
           {
            "marker": {
             "colorbar": {
              "outlinewidth": 0,
              "ticks": ""
             }
            },
            "type": "scattermapbox"
           }
          ],
          "scatterpolar": [
           {
            "marker": {
             "colorbar": {
              "outlinewidth": 0,
              "ticks": ""
             }
            },
            "type": "scatterpolar"
           }
          ],
          "scatterpolargl": [
           {
            "marker": {
             "colorbar": {
              "outlinewidth": 0,
              "ticks": ""
             }
            },
            "type": "scatterpolargl"
           }
          ],
          "scatterternary": [
           {
            "marker": {
             "colorbar": {
              "outlinewidth": 0,
              "ticks": ""
             }
            },
            "type": "scatterternary"
           }
          ],
          "surface": [
           {
            "colorbar": {
             "outlinewidth": 0,
             "ticks": ""
            },
            "colorscale": [
             [
              0,
              "#0d0887"
             ],
             [
              0.1111111111111111,
              "#46039f"
             ],
             [
              0.2222222222222222,
              "#7201a8"
             ],
             [
              0.3333333333333333,
              "#9c179e"
             ],
             [
              0.4444444444444444,
              "#bd3786"
             ],
             [
              0.5555555555555556,
              "#d8576b"
             ],
             [
              0.6666666666666666,
              "#ed7953"
             ],
             [
              0.7777777777777778,
              "#fb9f3a"
             ],
             [
              0.8888888888888888,
              "#fdca26"
             ],
             [
              1,
              "#f0f921"
             ]
            ],
            "type": "surface"
           }
          ],
          "table": [
           {
            "cells": {
             "fill": {
              "color": "#EBF0F8"
             },
             "line": {
              "color": "white"
             }
            },
            "header": {
             "fill": {
              "color": "#C8D4E3"
             },
             "line": {
              "color": "white"
             }
            },
            "type": "table"
           }
          ]
         },
         "layout": {
          "annotationdefaults": {
           "arrowcolor": "#2a3f5f",
           "arrowhead": 0,
           "arrowwidth": 1
          },
          "autotypenumbers": "strict",
          "coloraxis": {
           "colorbar": {
            "outlinewidth": 0,
            "ticks": ""
           }
          },
          "colorscale": {
           "diverging": [
            [
             0,
             "#8e0152"
            ],
            [
             0.1,
             "#c51b7d"
            ],
            [
             0.2,
             "#de77ae"
            ],
            [
             0.3,
             "#f1b6da"
            ],
            [
             0.4,
             "#fde0ef"
            ],
            [
             0.5,
             "#f7f7f7"
            ],
            [
             0.6,
             "#e6f5d0"
            ],
            [
             0.7,
             "#b8e186"
            ],
            [
             0.8,
             "#7fbc41"
            ],
            [
             0.9,
             "#4d9221"
            ],
            [
             1,
             "#276419"
            ]
           ],
           "sequential": [
            [
             0,
             "#0d0887"
            ],
            [
             0.1111111111111111,
             "#46039f"
            ],
            [
             0.2222222222222222,
             "#7201a8"
            ],
            [
             0.3333333333333333,
             "#9c179e"
            ],
            [
             0.4444444444444444,
             "#bd3786"
            ],
            [
             0.5555555555555556,
             "#d8576b"
            ],
            [
             0.6666666666666666,
             "#ed7953"
            ],
            [
             0.7777777777777778,
             "#fb9f3a"
            ],
            [
             0.8888888888888888,
             "#fdca26"
            ],
            [
             1,
             "#f0f921"
            ]
           ],
           "sequentialminus": [
            [
             0,
             "#0d0887"
            ],
            [
             0.1111111111111111,
             "#46039f"
            ],
            [
             0.2222222222222222,
             "#7201a8"
            ],
            [
             0.3333333333333333,
             "#9c179e"
            ],
            [
             0.4444444444444444,
             "#bd3786"
            ],
            [
             0.5555555555555556,
             "#d8576b"
            ],
            [
             0.6666666666666666,
             "#ed7953"
            ],
            [
             0.7777777777777778,
             "#fb9f3a"
            ],
            [
             0.8888888888888888,
             "#fdca26"
            ],
            [
             1,
             "#f0f921"
            ]
           ]
          },
          "colorway": [
           "#636efa",
           "#EF553B",
           "#00cc96",
           "#ab63fa",
           "#FFA15A",
           "#19d3f3",
           "#FF6692",
           "#B6E880",
           "#FF97FF",
           "#FECB52"
          ],
          "font": {
           "color": "#2a3f5f"
          },
          "geo": {
           "bgcolor": "white",
           "lakecolor": "white",
           "landcolor": "#E5ECF6",
           "showlakes": true,
           "showland": true,
           "subunitcolor": "white"
          },
          "hoverlabel": {
           "align": "left"
          },
          "hovermode": "closest",
          "mapbox": {
           "style": "light"
          },
          "paper_bgcolor": "white",
          "plot_bgcolor": "#E5ECF6",
          "polar": {
           "angularaxis": {
            "gridcolor": "white",
            "linecolor": "white",
            "ticks": ""
           },
           "bgcolor": "#E5ECF6",
           "radialaxis": {
            "gridcolor": "white",
            "linecolor": "white",
            "ticks": ""
           }
          },
          "scene": {
           "xaxis": {
            "backgroundcolor": "#E5ECF6",
            "gridcolor": "white",
            "gridwidth": 2,
            "linecolor": "white",
            "showbackground": true,
            "ticks": "",
            "zerolinecolor": "white"
           },
           "yaxis": {
            "backgroundcolor": "#E5ECF6",
            "gridcolor": "white",
            "gridwidth": 2,
            "linecolor": "white",
            "showbackground": true,
            "ticks": "",
            "zerolinecolor": "white"
           },
           "zaxis": {
            "backgroundcolor": "#E5ECF6",
            "gridcolor": "white",
            "gridwidth": 2,
            "linecolor": "white",
            "showbackground": true,
            "ticks": "",
            "zerolinecolor": "white"
           }
          },
          "shapedefaults": {
           "line": {
            "color": "#2a3f5f"
           }
          },
          "ternary": {
           "aaxis": {
            "gridcolor": "white",
            "linecolor": "white",
            "ticks": ""
           },
           "baxis": {
            "gridcolor": "white",
            "linecolor": "white",
            "ticks": ""
           },
           "bgcolor": "#E5ECF6",
           "caxis": {
            "gridcolor": "white",
            "linecolor": "white",
            "ticks": ""
           }
          },
          "title": {
           "x": 0.05
          },
          "xaxis": {
           "automargin": true,
           "gridcolor": "white",
           "linecolor": "white",
           "ticks": "",
           "title": {
            "standoff": 15
           },
           "zerolinecolor": "white",
           "zerolinewidth": 2
          },
          "yaxis": {
           "automargin": true,
           "gridcolor": "white",
           "linecolor": "white",
           "ticks": "",
           "title": {
            "standoff": 15
           },
           "zerolinecolor": "white",
           "zerolinewidth": 2
          }
         }
        },
        "xaxis": {
         "anchor": "y",
         "domain": [
          0,
          1
         ],
         "title": {
          "text": "index"
         }
        },
        "yaxis": {
         "anchor": "x",
         "domain": [
          0,
          1
         ],
         "title": {
          "text": "Temperature"
         }
        }
       }
      }
     },
     "metadata": {},
     "output_type": "display_data"
    }
   ],
   "source": [
    "fig = px.line(fp,y=\"Temperature\", color='Boiler Name')\n",
    "fig.show()"
   ]
  },
  {
   "cell_type": "code",
   "execution_count": 40,
   "metadata": {},
   "outputs": [
    {
     "data": {
      "text/html": [
       "<div>\n",
       "<style scoped>\n",
       "    .dataframe tbody tr th:only-of-type {\n",
       "        vertical-align: middle;\n",
       "    }\n",
       "\n",
       "    .dataframe tbody tr th {\n",
       "        vertical-align: top;\n",
       "    }\n",
       "\n",
       "    .dataframe thead th {\n",
       "        text-align: right;\n",
       "    }\n",
       "</style>\n",
       "<table border=\"1\" class=\"dataframe\">\n",
       "  <thead>\n",
       "    <tr style=\"text-align: right;\">\n",
       "      <th></th>\n",
       "      <th>Boiler Name</th>\n",
       "      <th>Temperature</th>\n",
       "      <th>Anomaly</th>\n",
       "      <th>Timestamps</th>\n",
       "      <th>year</th>\n",
       "      <th>month</th>\n",
       "      <th>day</th>\n",
       "      <th>time</th>\n",
       "    </tr>\n",
       "  </thead>\n",
       "  <tbody>\n",
       "    <tr>\n",
       "      <th>0</th>\n",
       "      <td>Boiler A</td>\n",
       "      <td>20.180428</td>\n",
       "      <td>0</td>\n",
       "      <td>2023-01-23 00:58:20</td>\n",
       "      <td>2023</td>\n",
       "      <td>1</td>\n",
       "      <td>23</td>\n",
       "      <td>00:58:20</td>\n",
       "    </tr>\n",
       "    <tr>\n",
       "      <th>1</th>\n",
       "      <td>Boiler A</td>\n",
       "      <td>23.372948</td>\n",
       "      <td>0</td>\n",
       "      <td>2023-01-30 06:30:08</td>\n",
       "      <td>2023</td>\n",
       "      <td>1</td>\n",
       "      <td>30</td>\n",
       "      <td>06:30:08</td>\n",
       "    </tr>\n",
       "    <tr>\n",
       "      <th>2</th>\n",
       "      <td>Boiler A</td>\n",
       "      <td>29.858208</td>\n",
       "      <td>0</td>\n",
       "      <td>2023-01-03 10:47:23</td>\n",
       "      <td>2023</td>\n",
       "      <td>1</td>\n",
       "      <td>3</td>\n",
       "      <td>10:47:23</td>\n",
       "    </tr>\n",
       "    <tr>\n",
       "      <th>7</th>\n",
       "      <td>Boiler A</td>\n",
       "      <td>31.072207</td>\n",
       "      <td>0</td>\n",
       "      <td>2023-01-03 23:55:50</td>\n",
       "      <td>2023</td>\n",
       "      <td>1</td>\n",
       "      <td>3</td>\n",
       "      <td>23:55:50</td>\n",
       "    </tr>\n",
       "    <tr>\n",
       "      <th>10</th>\n",
       "      <td>Boiler A</td>\n",
       "      <td>17.730624</td>\n",
       "      <td>0</td>\n",
       "      <td>2023-01-15 08:13:08</td>\n",
       "      <td>2023</td>\n",
       "      <td>1</td>\n",
       "      <td>15</td>\n",
       "      <td>08:13:08</td>\n",
       "    </tr>\n",
       "    <tr>\n",
       "      <th>...</th>\n",
       "      <td>...</td>\n",
       "      <td>...</td>\n",
       "      <td>...</td>\n",
       "      <td>...</td>\n",
       "      <td>...</td>\n",
       "      <td>...</td>\n",
       "      <td>...</td>\n",
       "      <td>...</td>\n",
       "    </tr>\n",
       "    <tr>\n",
       "      <th>979</th>\n",
       "      <td>Boiler A</td>\n",
       "      <td>29.691812</td>\n",
       "      <td>0</td>\n",
       "      <td>2023-01-07 16:19:51</td>\n",
       "      <td>2023</td>\n",
       "      <td>1</td>\n",
       "      <td>7</td>\n",
       "      <td>16:19:51</td>\n",
       "    </tr>\n",
       "    <tr>\n",
       "      <th>987</th>\n",
       "      <td>Boiler A</td>\n",
       "      <td>31.184915</td>\n",
       "      <td>0</td>\n",
       "      <td>2023-01-18 23:03:26</td>\n",
       "      <td>2023</td>\n",
       "      <td>1</td>\n",
       "      <td>18</td>\n",
       "      <td>23:03:26</td>\n",
       "    </tr>\n",
       "    <tr>\n",
       "      <th>991</th>\n",
       "      <td>Boiler A</td>\n",
       "      <td>29.588888</td>\n",
       "      <td>0</td>\n",
       "      <td>2023-01-21 00:09:45</td>\n",
       "      <td>2023</td>\n",
       "      <td>1</td>\n",
       "      <td>21</td>\n",
       "      <td>00:09:45</td>\n",
       "    </tr>\n",
       "    <tr>\n",
       "      <th>995</th>\n",
       "      <td>Boiler A</td>\n",
       "      <td>27.596447</td>\n",
       "      <td>0</td>\n",
       "      <td>2023-01-11 23:39:44</td>\n",
       "      <td>2023</td>\n",
       "      <td>1</td>\n",
       "      <td>11</td>\n",
       "      <td>23:39:44</td>\n",
       "    </tr>\n",
       "    <tr>\n",
       "      <th>997</th>\n",
       "      <td>Boiler A</td>\n",
       "      <td>17.157156</td>\n",
       "      <td>0</td>\n",
       "      <td>2023-01-02 03:47:51</td>\n",
       "      <td>2023</td>\n",
       "      <td>1</td>\n",
       "      <td>2</td>\n",
       "      <td>03:47:51</td>\n",
       "    </tr>\n",
       "  </tbody>\n",
       "</table>\n",
       "<p>233 rows × 8 columns</p>\n",
       "</div>"
      ],
      "text/plain": [
       "    Boiler Name  Temperature  Anomaly          Timestamps  year  month  day  \\\n",
       "0      Boiler A    20.180428        0 2023-01-23 00:58:20  2023      1   23   \n",
       "1      Boiler A    23.372948        0 2023-01-30 06:30:08  2023      1   30   \n",
       "2      Boiler A    29.858208        0 2023-01-03 10:47:23  2023      1    3   \n",
       "7      Boiler A    31.072207        0 2023-01-03 23:55:50  2023      1    3   \n",
       "10     Boiler A    17.730624        0 2023-01-15 08:13:08  2023      1   15   \n",
       "..          ...          ...      ...                 ...   ...    ...  ...   \n",
       "979    Boiler A    29.691812        0 2023-01-07 16:19:51  2023      1    7   \n",
       "987    Boiler A    31.184915        0 2023-01-18 23:03:26  2023      1   18   \n",
       "991    Boiler A    29.588888        0 2023-01-21 00:09:45  2023      1   21   \n",
       "995    Boiler A    27.596447        0 2023-01-11 23:39:44  2023      1   11   \n",
       "997    Boiler A    17.157156        0 2023-01-02 03:47:51  2023      1    2   \n",
       "\n",
       "         time  \n",
       "0    00:58:20  \n",
       "1    06:30:08  \n",
       "2    10:47:23  \n",
       "7    23:55:50  \n",
       "10   08:13:08  \n",
       "..        ...  \n",
       "979  16:19:51  \n",
       "987  23:03:26  \n",
       "991  00:09:45  \n",
       "995  23:39:44  \n",
       "997  03:47:51  \n",
       "\n",
       "[233 rows x 8 columns]"
      ]
     },
     "execution_count": 40,
     "metadata": {},
     "output_type": "execute_result"
    }
   ],
   "source": [
    "Boiler_A"
   ]
  },
  {
   "cell_type": "code",
   "execution_count": 80,
   "metadata": {},
   "outputs": [],
   "source": [
    "X1=Boiler_A['Temperature']\n",
    "y1=Boiler_A['Anomaly']"
   ]
  },
  {
   "cell_type": "code",
   "execution_count": 81,
   "metadata": {},
   "outputs": [
    {
     "data": {
      "text/plain": [
       "0      0\n",
       "1      0\n",
       "2      0\n",
       "7      0\n",
       "10     0\n",
       "      ..\n",
       "979    0\n",
       "987    0\n",
       "991    0\n",
       "995    0\n",
       "997    0\n",
       "Name: Anomaly, Length: 233, dtype: int64"
      ]
     },
     "execution_count": 81,
     "metadata": {},
     "output_type": "execute_result"
    }
   ],
   "source": [
    "y1"
   ]
  },
  {
   "cell_type": "code",
   "execution_count": 52,
   "metadata": {},
   "outputs": [],
   "source": [
    "from imblearn.over_sampling import SMOTE"
   ]
  },
  {
   "cell_type": "code",
   "execution_count": 57,
   "metadata": {},
   "outputs": [],
   "source": [
    "smote=SMOTE(sampling_strategy='minority')\n"
   ]
  },
  {
   "cell_type": "code",
   "execution_count": 82,
   "metadata": {},
   "outputs": [],
   "source": [
    "X1=X1.values.reshape(-1, 1)"
   ]
  },
  {
   "cell_type": "code",
   "execution_count": 83,
   "metadata": {},
   "outputs": [],
   "source": [
    "X_sm, y_sm = smote.fit_resample(X1, y1)\n"
   ]
  },
  {
   "cell_type": "code",
   "execution_count": 60,
   "metadata": {},
   "outputs": [],
   "source": [
    "f=pd.DataFrame(X_sm,y_sm,columns=['Temp'])"
   ]
  },
  {
   "cell_type": "code",
   "execution_count": 61,
   "metadata": {},
   "outputs": [],
   "source": [
    "f=f.reset_index()"
   ]
  },
  {
   "cell_type": "code",
   "execution_count": 72,
   "metadata": {},
   "outputs": [
    {
     "data": {
      "text/plain": [
       "Anomaly     1.000000\n",
       "Temp       94.007501\n",
       "dtype: float64"
      ]
     },
     "execution_count": 72,
     "metadata": {},
     "output_type": "execute_result"
    }
   ],
   "source": [
    "f[f['Anomaly']==1].max()"
   ]
  },
  {
   "cell_type": "code",
   "execution_count": null,
   "metadata": {},
   "outputs": [],
   "source": []
  },
  {
   "cell_type": "code",
   "execution_count": 84,
   "metadata": {},
   "outputs": [],
   "source": [
    "from sklearn.linear_model import LogisticRegression"
   ]
  },
  {
   "cell_type": "code",
   "execution_count": 85,
   "metadata": {},
   "outputs": [],
   "source": [
    "clf=LogisticRegression()"
   ]
  },
  {
   "cell_type": "code",
   "execution_count": 86,
   "metadata": {},
   "outputs": [
    {
     "data": {
      "text/html": [
       "<style>#sk-container-id-3 {color: black;}#sk-container-id-3 pre{padding: 0;}#sk-container-id-3 div.sk-toggleable {background-color: white;}#sk-container-id-3 label.sk-toggleable__label {cursor: pointer;display: block;width: 100%;margin-bottom: 0;padding: 0.3em;box-sizing: border-box;text-align: center;}#sk-container-id-3 label.sk-toggleable__label-arrow:before {content: \"▸\";float: left;margin-right: 0.25em;color: #696969;}#sk-container-id-3 label.sk-toggleable__label-arrow:hover:before {color: black;}#sk-container-id-3 div.sk-estimator:hover label.sk-toggleable__label-arrow:before {color: black;}#sk-container-id-3 div.sk-toggleable__content {max-height: 0;max-width: 0;overflow: hidden;text-align: left;background-color: #f0f8ff;}#sk-container-id-3 div.sk-toggleable__content pre {margin: 0.2em;color: black;border-radius: 0.25em;background-color: #f0f8ff;}#sk-container-id-3 input.sk-toggleable__control:checked~div.sk-toggleable__content {max-height: 200px;max-width: 100%;overflow: auto;}#sk-container-id-3 input.sk-toggleable__control:checked~label.sk-toggleable__label-arrow:before {content: \"▾\";}#sk-container-id-3 div.sk-estimator input.sk-toggleable__control:checked~label.sk-toggleable__label {background-color: #d4ebff;}#sk-container-id-3 div.sk-label input.sk-toggleable__control:checked~label.sk-toggleable__label {background-color: #d4ebff;}#sk-container-id-3 input.sk-hidden--visually {border: 0;clip: rect(1px 1px 1px 1px);clip: rect(1px, 1px, 1px, 1px);height: 1px;margin: -1px;overflow: hidden;padding: 0;position: absolute;width: 1px;}#sk-container-id-3 div.sk-estimator {font-family: monospace;background-color: #f0f8ff;border: 1px dotted black;border-radius: 0.25em;box-sizing: border-box;margin-bottom: 0.5em;}#sk-container-id-3 div.sk-estimator:hover {background-color: #d4ebff;}#sk-container-id-3 div.sk-parallel-item::after {content: \"\";width: 100%;border-bottom: 1px solid gray;flex-grow: 1;}#sk-container-id-3 div.sk-label:hover label.sk-toggleable__label {background-color: #d4ebff;}#sk-container-id-3 div.sk-serial::before {content: \"\";position: absolute;border-left: 1px solid gray;box-sizing: border-box;top: 0;bottom: 0;left: 50%;z-index: 0;}#sk-container-id-3 div.sk-serial {display: flex;flex-direction: column;align-items: center;background-color: white;padding-right: 0.2em;padding-left: 0.2em;position: relative;}#sk-container-id-3 div.sk-item {position: relative;z-index: 1;}#sk-container-id-3 div.sk-parallel {display: flex;align-items: stretch;justify-content: center;background-color: white;position: relative;}#sk-container-id-3 div.sk-item::before, #sk-container-id-3 div.sk-parallel-item::before {content: \"\";position: absolute;border-left: 1px solid gray;box-sizing: border-box;top: 0;bottom: 0;left: 50%;z-index: -1;}#sk-container-id-3 div.sk-parallel-item {display: flex;flex-direction: column;z-index: 1;position: relative;background-color: white;}#sk-container-id-3 div.sk-parallel-item:first-child::after {align-self: flex-end;width: 50%;}#sk-container-id-3 div.sk-parallel-item:last-child::after {align-self: flex-start;width: 50%;}#sk-container-id-3 div.sk-parallel-item:only-child::after {width: 0;}#sk-container-id-3 div.sk-dashed-wrapped {border: 1px dashed gray;margin: 0 0.4em 0.5em 0.4em;box-sizing: border-box;padding-bottom: 0.4em;background-color: white;}#sk-container-id-3 div.sk-label label {font-family: monospace;font-weight: bold;display: inline-block;line-height: 1.2em;}#sk-container-id-3 div.sk-label-container {text-align: center;}#sk-container-id-3 div.sk-container {/* jupyter's `normalize.less` sets `[hidden] { display: none; }` but bootstrap.min.css set `[hidden] { display: none !important; }` so we also need the `!important` here to be able to override the default hidden behavior on the sphinx rendered scikit-learn.org. See: https://github.com/scikit-learn/scikit-learn/issues/21755 */display: inline-block !important;position: relative;}#sk-container-id-3 div.sk-text-repr-fallback {display: none;}</style><div id=\"sk-container-id-3\" class=\"sk-top-container\"><div class=\"sk-text-repr-fallback\"><pre>LogisticRegression()</pre><b>In a Jupyter environment, please rerun this cell to show the HTML representation or trust the notebook. <br />On GitHub, the HTML representation is unable to render, please try loading this page with nbviewer.org.</b></div><div class=\"sk-container\" hidden><div class=\"sk-item\"><div class=\"sk-estimator sk-toggleable\"><input class=\"sk-toggleable__control sk-hidden--visually\" id=\"sk-estimator-id-3\" type=\"checkbox\" checked><label for=\"sk-estimator-id-3\" class=\"sk-toggleable__label sk-toggleable__label-arrow\">LogisticRegression</label><div class=\"sk-toggleable__content\"><pre>LogisticRegression()</pre></div></div></div></div></div>"
      ],
      "text/plain": [
       "LogisticRegression()"
      ]
     },
     "execution_count": 86,
     "metadata": {},
     "output_type": "execute_result"
    }
   ],
   "source": [
    "clf.fit(X_sm,y_sm)"
   ]
  },
  {
   "cell_type": "code",
   "execution_count": 87,
   "metadata": {},
   "outputs": [
    {
     "data": {
      "text/plain": [
       "0.9977876106194691"
      ]
     },
     "execution_count": 87,
     "metadata": {},
     "output_type": "execute_result"
    }
   ],
   "source": [
    "clf.score(X_sm,y_sm)"
   ]
  },
  {
   "cell_type": "code",
   "execution_count": 88,
   "metadata": {},
   "outputs": [],
   "source": [
    "from sklearn.model_selection import train_test_split"
   ]
  },
  {
   "cell_type": "code",
   "execution_count": 89,
   "metadata": {},
   "outputs": [],
   "source": [
    "X_train,X_test,y_train,y_test=train_test_split(X_sm,y_sm,test_size=0.4,random_state=50)"
   ]
  },
  {
   "cell_type": "code",
   "execution_count": 90,
   "metadata": {},
   "outputs": [
    {
     "data": {
      "text/html": [
       "<style>#sk-container-id-4 {color: black;}#sk-container-id-4 pre{padding: 0;}#sk-container-id-4 div.sk-toggleable {background-color: white;}#sk-container-id-4 label.sk-toggleable__label {cursor: pointer;display: block;width: 100%;margin-bottom: 0;padding: 0.3em;box-sizing: border-box;text-align: center;}#sk-container-id-4 label.sk-toggleable__label-arrow:before {content: \"▸\";float: left;margin-right: 0.25em;color: #696969;}#sk-container-id-4 label.sk-toggleable__label-arrow:hover:before {color: black;}#sk-container-id-4 div.sk-estimator:hover label.sk-toggleable__label-arrow:before {color: black;}#sk-container-id-4 div.sk-toggleable__content {max-height: 0;max-width: 0;overflow: hidden;text-align: left;background-color: #f0f8ff;}#sk-container-id-4 div.sk-toggleable__content pre {margin: 0.2em;color: black;border-radius: 0.25em;background-color: #f0f8ff;}#sk-container-id-4 input.sk-toggleable__control:checked~div.sk-toggleable__content {max-height: 200px;max-width: 100%;overflow: auto;}#sk-container-id-4 input.sk-toggleable__control:checked~label.sk-toggleable__label-arrow:before {content: \"▾\";}#sk-container-id-4 div.sk-estimator input.sk-toggleable__control:checked~label.sk-toggleable__label {background-color: #d4ebff;}#sk-container-id-4 div.sk-label input.sk-toggleable__control:checked~label.sk-toggleable__label {background-color: #d4ebff;}#sk-container-id-4 input.sk-hidden--visually {border: 0;clip: rect(1px 1px 1px 1px);clip: rect(1px, 1px, 1px, 1px);height: 1px;margin: -1px;overflow: hidden;padding: 0;position: absolute;width: 1px;}#sk-container-id-4 div.sk-estimator {font-family: monospace;background-color: #f0f8ff;border: 1px dotted black;border-radius: 0.25em;box-sizing: border-box;margin-bottom: 0.5em;}#sk-container-id-4 div.sk-estimator:hover {background-color: #d4ebff;}#sk-container-id-4 div.sk-parallel-item::after {content: \"\";width: 100%;border-bottom: 1px solid gray;flex-grow: 1;}#sk-container-id-4 div.sk-label:hover label.sk-toggleable__label {background-color: #d4ebff;}#sk-container-id-4 div.sk-serial::before {content: \"\";position: absolute;border-left: 1px solid gray;box-sizing: border-box;top: 0;bottom: 0;left: 50%;z-index: 0;}#sk-container-id-4 div.sk-serial {display: flex;flex-direction: column;align-items: center;background-color: white;padding-right: 0.2em;padding-left: 0.2em;position: relative;}#sk-container-id-4 div.sk-item {position: relative;z-index: 1;}#sk-container-id-4 div.sk-parallel {display: flex;align-items: stretch;justify-content: center;background-color: white;position: relative;}#sk-container-id-4 div.sk-item::before, #sk-container-id-4 div.sk-parallel-item::before {content: \"\";position: absolute;border-left: 1px solid gray;box-sizing: border-box;top: 0;bottom: 0;left: 50%;z-index: -1;}#sk-container-id-4 div.sk-parallel-item {display: flex;flex-direction: column;z-index: 1;position: relative;background-color: white;}#sk-container-id-4 div.sk-parallel-item:first-child::after {align-self: flex-end;width: 50%;}#sk-container-id-4 div.sk-parallel-item:last-child::after {align-self: flex-start;width: 50%;}#sk-container-id-4 div.sk-parallel-item:only-child::after {width: 0;}#sk-container-id-4 div.sk-dashed-wrapped {border: 1px dashed gray;margin: 0 0.4em 0.5em 0.4em;box-sizing: border-box;padding-bottom: 0.4em;background-color: white;}#sk-container-id-4 div.sk-label label {font-family: monospace;font-weight: bold;display: inline-block;line-height: 1.2em;}#sk-container-id-4 div.sk-label-container {text-align: center;}#sk-container-id-4 div.sk-container {/* jupyter's `normalize.less` sets `[hidden] { display: none; }` but bootstrap.min.css set `[hidden] { display: none !important; }` so we also need the `!important` here to be able to override the default hidden behavior on the sphinx rendered scikit-learn.org. See: https://github.com/scikit-learn/scikit-learn/issues/21755 */display: inline-block !important;position: relative;}#sk-container-id-4 div.sk-text-repr-fallback {display: none;}</style><div id=\"sk-container-id-4\" class=\"sk-top-container\"><div class=\"sk-text-repr-fallback\"><pre>LogisticRegression()</pre><b>In a Jupyter environment, please rerun this cell to show the HTML representation or trust the notebook. <br />On GitHub, the HTML representation is unable to render, please try loading this page with nbviewer.org.</b></div><div class=\"sk-container\" hidden><div class=\"sk-item\"><div class=\"sk-estimator sk-toggleable\"><input class=\"sk-toggleable__control sk-hidden--visually\" id=\"sk-estimator-id-4\" type=\"checkbox\" checked><label for=\"sk-estimator-id-4\" class=\"sk-toggleable__label sk-toggleable__label-arrow\">LogisticRegression</label><div class=\"sk-toggleable__content\"><pre>LogisticRegression()</pre></div></div></div></div></div>"
      ],
      "text/plain": [
       "LogisticRegression()"
      ]
     },
     "execution_count": 90,
     "metadata": {},
     "output_type": "execute_result"
    }
   ],
   "source": [
    "clf.fit(X_train,y_train)"
   ]
  },
  {
   "cell_type": "code",
   "execution_count": 91,
   "metadata": {},
   "outputs": [],
   "source": [
    "predictions=clf.predict(X_test)"
   ]
  },
  {
   "cell_type": "code",
   "execution_count": 92,
   "metadata": {},
   "outputs": [],
   "source": [
    "from sklearn import metrics"
   ]
  },
  {
   "cell_type": "code",
   "execution_count": 93,
   "metadata": {},
   "outputs": [
    {
     "name": "stdout",
     "output_type": "stream",
     "text": [
      "              precision    recall  f1-score   support\n",
      "\n",
      "           0       1.00      0.99      0.99        97\n",
      "           1       0.99      1.00      0.99        84\n",
      "\n",
      "    accuracy                           0.99       181\n",
      "   macro avg       0.99      0.99      0.99       181\n",
      "weighted avg       0.99      0.99      0.99       181\n",
      "\n"
     ]
    }
   ],
   "source": [
    "print(metrics.classification_report(y_test,predictions))"
   ]
  },
  {
   "cell_type": "code",
   "execution_count": 94,
   "metadata": {},
   "outputs": [],
   "source": [
    "pred=clf.predict([[39]])"
   ]
  },
  {
   "cell_type": "code",
   "execution_count": 95,
   "metadata": {},
   "outputs": [],
   "source": [
    "check=list(pred)"
   ]
  },
  {
   "cell_type": "code",
   "execution_count": 96,
   "metadata": {},
   "outputs": [
    {
     "name": "stdout",
     "output_type": "stream",
     "text": [
      "Anomoly\n"
     ]
    }
   ],
   "source": [
    "if check[0]==1:\n",
    "    print(\"Anomoly\")\n",
    "else:\n",
    "    print(\"Normal\")"
   ]
  },
  {
   "cell_type": "code",
   "execution_count": 99,
   "metadata": {},
   "outputs": [],
   "source": [
    "from sklearn.svm import SVC"
   ]
  },
  {
   "cell_type": "code",
   "execution_count": 100,
   "metadata": {},
   "outputs": [],
   "source": [
    "clf=SVC()"
   ]
  },
  {
   "cell_type": "code",
   "execution_count": null,
   "metadata": {},
   "outputs": [],
   "source": []
  },
  {
   "cell_type": "code",
   "execution_count": 101,
   "metadata": {},
   "outputs": [
    {
     "data": {
      "text/html": [
       "<style>#sk-container-id-4 {color: black;}#sk-container-id-4 pre{padding: 0;}#sk-container-id-4 div.sk-toggleable {background-color: white;}#sk-container-id-4 label.sk-toggleable__label {cursor: pointer;display: block;width: 100%;margin-bottom: 0;padding: 0.3em;box-sizing: border-box;text-align: center;}#sk-container-id-4 label.sk-toggleable__label-arrow:before {content: \"▸\";float: left;margin-right: 0.25em;color: #696969;}#sk-container-id-4 label.sk-toggleable__label-arrow:hover:before {color: black;}#sk-container-id-4 div.sk-estimator:hover label.sk-toggleable__label-arrow:before {color: black;}#sk-container-id-4 div.sk-toggleable__content {max-height: 0;max-width: 0;overflow: hidden;text-align: left;background-color: #f0f8ff;}#sk-container-id-4 div.sk-toggleable__content pre {margin: 0.2em;color: black;border-radius: 0.25em;background-color: #f0f8ff;}#sk-container-id-4 input.sk-toggleable__control:checked~div.sk-toggleable__content {max-height: 200px;max-width: 100%;overflow: auto;}#sk-container-id-4 input.sk-toggleable__control:checked~label.sk-toggleable__label-arrow:before {content: \"▾\";}#sk-container-id-4 div.sk-estimator input.sk-toggleable__control:checked~label.sk-toggleable__label {background-color: #d4ebff;}#sk-container-id-4 div.sk-label input.sk-toggleable__control:checked~label.sk-toggleable__label {background-color: #d4ebff;}#sk-container-id-4 input.sk-hidden--visually {border: 0;clip: rect(1px 1px 1px 1px);clip: rect(1px, 1px, 1px, 1px);height: 1px;margin: -1px;overflow: hidden;padding: 0;position: absolute;width: 1px;}#sk-container-id-4 div.sk-estimator {font-family: monospace;background-color: #f0f8ff;border: 1px dotted black;border-radius: 0.25em;box-sizing: border-box;margin-bottom: 0.5em;}#sk-container-id-4 div.sk-estimator:hover {background-color: #d4ebff;}#sk-container-id-4 div.sk-parallel-item::after {content: \"\";width: 100%;border-bottom: 1px solid gray;flex-grow: 1;}#sk-container-id-4 div.sk-label:hover label.sk-toggleable__label {background-color: #d4ebff;}#sk-container-id-4 div.sk-serial::before {content: \"\";position: absolute;border-left: 1px solid gray;box-sizing: border-box;top: 0;bottom: 0;left: 50%;z-index: 0;}#sk-container-id-4 div.sk-serial {display: flex;flex-direction: column;align-items: center;background-color: white;padding-right: 0.2em;padding-left: 0.2em;position: relative;}#sk-container-id-4 div.sk-item {position: relative;z-index: 1;}#sk-container-id-4 div.sk-parallel {display: flex;align-items: stretch;justify-content: center;background-color: white;position: relative;}#sk-container-id-4 div.sk-item::before, #sk-container-id-4 div.sk-parallel-item::before {content: \"\";position: absolute;border-left: 1px solid gray;box-sizing: border-box;top: 0;bottom: 0;left: 50%;z-index: -1;}#sk-container-id-4 div.sk-parallel-item {display: flex;flex-direction: column;z-index: 1;position: relative;background-color: white;}#sk-container-id-4 div.sk-parallel-item:first-child::after {align-self: flex-end;width: 50%;}#sk-container-id-4 div.sk-parallel-item:last-child::after {align-self: flex-start;width: 50%;}#sk-container-id-4 div.sk-parallel-item:only-child::after {width: 0;}#sk-container-id-4 div.sk-dashed-wrapped {border: 1px dashed gray;margin: 0 0.4em 0.5em 0.4em;box-sizing: border-box;padding-bottom: 0.4em;background-color: white;}#sk-container-id-4 div.sk-label label {font-family: monospace;font-weight: bold;display: inline-block;line-height: 1.2em;}#sk-container-id-4 div.sk-label-container {text-align: center;}#sk-container-id-4 div.sk-container {/* jupyter's `normalize.less` sets `[hidden] { display: none; }` but bootstrap.min.css set `[hidden] { display: none !important; }` so we also need the `!important` here to be able to override the default hidden behavior on the sphinx rendered scikit-learn.org. See: https://github.com/scikit-learn/scikit-learn/issues/21755 */display: inline-block !important;position: relative;}#sk-container-id-4 div.sk-text-repr-fallback {display: none;}</style><div id=\"sk-container-id-4\" class=\"sk-top-container\"><div class=\"sk-text-repr-fallback\"><pre>SVC()</pre><b>In a Jupyter environment, please rerun this cell to show the HTML representation or trust the notebook. <br />On GitHub, the HTML representation is unable to render, please try loading this page with nbviewer.org.</b></div><div class=\"sk-container\" hidden><div class=\"sk-item\"><div class=\"sk-estimator sk-toggleable\"><input class=\"sk-toggleable__control sk-hidden--visually\" id=\"sk-estimator-id-4\" type=\"checkbox\" checked><label for=\"sk-estimator-id-4\" class=\"sk-toggleable__label sk-toggleable__label-arrow\">SVC</label><div class=\"sk-toggleable__content\"><pre>SVC()</pre></div></div></div></div></div>"
      ],
      "text/plain": [
       "SVC()"
      ]
     },
     "execution_count": 101,
     "metadata": {},
     "output_type": "execute_result"
    }
   ],
   "source": [
    "clf.fit(X_train,y_train)"
   ]
  },
  {
   "cell_type": "code",
   "execution_count": 102,
   "metadata": {},
   "outputs": [],
   "source": [
    "predictions=clf.predict(X_test)"
   ]
  },
  {
   "cell_type": "code",
   "execution_count": 103,
   "metadata": {},
   "outputs": [
    {
     "name": "stdout",
     "output_type": "stream",
     "text": [
      "              precision    recall  f1-score   support\n",
      "\n",
      "           0       1.00      0.99      0.99        97\n",
      "           1       0.99      1.00      0.99        84\n",
      "\n",
      "    accuracy                           0.99       181\n",
      "   macro avg       0.99      0.99      0.99       181\n",
      "weighted avg       0.99      0.99      0.99       181\n",
      "\n"
     ]
    }
   ],
   "source": [
    "print(metrics.classification_report(y_test,predictions))"
   ]
  },
  {
   "cell_type": "code",
   "execution_count": 145,
   "metadata": {},
   "outputs": [],
   "source": [
    "from sklearn.cluster import DBSCAN\n",
    "\n",
    "db = DBSCAN(eps=0.6, min_samples=8).fit(X)\n",
    "labels = db.labels_\n",
    "labels_true=y"
   ]
  },
  {
   "cell_type": "code",
   "execution_count": 146,
   "metadata": {},
   "outputs": [
    {
     "data": {
      "text/plain": [
       "29"
      ]
     },
     "execution_count": 146,
     "metadata": {},
     "output_type": "execute_result"
    }
   ],
   "source": [
    "list(labels).count(-1)"
   ]
  },
  {
   "cell_type": "code",
   "execution_count": 147,
   "metadata": {},
   "outputs": [
    {
     "name": "stdout",
     "output_type": "stream",
     "text": [
      "Estimated number of clusters: 1\n",
      "Estimated number of noise points: 29\n"
     ]
    }
   ],
   "source": [
    "n_clusters_ = len(set(labels)) - (1 if -1 in labels else 0)\n",
    "n_noise_ = list(labels).count(-1)\n",
    "\n",
    "print(\"Estimated number of clusters: %d\" % n_clusters_)\n",
    "print(\"Estimated number of noise points: %d\" % n_noise_)"
   ]
  },
  {
   "cell_type": "code",
   "execution_count": 148,
   "metadata": {},
   "outputs": [
    {
     "name": "stdout",
     "output_type": "stream",
     "text": [
      "Homogeneity: 0.490\n",
      "Completeness: 0.176\n",
      "V-measure: 0.259\n",
      "Adjusted Rand Index: 0.318\n",
      "Adjusted Mutual Information: 0.252\n",
      "Silhouette Coefficient: 0.602\n"
     ]
    }
   ],
   "source": [
    "print(f\"Homogeneity: {metrics.homogeneity_score(labels_true, labels):.3f}\")\n",
    "print(f\"Completeness: {metrics.completeness_score(labels_true, labels):.3f}\")\n",
    "print(f\"V-measure: {metrics.v_measure_score(labels_true, labels):.3f}\")\n",
    "print(f\"Adjusted Rand Index: {metrics.adjusted_rand_score(labels_true, labels):.3f}\")\n",
    "print(\n",
    "    \"Adjusted Mutual Information:\"\n",
    "    f\" {metrics.adjusted_mutual_info_score(labels_true, labels):.3f}\"\n",
    ")\n",
    "print(f\"Silhouette Coefficient: {metrics.silhouette_score(X, labels):.3f}\")"
   ]
  },
  {
   "cell_type": "code",
   "execution_count": 149,
   "metadata": {},
   "outputs": [
    {
     "data": {
      "image/png": "[encoded data removed]",
      "text/plain": [
       "<Figure size 640x480 with 1 Axes>"
      ]
     },
     "metadata": {},
     "output_type": "display_data"
    }
   ],
   "source": [
    "unique_labels = set(labels)\n",
    "core_samples_mask = np.zeros_like(labels, dtype=bool)\n",
    "core_samples_mask[db.core_sample_indices_] = True\n",
    "\n",
    "colors = [plt.cm.Spectral(each) for each in np.linspace(0, 1, len(unique_labels))]\n",
    "for k, col in zip(unique_labels, colors):\n",
    "    if k == -1:\n",
    "        # Black used for noise.\n",
    "        col = [0, 0, 0, 1]\n",
    "\n",
    "    class_member_mask = labels == k\n",
    "\n",
    "    xy = X[class_member_mask & core_samples_mask]\n",
    "    plt.plot(\n",
    "        xy[:, 0],\n",
    "        \"o\",\n",
    "        markerfacecolor=tuple(col),\n",
    "        markeredgecolor=\"k\",\n",
    "        markersize=14,\n",
    "    )\n",
    "\n",
    "    xy = X[class_member_mask & ~core_samples_mask]\n",
    "    plt.plot(\n",
    "        xy[:, 0],\n",
    "        \"o\",\n",
    "        markerfacecolor=tuple(col),\n",
    "        markeredgecolor=\"k\",\n",
    "        markersize=6,\n",
    "    )\n",
    "\n",
    "plt.title(f\"Estimated number of clusters: {n_clusters_}\")\n",
    "plt.show()"
   ]
  },
  {
   "cell_type": "code",
   "execution_count": 155,
   "metadata": {},
   "outputs": [],
   "source": [
    "from sklearn.cluster import DBSCAN\n",
    "\n",
    "db = DBSCAN(eps=0.6, min_samples=8).fit(X_sm)\n",
    "labels = db.labels_\n",
    "labels_true=y_sm"
   ]
  },
  {
   "cell_type": "code",
   "execution_count": 156,
   "metadata": {},
   "outputs": [
    {
     "name": "stdout",
     "output_type": "stream",
     "text": [
      "Estimated number of clusters: 5\n",
      "Estimated number of noise points: 138\n"
     ]
    }
   ],
   "source": [
    "n_clusters_ = len(set(labels)) - (1 if -1 in labels else 0)\n",
    "n_noise_ = list(labels).count(-1)\n",
    "\n",
    "print(\"Estimated number of clusters: %d\" % n_clusters_)\n",
    "print(\"Estimated number of noise points: %d\" % n_noise_)"
   ]
  },
  {
   "cell_type": "code",
   "execution_count": 158,
   "metadata": {},
   "outputs": [
    {
     "data": {
      "image/png": "[encoded data removed]",
      "text/plain": [
       "<Figure size 640x480 with 1 Axes>"
      ]
     },
     "metadata": {},
     "output_type": "display_data"
    }
   ],
   "source": [
    "unique_labels = set(labels)\n",
    "core_samples_mask = np.zeros_like(labels, dtype=bool)\n",
    "core_samples_mask[db.core_sample_indices_] = True\n",
    "\n",
    "colors = [plt.cm.Spectral(each) for each in np.linspace(0, 1, len(unique_labels))]\n",
    "for k, col in zip(unique_labels, colors):\n",
    "    if k == -1:\n",
    "        # Black used for noise.\n",
    "        col = [0, 0, 0, 1]\n",
    "\n",
    "    class_member_mask = labels == k\n",
    "\n",
    "    xy = X_sm[class_member_mask & core_samples_mask]\n",
    "    plt.plot(\n",
    "        xy[:, 0],\n",
    "        \"o\",\n",
    "        markerfacecolor=tuple(col),\n",
    "        markeredgecolor=\"k\",\n",
    "        markersize=14,\n",
    "    )\n",
    "\n",
    "    xy = X_sm[class_member_mask & ~core_samples_mask]\n",
    "    plt.plot(\n",
    "        xy[:, 0],\n",
    "        \"o\",\n",
    "        markerfacecolor=tuple(col),\n",
    "        markeredgecolor=\"k\",\n",
    "        markersize=6,\n",
    "    )\n",
    "\n",
    "plt.title(f\"Estimated number of clusters: {n_clusters_}\")\n",
    "plt.show()"
   ]
  },
  {
   "cell_type": "code",
   "execution_count": 195,
   "metadata": {},
   "outputs": [],
   "source": [
    "X=Boiler_B['Temperature']\n",
    "y=Boiler_B['Anomaly']"
   ]
  },
  {
   "cell_type": "code",
   "execution_count": 196,
   "metadata": {},
   "outputs": [
    {
     "data": {
      "text/plain": [
       "Anomaly\n",
       "0    215\n",
       "1      5\n",
       "Name: count, dtype: int64"
      ]
     },
     "execution_count": 196,
     "metadata": {},
     "output_type": "execute_result"
    }
   ],
   "source": [
    "y.value_counts()"
   ]
  },
  {
   "cell_type": "code",
   "execution_count": 197,
   "metadata": {},
   "outputs": [],
   "source": [
    "smote=SMOTE(sampling_strategy='minority')"
   ]
  },
  {
   "cell_type": "code",
   "execution_count": 198,
   "metadata": {},
   "outputs": [],
   "source": [
    "X=X.values.reshape(-1, 1)"
   ]
  },
  {
   "cell_type": "code",
   "execution_count": 199,
   "metadata": {},
   "outputs": [
    {
     "data": {
      "text/plain": [
       "array([[26.14881455],\n",
       "       [23.95641211],\n",
       "       [30.34398382],\n",
       "       [20.99436151],\n",
       "       [23.63517522],\n",
       "       [21.05728052],\n",
       "       [31.67375595],\n",
       "       [22.72400093],\n",
       "       [23.53926488],\n",
       "       [31.82549989],\n",
       "       [18.91977355],\n",
       "       [21.18212283],\n",
       "       [22.08989049],\n",
       "       [29.67245287],\n",
       "       [24.2217825 ],\n",
       "       [26.48313889],\n",
       "       [23.57366756],\n",
       "       [26.30230834],\n",
       "       [26.71169414],\n",
       "       [27.43630435],\n",
       "       [19.08413354],\n",
       "       [22.82289596],\n",
       "       [30.54798882],\n",
       "       [88.68052433],\n",
       "       [82.41640159],\n",
       "       [29.60045619],\n",
       "       [29.67073366],\n",
       "       [78.08339125],\n",
       "       [28.01788261],\n",
       "       [24.22711582],\n",
       "       [19.82755899],\n",
       "       [32.04525572],\n",
       "       [26.55642927],\n",
       "       [28.44134497],\n",
       "       [33.57019651],\n",
       "       [20.40107928],\n",
       "       [73.84094709],\n",
       "       [33.00167975],\n",
       "       [23.03342986],\n",
       "       [21.89319821],\n",
       "       [34.63104328],\n",
       "       [23.58222825],\n",
       "       [25.20313003],\n",
       "       [31.43971712],\n",
       "       [31.71453114],\n",
       "       [25.75149015],\n",
       "       [ 6.25080426],\n",
       "       [12.47605301],\n",
       "       [23.91329139],\n",
       "       [26.24884679],\n",
       "       [23.00964393],\n",
       "       [35.51187158],\n",
       "       [10.34919733],\n",
       "       [29.19097297],\n",
       "       [27.18880848],\n",
       "       [25.24941747],\n",
       "       [19.93328461],\n",
       "       [15.94946896],\n",
       "       [27.65435649],\n",
       "       [32.71057432],\n",
       "       [17.36747499],\n",
       "       [66.0322106 ],\n",
       "       [16.27122587],\n",
       "       [30.58644905],\n",
       "       [21.31041795],\n",
       "       [33.15516761],\n",
       "       [25.09668228],\n",
       "       [27.14937685],\n",
       "       [18.90293137],\n",
       "       [15.77757367],\n",
       "       [22.24553463],\n",
       "       [35.51248173],\n",
       "       [28.12704081],\n",
       "       [25.64475938],\n",
       "       [19.64864507],\n",
       "       [30.83055725],\n",
       "       [25.20318676],\n",
       "       [24.60030073],\n",
       "       [22.67808659],\n",
       "       [30.08405722],\n",
       "       [30.00596071],\n",
       "       [21.89363754],\n",
       "       [22.59004131],\n",
       "       [20.27202608],\n",
       "       [26.26400796],\n",
       "       [21.95677437],\n",
       "       [22.95918456],\n",
       "       [38.17790291],\n",
       "       [29.79667805],\n",
       "       [28.03122997],\n",
       "       [28.29398612],\n",
       "       [30.76149222],\n",
       "       [26.08480062],\n",
       "       [28.98594319],\n",
       "       [29.62533958],\n",
       "       [31.77543903],\n",
       "       [29.62522131],\n",
       "       [19.75654098],\n",
       "       [15.53726257],\n",
       "       [25.29708456],\n",
       "       [26.34066389],\n",
       "       [27.67769283],\n",
       "       [23.26425423],\n",
       "       [27.63286392],\n",
       "       [22.4210606 ],\n",
       "       [31.21382391],\n",
       "       [37.61661553],\n",
       "       [23.69246375],\n",
       "       [32.93294626],\n",
       "       [34.17856462],\n",
       "       [23.9304685 ],\n",
       "       [19.8493996 ],\n",
       "       [23.19659091],\n",
       "       [32.53539354],\n",
       "       [22.63507238],\n",
       "       [23.23889147],\n",
       "       [21.96742491],\n",
       "       [23.67583711],\n",
       "       [28.37053034],\n",
       "       [20.71003428],\n",
       "       [28.54812036],\n",
       "       [21.62029364],\n",
       "       [24.16636412],\n",
       "       [15.57276261],\n",
       "       [22.54178555],\n",
       "       [23.08387881],\n",
       "       [34.45812328],\n",
       "       [28.63107037],\n",
       "       [35.82776806],\n",
       "       [25.07358673],\n",
       "       [33.20857144],\n",
       "       [24.96815206],\n",
       "       [26.36479215],\n",
       "       [21.56039171],\n",
       "       [26.02927304],\n",
       "       [27.61265924],\n",
       "       [34.80201405],\n",
       "       [35.17219869],\n",
       "       [19.58150266],\n",
       "       [29.64074816],\n",
       "       [27.37412482],\n",
       "       [15.51698775],\n",
       "       [23.2913211 ],\n",
       "       [15.28793675],\n",
       "       [27.37067613],\n",
       "       [33.2026849 ],\n",
       "       [26.63149658],\n",
       "       [26.41070501],\n",
       "       [23.18001525],\n",
       "       [27.51691418],\n",
       "       [13.51289945],\n",
       "       [26.55165108],\n",
       "       [23.13132016],\n",
       "       [33.95775394],\n",
       "       [24.40723843],\n",
       "       [27.0383417 ],\n",
       "       [21.54292808],\n",
       "       [15.12879921],\n",
       "       [24.54681089],\n",
       "       [22.62613989],\n",
       "       [23.47786197],\n",
       "       [24.40374112],\n",
       "       [22.21083187],\n",
       "       [18.78532836],\n",
       "       [27.90841779],\n",
       "       [36.57789175],\n",
       "       [15.72319712],\n",
       "       [28.78021825],\n",
       "       [23.67420268],\n",
       "       [33.94410364],\n",
       "       [31.52263506],\n",
       "       [30.5874682 ],\n",
       "       [20.01270502],\n",
       "       [25.63725852],\n",
       "       [25.76868699],\n",
       "       [16.3900749 ],\n",
       "       [26.27746519],\n",
       "       [16.79146592],\n",
       "       [26.22903277],\n",
       "       [23.61161824],\n",
       "       [22.19872887],\n",
       "       [28.67378515],\n",
       "       [20.70822124],\n",
       "       [29.27181647],\n",
       "       [23.9083464 ],\n",
       "       [22.29606113],\n",
       "       [16.80554701],\n",
       "       [19.52691296],\n",
       "       [25.40041534],\n",
       "       [35.84485753],\n",
       "       [29.41487633],\n",
       "       [23.50350438],\n",
       "       [26.11602301],\n",
       "       [18.70219894],\n",
       "       [22.71898015],\n",
       "       [24.92226087],\n",
       "       [25.12063768],\n",
       "       [21.39856545],\n",
       "       [25.53349347],\n",
       "       [24.64796134],\n",
       "       [19.94661614],\n",
       "       [20.34023227],\n",
       "       [26.14179425],\n",
       "       [29.8720441 ],\n",
       "       [25.77878748],\n",
       "       [17.34676893],\n",
       "       [22.28160219],\n",
       "       [25.61094481],\n",
       "       [22.5909566 ],\n",
       "       [31.71847372],\n",
       "       [30.25944272],\n",
       "       [28.3816845 ],\n",
       "       [30.30116575],\n",
       "       [29.63247246],\n",
       "       [33.83519291],\n",
       "       [18.31893437],\n",
       "       [17.13283958],\n",
       "       [24.70384626],\n",
       "       [19.18935946],\n",
       "       [23.13524082]])"
      ]
     },
     "execution_count": 199,
     "metadata": {},
     "output_type": "execute_result"
    }
   ],
   "source": [
    "X"
   ]
  },
  {
   "cell_type": "code",
   "execution_count": 200,
   "metadata": {},
   "outputs": [],
   "source": [
    "xr, yr = SMOTE(k_neighbors=3).fit_resample(X, y)"
   ]
  },
  {
   "cell_type": "code",
   "execution_count": 201,
   "metadata": {},
   "outputs": [],
   "source": [
    "X_train,X_test,y_train,y_test=train_test_split(xr,yr,test_size=0.4,random_state=50)"
   ]
  },
  {
   "cell_type": "code",
   "execution_count": 202,
   "metadata": {},
   "outputs": [],
   "source": [
    "clf=SVC()"
   ]
  },
  {
   "cell_type": "code",
   "execution_count": 203,
   "metadata": {},
   "outputs": [
    {
     "data": {
      "text/html": [
       "<style>#sk-container-id-6 {color: black;}#sk-container-id-6 pre{padding: 0;}#sk-container-id-6 div.sk-toggleable {background-color: white;}#sk-container-id-6 label.sk-toggleable__label {cursor: pointer;display: block;width: 100%;margin-bottom: 0;padding: 0.3em;box-sizing: border-box;text-align: center;}#sk-container-id-6 label.sk-toggleable__label-arrow:before {content: \"▸\";float: left;margin-right: 0.25em;color: #696969;}#sk-container-id-6 label.sk-toggleable__label-arrow:hover:before {color: black;}#sk-container-id-6 div.sk-estimator:hover label.sk-toggleable__label-arrow:before {color: black;}#sk-container-id-6 div.sk-toggleable__content {max-height: 0;max-width: 0;overflow: hidden;text-align: left;background-color: #f0f8ff;}#sk-container-id-6 div.sk-toggleable__content pre {margin: 0.2em;color: black;border-radius: 0.25em;background-color: #f0f8ff;}#sk-container-id-6 input.sk-toggleable__control:checked~div.sk-toggleable__content {max-height: 200px;max-width: 100%;overflow: auto;}#sk-container-id-6 input.sk-toggleable__control:checked~label.sk-toggleable__label-arrow:before {content: \"▾\";}#sk-container-id-6 div.sk-estimator input.sk-toggleable__control:checked~label.sk-toggleable__label {background-color: #d4ebff;}#sk-container-id-6 div.sk-label input.sk-toggleable__control:checked~label.sk-toggleable__label {background-color: #d4ebff;}#sk-container-id-6 input.sk-hidden--visually {border: 0;clip: rect(1px 1px 1px 1px);clip: rect(1px, 1px, 1px, 1px);height: 1px;margin: -1px;overflow: hidden;padding: 0;position: absolute;width: 1px;}#sk-container-id-6 div.sk-estimator {font-family: monospace;background-color: #f0f8ff;border: 1px dotted black;border-radius: 0.25em;box-sizing: border-box;margin-bottom: 0.5em;}#sk-container-id-6 div.sk-estimator:hover {background-color: #d4ebff;}#sk-container-id-6 div.sk-parallel-item::after {content: \"\";width: 100%;border-bottom: 1px solid gray;flex-grow: 1;}#sk-container-id-6 div.sk-label:hover label.sk-toggleable__label {background-color: #d4ebff;}#sk-container-id-6 div.sk-serial::before {content: \"\";position: absolute;border-left: 1px solid gray;box-sizing: border-box;top: 0;bottom: 0;left: 50%;z-index: 0;}#sk-container-id-6 div.sk-serial {display: flex;flex-direction: column;align-items: center;background-color: white;padding-right: 0.2em;padding-left: 0.2em;position: relative;}#sk-container-id-6 div.sk-item {position: relative;z-index: 1;}#sk-container-id-6 div.sk-parallel {display: flex;align-items: stretch;justify-content: center;background-color: white;position: relative;}#sk-container-id-6 div.sk-item::before, #sk-container-id-6 div.sk-parallel-item::before {content: \"\";position: absolute;border-left: 1px solid gray;box-sizing: border-box;top: 0;bottom: 0;left: 50%;z-index: -1;}#sk-container-id-6 div.sk-parallel-item {display: flex;flex-direction: column;z-index: 1;position: relative;background-color: white;}#sk-container-id-6 div.sk-parallel-item:first-child::after {align-self: flex-end;width: 50%;}#sk-container-id-6 div.sk-parallel-item:last-child::after {align-self: flex-start;width: 50%;}#sk-container-id-6 div.sk-parallel-item:only-child::after {width: 0;}#sk-container-id-6 div.sk-dashed-wrapped {border: 1px dashed gray;margin: 0 0.4em 0.5em 0.4em;box-sizing: border-box;padding-bottom: 0.4em;background-color: white;}#sk-container-id-6 div.sk-label label {font-family: monospace;font-weight: bold;display: inline-block;line-height: 1.2em;}#sk-container-id-6 div.sk-label-container {text-align: center;}#sk-container-id-6 div.sk-container {/* jupyter's `normalize.less` sets `[hidden] { display: none; }` but bootstrap.min.css set `[hidden] { display: none !important; }` so we also need the `!important` here to be able to override the default hidden behavior on the sphinx rendered scikit-learn.org. See: https://github.com/scikit-learn/scikit-learn/issues/21755 */display: inline-block !important;position: relative;}#sk-container-id-6 div.sk-text-repr-fallback {display: none;}</style><div id=\"sk-container-id-6\" class=\"sk-top-container\"><div class=\"sk-text-repr-fallback\"><pre>SVC()</pre><b>In a Jupyter environment, please rerun this cell to show the HTML representation or trust the notebook. <br />On GitHub, the HTML representation is unable to render, please try loading this page with nbviewer.org.</b></div><div class=\"sk-container\" hidden><div class=\"sk-item\"><div class=\"sk-estimator sk-toggleable\"><input class=\"sk-toggleable__control sk-hidden--visually\" id=\"sk-estimator-id-6\" type=\"checkbox\" checked><label for=\"sk-estimator-id-6\" class=\"sk-toggleable__label sk-toggleable__label-arrow\">SVC</label><div class=\"sk-toggleable__content\"><pre>SVC()</pre></div></div></div></div></div>"
      ],
      "text/plain": [
       "SVC()"
      ]
     },
     "execution_count": 203,
     "metadata": {},
     "output_type": "execute_result"
    }
   ],
   "source": [
    "clf.fit(X_train,y_train)"
   ]
  },
  {
   "cell_type": "code",
   "execution_count": 204,
   "metadata": {},
   "outputs": [],
   "source": [
    "predictions=clf.predict(X_test)"
   ]
  },
  {
   "cell_type": "code",
   "execution_count": 205,
   "metadata": {},
   "outputs": [
    {
     "name": "stdout",
     "output_type": "stream",
     "text": [
      "              precision    recall  f1-score   support\n",
      "\n",
      "           0       1.00      1.00      1.00        98\n",
      "           1       1.00      1.00      1.00        74\n",
      "\n",
      "    accuracy                           1.00       172\n",
      "   macro avg       1.00      1.00      1.00       172\n",
      "weighted avg       1.00      1.00      1.00       172\n",
      "\n"
     ]
    }
   ],
   "source": [
    "print(metrics.classification_report(y_test,predictions))"
   ]
  },
  {
   "cell_type": "code",
   "execution_count": 209,
   "metadata": {},
   "outputs": [],
   "source": [
    "from sklearn.cluster import DBSCAN\n",
    "\n",
    "db = DBSCAN(eps=0.6, min_samples=8).fit(X)\n",
    "labels = db.labels_\n",
    "labels_true=y"
   ]
  },
  {
   "cell_type": "code",
   "execution_count": 210,
   "metadata": {},
   "outputs": [
    {
     "name": "stdout",
     "output_type": "stream",
     "text": [
      "Estimated number of clusters: 3\n",
      "Estimated number of noise points: 27\n"
     ]
    }
   ],
   "source": [
    "n_clusters_ = len(set(labels)) - (1 if -1 in labels else 0)\n",
    "n_noise_ = list(labels).count(-1)\n",
    "\n",
    "print(\"Estimated number of clusters: %d\" % n_clusters_)\n",
    "print(\"Estimated number of noise points: %d\" % n_noise_)"
   ]
  },
  {
   "cell_type": "code",
   "execution_count": 218,
   "metadata": {},
   "outputs": [
    {
     "data": {
      "image/png": "[encoded data removed]",
      "text/plain": [
       "<Figure size 640x480 with 1 Axes>"
      ]
     },
     "metadata": {},
     "output_type": "display_data"
    }
   ],
   "source": [
    "unique_labels = set(labels)\n",
    "core_samples_mask = np.zeros_like(labels, dtype=bool)\n",
    "core_samples_mask[db.core_sample_indices_] = True\n",
    "\n",
    "colors = [plt.cm.Spectral(each) for each in np.linspace(0, 1, len(unique_labels))]\n",
    "for k, col in zip(unique_labels, colors):\n",
    "    if k == -1:\n",
    "        # Black used for noise.\n",
    "        col = [0, 0, 0, 1]\n",
    "\n",
    "    class_member_mask = labels == k\n",
    "\n",
    "    xy = X[class_member_mask & core_samples_mask]\n",
    "    plt.plot(\n",
    "        xy[:, 0],\n",
    "        \"o\",\n",
    "        markerfacecolor=tuple(col),\n",
    "        markeredgecolor=\"k\",\n",
    "        markersize=14,\n",
    "    )\n",
    "\n",
    "    xy = X[class_member_mask & ~core_samples_mask]\n",
    "    plt.plot(\n",
    "        xy[:, 0],\n",
    "        \"o\",\n",
    "        markerfacecolor=tuple(col),\n",
    "        markeredgecolor=\"k\",\n",
    "        markersize=6,\n",
    "    )\n",
    "\n",
    "plt.title(f\"Estimated number of clusters: {n_clusters_}\")\n",
    "plt.show()"
   ]
  },
  {
   "cell_type": "code",
   "execution_count": 220,
   "metadata": {},
   "outputs": [],
   "source": [
    "from sklearn.cluster import DBSCAN\n",
    "\n",
    "db = DBSCAN(eps=0.6, min_samples=8).fit(xr)\n",
    "labels = db.labels_\n",
    "labels_true=yr"
   ]
  },
  {
   "cell_type": "code",
   "execution_count": 222,
   "metadata": {},
   "outputs": [
    {
     "data": {
      "image/png": "[encoded data removed]",
      "text/plain": [
       "<Figure size 640x480 with 1 Axes>"
      ]
     },
     "metadata": {},
     "output_type": "display_data"
    }
   ],
   "source": [
    "unique_labels = set(labels)\n",
    "core_samples_mask = np.zeros_like(labels, dtype=bool)\n",
    "core_samples_mask[db.core_sample_indices_] = True\n",
    "\n",
    "colors = [plt.cm.Spectral(each) for each in np.linspace(0, 1, len(unique_labels))]\n",
    "for k, col in zip(unique_labels, colors):\n",
    "    if k == -1:\n",
    "        # Black used for noise.\n",
    "        col = [0, 0, 0, 1]\n",
    "\n",
    "    class_member_mask = labels == k\n",
    "\n",
    "    xy = xr[class_member_mask & core_samples_mask]\n",
    "    plt.plot(\n",
    "        xy[:, 0],\n",
    "        \"o\",\n",
    "        markerfacecolor=tuple(col),\n",
    "        markeredgecolor=\"k\",\n",
    "        markersize=14,\n",
    "    )\n",
    "\n",
    "    xy = xr[class_member_mask & ~core_samples_mask]\n",
    "    plt.plot(\n",
    "        xy[:, 0],\n",
    "        \"o\",\n",
    "        markerfacecolor=tuple(col),\n",
    "        markeredgecolor=\"k\",\n",
    "        markersize=6,\n",
    "    )\n",
    "\n",
    "plt.title(f\"Estimated number of clusters: {n_clusters_}\")\n",
    "plt.show()"
   ]
  },
  {
   "cell_type": "code",
   "execution_count": 245,
   "metadata": {},
   "outputs": [
    {
     "data": {
      "text/plain": [
       "array([1], dtype=int64)"
      ]
     },
     "execution_count": 245,
     "metadata": {},
     "output_type": "execute_result"
    }
   ],
   "source": [
    "clf.predict([[51.6]])"
   ]
  },
  {
   "cell_type": "code",
   "execution_count": 9,
   "metadata": {},
   "outputs": [
    {
     "data": {
      "text/plain": [
       "Timestamp      2023-01-03 17:10:50\n",
       "Boiler Name               Boiler C\n",
       "Temperature              20.564032\n",
       "Anomaly                          0\n",
       "Name: 3, dtype: object"
      ]
     },
     "execution_count": 9,
     "metadata": {},
     "output_type": "execute_result"
    }
   ],
   "source": [
    "df.iloc[3,:]"
   ]
  },
  {
   "cell_type": "code",
   "execution_count": null,
   "metadata": {},
   "outputs": [],
   "source": []
  }
 ],
 "metadata": {
  "kernelspec": {
   "display_name": ".venv",
   "language": "python",
   "name": "python3"
  },
  "language_info": {
   "codemirror_mode": {
    "name": "ipython",
    "version": 3
   },
   "file_extension": ".py",
   "mimetype": "text/x-python",
   "name": "python",
   "nbconvert_exporter": "python",
   "pygments_lexer": "ipython3",
   "version": "3.11.5"
  }
 },
 "nbformat": 4,
 "nbformat_minor": 2
}
